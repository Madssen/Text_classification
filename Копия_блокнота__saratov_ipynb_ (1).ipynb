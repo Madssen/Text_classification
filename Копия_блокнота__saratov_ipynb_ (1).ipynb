{
  "nbformat": 4,
  "nbformat_minor": 0,
  "metadata": {
    "colab": {
      "provenance": [],
      "collapsed_sections": [
        "8OBo04t_VzLA",
        "Qx9nFTAvHt88",
        "dN1JUL9KHX6M",
        "YCp8yJonWYM4",
        "GeHKdAB9LhKf",
        "J60-gpXy2VXH"
      ]
    },
    "kernelspec": {
      "name": "python3",
      "display_name": "Python 3"
    },
    "language_info": {
      "name": "python"
    }
  },
  "cells": [
    {
      "cell_type": "code",
      "execution_count": null,
      "metadata": {
        "id": "W8exVIztAxqn"
      },
      "outputs": [],
      "source": []
    },
    {
      "cell_type": "markdown",
      "source": [
        "https://drive.google.com/file/d/1wkQDfUIBwY4SO5mC1JAua9d6JBa1sCcd/view?usp=sharing"
      ],
      "metadata": {
        "id": "KbydJwMOAyCq"
      }
    },
    {
      "cell_type": "code",
      "source": [
        "! gdown 1wkQDfUIBwY4SO5mC1JAua9d6JBa1sCcd"
      ],
      "metadata": {
        "colab": {
          "base_uri": "https://localhost:8080/"
        },
        "id": "m7zx2tlcA5DJ",
        "outputId": "eb967375-cd33-4d3c-ccd0-86c36d43f4b8"
      },
      "execution_count": null,
      "outputs": [
        {
          "output_type": "stream",
          "name": "stdout",
          "text": [
            "Downloading...\n",
            "From: https://drive.google.com/uc?id=1wkQDfUIBwY4SO5mC1JAua9d6JBa1sCcd\n",
            "To: /content/train_dataset_train.csv\n",
            "100% 50.5M/50.5M [00:00<00:00, 116MB/s]\n"
          ]
        }
      ]
    },
    {
      "cell_type": "code",
      "source": [
        "import pandas as pd\n",
        "import seaborn as sns\n",
        "from sklearn.metrics import f1_score"
      ],
      "metadata": {
        "id": "hzTTfFhKA5Ga"
      },
      "execution_count": null,
      "outputs": []
    },
    {
      "cell_type": "code",
      "source": [
        "import numpy as np\n",
        "import pandas as pd\n",
        "import torch\n",
        "# import transformers\n",
        "from tqdm import notebook\n",
        "from sklearn.linear_model import LogisticRegression\n",
        "from sklearn.model_selection import cross_val_score\n",
        "from sklearn.model_selection import train_test_split\n",
        "from sklearn.feature_extraction.text import TfidfVectorizer\n",
        "from sklearn.model_selection import GridSearchCV"
      ],
      "metadata": {
        "id": "9jcDQw7uNJmG"
      },
      "execution_count": null,
      "outputs": []
    },
    {
      "cell_type": "code",
      "source": [
        "import nltk\n",
        "from nltk.corpus import stopwords\n",
        "from nltk.stem import WordNetLemmatizer \n",
        "from nltk.tokenize import word_tokenize \n",
        "nltk.download('stopwords')\n",
        "nltk.download('punkt')\n",
        "nltk.download('wordnet')\n",
        "nltk.download('omw-1.4')\n",
        "import re, string"
      ],
      "metadata": {
        "colab": {
          "base_uri": "https://localhost:8080/"
        },
        "id": "pDq2r6ssNNMA",
        "outputId": "25f1efd3-81c5-4e2d-f164-1860ed0ebe92"
      },
      "execution_count": null,
      "outputs": [
        {
          "output_type": "stream",
          "name": "stderr",
          "text": [
            "[nltk_data] Downloading package stopwords to /root/nltk_data...\n",
            "[nltk_data]   Unzipping corpora/stopwords.zip.\n",
            "[nltk_data] Downloading package punkt to /root/nltk_data...\n",
            "[nltk_data]   Unzipping tokenizers/punkt.zip.\n",
            "[nltk_data] Downloading package wordnet to /root/nltk_data...\n",
            "[nltk_data] Downloading package omw-1.4 to /root/nltk_data...\n"
          ]
        }
      ]
    },
    {
      "cell_type": "code",
      "source": [
        "df = pd.read_csv('/content/train_dataset_train.csv')"
      ],
      "metadata": {
        "id": "5W1CEenTA5PW"
      },
      "execution_count": null,
      "outputs": []
    },
    {
      "cell_type": "code",
      "source": [
        "df.head()"
      ],
      "metadata": {
        "colab": {
          "base_uri": "https://localhost:8080/",
          "height": 206
        },
        "id": "KWBKohN-BHr6",
        "outputId": "6bd61520-bb97-4d72-d45c-c08a7d51e0cb"
      },
      "execution_count": null,
      "outputs": [
        {
          "output_type": "execute_result",
          "data": {
            "text/plain": [
              "     id                                               name  groups\n",
              "0  1034      ШОК-ЦЕНА Пена д/душа/бритья КУППЕР 200 мл АКС      10\n",
              "1  1035                     Мин.вода Нагутская №26    0.5л       0\n",
              "2  1036                Пельмени Домашние вес ПО Прямицино.      10\n",
              "3  1037     ПЕЧЕНЬЕ ОВСЯНО-ГРЕЧНЕВОЕ ЭКО БОТ 4600508719365      10\n",
              "4  1038  Спред растительно-жировой Масляничка 62% 170г ...      10"
            ],
            "text/html": [
              "\n",
              "  <div id=\"df-eebf9912-fdd9-4f8f-83c5-1881adee1516\">\n",
              "    <div class=\"colab-df-container\">\n",
              "      <div>\n",
              "<style scoped>\n",
              "    .dataframe tbody tr th:only-of-type {\n",
              "        vertical-align: middle;\n",
              "    }\n",
              "\n",
              "    .dataframe tbody tr th {\n",
              "        vertical-align: top;\n",
              "    }\n",
              "\n",
              "    .dataframe thead th {\n",
              "        text-align: right;\n",
              "    }\n",
              "</style>\n",
              "<table border=\"1\" class=\"dataframe\">\n",
              "  <thead>\n",
              "    <tr style=\"text-align: right;\">\n",
              "      <th></th>\n",
              "      <th>id</th>\n",
              "      <th>name</th>\n",
              "      <th>groups</th>\n",
              "    </tr>\n",
              "  </thead>\n",
              "  <tbody>\n",
              "    <tr>\n",
              "      <th>0</th>\n",
              "      <td>1034</td>\n",
              "      <td>ШОК-ЦЕНА Пена д/душа/бритья КУППЕР 200 мл АКС</td>\n",
              "      <td>10</td>\n",
              "    </tr>\n",
              "    <tr>\n",
              "      <th>1</th>\n",
              "      <td>1035</td>\n",
              "      <td>Мин.вода Нагутская №26    0.5л</td>\n",
              "      <td>0</td>\n",
              "    </tr>\n",
              "    <tr>\n",
              "      <th>2</th>\n",
              "      <td>1036</td>\n",
              "      <td>Пельмени Домашние вес ПО Прямицино.</td>\n",
              "      <td>10</td>\n",
              "    </tr>\n",
              "    <tr>\n",
              "      <th>3</th>\n",
              "      <td>1037</td>\n",
              "      <td>ПЕЧЕНЬЕ ОВСЯНО-ГРЕЧНЕВОЕ ЭКО БОТ 4600508719365</td>\n",
              "      <td>10</td>\n",
              "    </tr>\n",
              "    <tr>\n",
              "      <th>4</th>\n",
              "      <td>1038</td>\n",
              "      <td>Спред растительно-жировой Масляничка 62% 170г ...</td>\n",
              "      <td>10</td>\n",
              "    </tr>\n",
              "  </tbody>\n",
              "</table>\n",
              "</div>\n",
              "      <button class=\"colab-df-convert\" onclick=\"convertToInteractive('df-eebf9912-fdd9-4f8f-83c5-1881adee1516')\"\n",
              "              title=\"Convert this dataframe to an interactive table.\"\n",
              "              style=\"display:none;\">\n",
              "        \n",
              "  <svg xmlns=\"http://www.w3.org/2000/svg\" height=\"24px\"viewBox=\"0 0 24 24\"\n",
              "       width=\"24px\">\n",
              "    <path d=\"M0 0h24v24H0V0z\" fill=\"none\"/>\n",
              "    <path d=\"M18.56 5.44l.94 2.06.94-2.06 2.06-.94-2.06-.94-.94-2.06-.94 2.06-2.06.94zm-11 1L8.5 8.5l.94-2.06 2.06-.94-2.06-.94L8.5 2.5l-.94 2.06-2.06.94zm10 10l.94 2.06.94-2.06 2.06-.94-2.06-.94-.94-2.06-.94 2.06-2.06.94z\"/><path d=\"M17.41 7.96l-1.37-1.37c-.4-.4-.92-.59-1.43-.59-.52 0-1.04.2-1.43.59L10.3 9.45l-7.72 7.72c-.78.78-.78 2.05 0 2.83L4 21.41c.39.39.9.59 1.41.59.51 0 1.02-.2 1.41-.59l7.78-7.78 2.81-2.81c.8-.78.8-2.07 0-2.86zM5.41 20L4 18.59l7.72-7.72 1.47 1.35L5.41 20z\"/>\n",
              "  </svg>\n",
              "      </button>\n",
              "      \n",
              "  <style>\n",
              "    .colab-df-container {\n",
              "      display:flex;\n",
              "      flex-wrap:wrap;\n",
              "      gap: 12px;\n",
              "    }\n",
              "\n",
              "    .colab-df-convert {\n",
              "      background-color: #E8F0FE;\n",
              "      border: none;\n",
              "      border-radius: 50%;\n",
              "      cursor: pointer;\n",
              "      display: none;\n",
              "      fill: #1967D2;\n",
              "      height: 32px;\n",
              "      padding: 0 0 0 0;\n",
              "      width: 32px;\n",
              "    }\n",
              "\n",
              "    .colab-df-convert:hover {\n",
              "      background-color: #E2EBFA;\n",
              "      box-shadow: 0px 1px 2px rgba(60, 64, 67, 0.3), 0px 1px 3px 1px rgba(60, 64, 67, 0.15);\n",
              "      fill: #174EA6;\n",
              "    }\n",
              "\n",
              "    [theme=dark] .colab-df-convert {\n",
              "      background-color: #3B4455;\n",
              "      fill: #D2E3FC;\n",
              "    }\n",
              "\n",
              "    [theme=dark] .colab-df-convert:hover {\n",
              "      background-color: #434B5C;\n",
              "      box-shadow: 0px 1px 3px 1px rgba(0, 0, 0, 0.15);\n",
              "      filter: drop-shadow(0px 1px 2px rgba(0, 0, 0, 0.3));\n",
              "      fill: #FFFFFF;\n",
              "    }\n",
              "  </style>\n",
              "\n",
              "      <script>\n",
              "        const buttonEl =\n",
              "          document.querySelector('#df-eebf9912-fdd9-4f8f-83c5-1881adee1516 button.colab-df-convert');\n",
              "        buttonEl.style.display =\n",
              "          google.colab.kernel.accessAllowed ? 'block' : 'none';\n",
              "\n",
              "        async function convertToInteractive(key) {\n",
              "          const element = document.querySelector('#df-eebf9912-fdd9-4f8f-83c5-1881adee1516');\n",
              "          const dataTable =\n",
              "            await google.colab.kernel.invokeFunction('convertToInteractive',\n",
              "                                                     [key], {});\n",
              "          if (!dataTable) return;\n",
              "\n",
              "          const docLinkHtml = 'Like what you see? Visit the ' +\n",
              "            '<a target=\"_blank\" href=https://colab.research.google.com/notebooks/data_table.ipynb>data table notebook</a>'\n",
              "            + ' to learn more about interactive tables.';\n",
              "          element.innerHTML = '';\n",
              "          dataTable['output_type'] = 'display_data';\n",
              "          await google.colab.output.renderOutput(dataTable, element);\n",
              "          const docLink = document.createElement('div');\n",
              "          docLink.innerHTML = docLinkHtml;\n",
              "          element.appendChild(docLink);\n",
              "        }\n",
              "      </script>\n",
              "    </div>\n",
              "  </div>\n",
              "  "
            ]
          },
          "metadata": {},
          "execution_count": 9
        }
      ]
    },
    {
      "cell_type": "code",
      "source": [
        "df.info()"
      ],
      "metadata": {
        "colab": {
          "base_uri": "https://localhost:8080/"
        },
        "id": "VP2l5ab0SFvh",
        "outputId": "29c2a34c-62b3-45a4-8252-393eec421491"
      },
      "execution_count": null,
      "outputs": [
        {
          "output_type": "stream",
          "name": "stdout",
          "text": [
            "<class 'pandas.core.frame.DataFrame'>\n",
            "RangeIndex: 658064 entries, 0 to 658063\n",
            "Data columns (total 3 columns):\n",
            " #   Column  Non-Null Count   Dtype \n",
            "---  ------  --------------   ----- \n",
            " 0   id      658064 non-null  int64 \n",
            " 1   name    658064 non-null  object\n",
            " 2   groups  658064 non-null  int64 \n",
            "dtypes: int64(2), object(1)\n",
            "memory usage: 15.1+ MB\n"
          ]
        }
      ]
    },
    {
      "cell_type": "code",
      "source": [
        "df.isna().sum()"
      ],
      "metadata": {
        "id": "x-ZVUt3DBHot",
        "colab": {
          "base_uri": "https://localhost:8080/"
        },
        "outputId": "d7f37c29-e6f4-49dd-90f5-71104b0469fa"
      },
      "execution_count": null,
      "outputs": [
        {
          "output_type": "execute_result",
          "data": {
            "text/plain": [
              "id        0\n",
              "name      0\n",
              "groups    0\n",
              "dtype: int64"
            ]
          },
          "metadata": {},
          "execution_count": 8
        }
      ]
    },
    {
      "cell_type": "code",
      "source": [
        "# Функция для очистки текста \n",
        "def clean_text(text):\n",
        "  text = text.lower()\n",
        "  return \" \".join(re.sub(r\"[^а-яa-z]\", ' ', text).split()) \n",
        " \n",
        "# создаем список для хранения преобразованных данных \n",
        "processed_text = []\n",
        "# загружаем стоп-слова для английского языка\n",
        "stop_words = stopwords.words('russian')\n",
        "# инициализируем лемматайзер \n",
        "lemmatizer = WordNetLemmatizer()\n",
        " \n",
        "# для каждого сообщения text из столбца data['Message']\n",
        "for text in df['name']:\n",
        "    # cleaning \n",
        "    text = clean_text(text)   \n",
        "    # tokenization\n",
        "    text = word_tokenize(text)       \n",
        "    # удаление стоп-слов\n",
        "    text = [word for word in text if word not in stop_words]\n",
        "   \n",
        "    # лемматизация\n",
        "    text = [lemmatizer.lemmatize(w) for w in text]\n",
        "\n",
        "    text = [word for word in text if len(word) >= 3]       #исключить короткие слова и символы  \n",
        "    \n",
        "    # добавляем преобразованный текст в список processed_text\n",
        "    processed_text.append(text)\n",
        " \n",
        "# Сохраняем результат преобразования в новой колонке 'Processed_msg'\n"
      ],
      "metadata": {
        "id": "ngi6VCNdMrTI"
      },
      "execution_count": null,
      "outputs": []
    },
    {
      "cell_type": "code",
      "source": [
        "df['lemm_text'] = processed_text"
      ],
      "metadata": {
        "id": "dtLG0o6eGm05"
      },
      "execution_count": null,
      "outputs": []
    },
    {
      "cell_type": "code",
      "source": [
        "df"
      ],
      "metadata": {
        "colab": {
          "base_uri": "https://localhost:8080/",
          "height": 424
        },
        "id": "klZDLL2uMrKn",
        "outputId": "f3df6cac-d36c-498b-e80b-52ed68dfa85f"
      },
      "execution_count": null,
      "outputs": [
        {
          "output_type": "execute_result",
          "data": {
            "text/plain": [
              "            id                                               name  groups  \\\n",
              "0         1034      ШОК-ЦЕНА Пена д/душа/бритья КУППЕР 200 мл АКС      10   \n",
              "1         1035                     Мин.вода Нагутская №26    0.5л       0   \n",
              "2         1036                Пельмени Домашние вес ПО Прямицино.      10   \n",
              "3         1037     ПЕЧЕНЬЕ ОВСЯНО-ГРЕЧНЕВОЕ ЭКО БОТ 4600508719365      10   \n",
              "4         1038  Спред растительно-жировой Масляничка 62% 170г ...      10   \n",
              "...        ...                                                ...     ...   \n",
              "658059  659093                   КАРАЧИНСКАЯ 1,5 л *6 шт мин вода       0   \n",
              "658060  659094                      Хлеб ДОНСКОЙ 350г Рузский х/з       9   \n",
              "658061  659095  Печенье сахарное FORSITE Сэндвич с шоколадно-с...       6   \n",
              "658062  659096          Хлеб Бабушкин подов пшен 0,55кг п/уп(ШХЗ)       9   \n",
              "658063  659097                 Газ.напиток ЭКСТРА-СИТРО ст/б 0.5л       4   \n",
              "\n",
              "                                                lemm_text  \\\n",
              "0            [шок, цена, пена, душа, бритья, куппер, акс]   \n",
              "1                                  [мин, вода, нагутская]   \n",
              "2                    [пельмени, домашние, вес, прямицино]   \n",
              "3                  [печенье, овсяно, гречневое, эко, бот]   \n",
              "4          [спред, растительно, жировой, масляничка, змж]   \n",
              "...                                                   ...   \n",
              "658059                           [карачинская, мин, вода]   \n",
              "658060                           [хлеб, донской, рузский]   \n",
              "658061  [печенье, сахарное, forsite, сэндвич, шоколадн...   \n",
              "658062                 [хлеб, бабушкин, подов, пшен, шхз]   \n",
              "658063                      [газ, напиток, экстра, ситро]   \n",
              "\n",
              "                                            lemm_text_str  \n",
              "0               шок цена пена д душа бритья куппер мл акс  \n",
              "1                                    мин вода нагутская л  \n",
              "2                         пельмени домашние вес прямицино  \n",
              "3                        печенье овсяно гречневое эко бот  \n",
              "4              спред растительно жировой масляничка г змж  \n",
              "...                                                   ...  \n",
              "658059                          карачинская л шт мин вода  \n",
              "658060                         хлеб донской г рузский х з  \n",
              "658061  печенье сахарное forsite сэндвич шоколадно сли...  \n",
              "658062               хлеб бабушкин подов пшен кг п уп шхз  \n",
              "658063                    газ напиток экстра ситро ст б л  \n",
              "\n",
              "[658064 rows x 5 columns]"
            ],
            "text/html": [
              "\n",
              "  <div id=\"df-4e58b8e2-3071-48ff-9472-087fcca3809a\">\n",
              "    <div class=\"colab-df-container\">\n",
              "      <div>\n",
              "<style scoped>\n",
              "    .dataframe tbody tr th:only-of-type {\n",
              "        vertical-align: middle;\n",
              "    }\n",
              "\n",
              "    .dataframe tbody tr th {\n",
              "        vertical-align: top;\n",
              "    }\n",
              "\n",
              "    .dataframe thead th {\n",
              "        text-align: right;\n",
              "    }\n",
              "</style>\n",
              "<table border=\"1\" class=\"dataframe\">\n",
              "  <thead>\n",
              "    <tr style=\"text-align: right;\">\n",
              "      <th></th>\n",
              "      <th>id</th>\n",
              "      <th>name</th>\n",
              "      <th>groups</th>\n",
              "      <th>lemm_text</th>\n",
              "      <th>lemm_text_str</th>\n",
              "    </tr>\n",
              "  </thead>\n",
              "  <tbody>\n",
              "    <tr>\n",
              "      <th>0</th>\n",
              "      <td>1034</td>\n",
              "      <td>ШОК-ЦЕНА Пена д/душа/бритья КУППЕР 200 мл АКС</td>\n",
              "      <td>10</td>\n",
              "      <td>[шок, цена, пена, душа, бритья, куппер, акс]</td>\n",
              "      <td>шок цена пена д душа бритья куппер мл акс</td>\n",
              "    </tr>\n",
              "    <tr>\n",
              "      <th>1</th>\n",
              "      <td>1035</td>\n",
              "      <td>Мин.вода Нагутская №26    0.5л</td>\n",
              "      <td>0</td>\n",
              "      <td>[мин, вода, нагутская]</td>\n",
              "      <td>мин вода нагутская л</td>\n",
              "    </tr>\n",
              "    <tr>\n",
              "      <th>2</th>\n",
              "      <td>1036</td>\n",
              "      <td>Пельмени Домашние вес ПО Прямицино.</td>\n",
              "      <td>10</td>\n",
              "      <td>[пельмени, домашние, вес, прямицино]</td>\n",
              "      <td>пельмени домашние вес прямицино</td>\n",
              "    </tr>\n",
              "    <tr>\n",
              "      <th>3</th>\n",
              "      <td>1037</td>\n",
              "      <td>ПЕЧЕНЬЕ ОВСЯНО-ГРЕЧНЕВОЕ ЭКО БОТ 4600508719365</td>\n",
              "      <td>10</td>\n",
              "      <td>[печенье, овсяно, гречневое, эко, бот]</td>\n",
              "      <td>печенье овсяно гречневое эко бот</td>\n",
              "    </tr>\n",
              "    <tr>\n",
              "      <th>4</th>\n",
              "      <td>1038</td>\n",
              "      <td>Спред растительно-жировой Масляничка 62% 170г ...</td>\n",
              "      <td>10</td>\n",
              "      <td>[спред, растительно, жировой, масляничка, змж]</td>\n",
              "      <td>спред растительно жировой масляничка г змж</td>\n",
              "    </tr>\n",
              "    <tr>\n",
              "      <th>...</th>\n",
              "      <td>...</td>\n",
              "      <td>...</td>\n",
              "      <td>...</td>\n",
              "      <td>...</td>\n",
              "      <td>...</td>\n",
              "    </tr>\n",
              "    <tr>\n",
              "      <th>658059</th>\n",
              "      <td>659093</td>\n",
              "      <td>КАРАЧИНСКАЯ 1,5 л *6 шт мин вода</td>\n",
              "      <td>0</td>\n",
              "      <td>[карачинская, мин, вода]</td>\n",
              "      <td>карачинская л шт мин вода</td>\n",
              "    </tr>\n",
              "    <tr>\n",
              "      <th>658060</th>\n",
              "      <td>659094</td>\n",
              "      <td>Хлеб ДОНСКОЙ 350г Рузский х/з</td>\n",
              "      <td>9</td>\n",
              "      <td>[хлеб, донской, рузский]</td>\n",
              "      <td>хлеб донской г рузский х з</td>\n",
              "    </tr>\n",
              "    <tr>\n",
              "      <th>658061</th>\n",
              "      <td>659095</td>\n",
              "      <td>Печенье сахарное FORSITE Сэндвич с шоколадно-с...</td>\n",
              "      <td>6</td>\n",
              "      <td>[печенье, сахарное, forsite, сэндвич, шоколадн...</td>\n",
              "      <td>печенье сахарное forsite сэндвич шоколадно сли...</td>\n",
              "    </tr>\n",
              "    <tr>\n",
              "      <th>658062</th>\n",
              "      <td>659096</td>\n",
              "      <td>Хлеб Бабушкин подов пшен 0,55кг п/уп(ШХЗ)</td>\n",
              "      <td>9</td>\n",
              "      <td>[хлеб, бабушкин, подов, пшен, шхз]</td>\n",
              "      <td>хлеб бабушкин подов пшен кг п уп шхз</td>\n",
              "    </tr>\n",
              "    <tr>\n",
              "      <th>658063</th>\n",
              "      <td>659097</td>\n",
              "      <td>Газ.напиток ЭКСТРА-СИТРО ст/б 0.5л</td>\n",
              "      <td>4</td>\n",
              "      <td>[газ, напиток, экстра, ситро]</td>\n",
              "      <td>газ напиток экстра ситро ст б л</td>\n",
              "    </tr>\n",
              "  </tbody>\n",
              "</table>\n",
              "<p>658064 rows × 5 columns</p>\n",
              "</div>\n",
              "      <button class=\"colab-df-convert\" onclick=\"convertToInteractive('df-4e58b8e2-3071-48ff-9472-087fcca3809a')\"\n",
              "              title=\"Convert this dataframe to an interactive table.\"\n",
              "              style=\"display:none;\">\n",
              "        \n",
              "  <svg xmlns=\"http://www.w3.org/2000/svg\" height=\"24px\"viewBox=\"0 0 24 24\"\n",
              "       width=\"24px\">\n",
              "    <path d=\"M0 0h24v24H0V0z\" fill=\"none\"/>\n",
              "    <path d=\"M18.56 5.44l.94 2.06.94-2.06 2.06-.94-2.06-.94-.94-2.06-.94 2.06-2.06.94zm-11 1L8.5 8.5l.94-2.06 2.06-.94-2.06-.94L8.5 2.5l-.94 2.06-2.06.94zm10 10l.94 2.06.94-2.06 2.06-.94-2.06-.94-.94-2.06-.94 2.06-2.06.94z\"/><path d=\"M17.41 7.96l-1.37-1.37c-.4-.4-.92-.59-1.43-.59-.52 0-1.04.2-1.43.59L10.3 9.45l-7.72 7.72c-.78.78-.78 2.05 0 2.83L4 21.41c.39.39.9.59 1.41.59.51 0 1.02-.2 1.41-.59l7.78-7.78 2.81-2.81c.8-.78.8-2.07 0-2.86zM5.41 20L4 18.59l7.72-7.72 1.47 1.35L5.41 20z\"/>\n",
              "  </svg>\n",
              "      </button>\n",
              "      \n",
              "  <style>\n",
              "    .colab-df-container {\n",
              "      display:flex;\n",
              "      flex-wrap:wrap;\n",
              "      gap: 12px;\n",
              "    }\n",
              "\n",
              "    .colab-df-convert {\n",
              "      background-color: #E8F0FE;\n",
              "      border: none;\n",
              "      border-radius: 50%;\n",
              "      cursor: pointer;\n",
              "      display: none;\n",
              "      fill: #1967D2;\n",
              "      height: 32px;\n",
              "      padding: 0 0 0 0;\n",
              "      width: 32px;\n",
              "    }\n",
              "\n",
              "    .colab-df-convert:hover {\n",
              "      background-color: #E2EBFA;\n",
              "      box-shadow: 0px 1px 2px rgba(60, 64, 67, 0.3), 0px 1px 3px 1px rgba(60, 64, 67, 0.15);\n",
              "      fill: #174EA6;\n",
              "    }\n",
              "\n",
              "    [theme=dark] .colab-df-convert {\n",
              "      background-color: #3B4455;\n",
              "      fill: #D2E3FC;\n",
              "    }\n",
              "\n",
              "    [theme=dark] .colab-df-convert:hover {\n",
              "      background-color: #434B5C;\n",
              "      box-shadow: 0px 1px 3px 1px rgba(0, 0, 0, 0.15);\n",
              "      filter: drop-shadow(0px 1px 2px rgba(0, 0, 0, 0.3));\n",
              "      fill: #FFFFFF;\n",
              "    }\n",
              "  </style>\n",
              "\n",
              "      <script>\n",
              "        const buttonEl =\n",
              "          document.querySelector('#df-4e58b8e2-3071-48ff-9472-087fcca3809a button.colab-df-convert');\n",
              "        buttonEl.style.display =\n",
              "          google.colab.kernel.accessAllowed ? 'block' : 'none';\n",
              "\n",
              "        async function convertToInteractive(key) {\n",
              "          const element = document.querySelector('#df-4e58b8e2-3071-48ff-9472-087fcca3809a');\n",
              "          const dataTable =\n",
              "            await google.colab.kernel.invokeFunction('convertToInteractive',\n",
              "                                                     [key], {});\n",
              "          if (!dataTable) return;\n",
              "\n",
              "          const docLinkHtml = 'Like what you see? Visit the ' +\n",
              "            '<a target=\"_blank\" href=https://colab.research.google.com/notebooks/data_table.ipynb>data table notebook</a>'\n",
              "            + ' to learn more about interactive tables.';\n",
              "          element.innerHTML = '';\n",
              "          dataTable['output_type'] = 'display_data';\n",
              "          await google.colab.output.renderOutput(dataTable, element);\n",
              "          const docLink = document.createElement('div');\n",
              "          docLink.innerHTML = docLinkHtml;\n",
              "          element.appendChild(docLink);\n",
              "        }\n",
              "      </script>\n",
              "    </div>\n",
              "  </div>\n",
              "  "
            ]
          },
          "metadata": {},
          "execution_count": 121
        }
      ]
    },
    {
      "cell_type": "code",
      "source": [
        "sns.countplot(x='groups', data=df, palette='coolwarm');"
      ],
      "metadata": {
        "colab": {
          "base_uri": "https://localhost:8080/",
          "height": 279
        },
        "id": "ssUdgwrMUcet",
        "outputId": "f245d63e-0d73-4536-874f-3e4dca77d0ab"
      },
      "execution_count": null,
      "outputs": [
        {
          "output_type": "display_data",
          "data": {
            "text/plain": [
              "<Figure size 432x288 with 1 Axes>"
            ],
            "image/png": "[encoded data removed]"
          },
          "metadata": {
            "needs_background": "light"
          }
        }
      ]
    },
    {
      "cell_type": "code",
      "source": [
        "df['lemm_text_str'] = df['lemm_text'].apply(lambda x: ' '.join(x))"
      ],
      "metadata": {
        "id": "rzR6qQ4cUtPy"
      },
      "execution_count": null,
      "outputs": []
    },
    {
      "cell_type": "code",
      "source": [
        "df"
      ],
      "metadata": {
        "colab": {
          "base_uri": "https://localhost:8080/",
          "height": 424
        },
        "id": "88HMMLG-UcEN",
        "outputId": "4c58b25a-00bc-4835-d635-032f4243217b"
      },
      "execution_count": null,
      "outputs": [
        {
          "output_type": "execute_result",
          "data": {
            "text/plain": [
              "            id                                               name  groups  \\\n",
              "0         1034      ШОК-ЦЕНА Пена д/душа/бритья КУППЕР 200 мл АКС      10   \n",
              "1         1035                     Мин.вода Нагутская №26    0.5л       0   \n",
              "2         1036                Пельмени Домашние вес ПО Прямицино.      10   \n",
              "3         1037     ПЕЧЕНЬЕ ОВСЯНО-ГРЕЧНЕВОЕ ЭКО БОТ 4600508719365      10   \n",
              "4         1038  Спред растительно-жировой Масляничка 62% 170г ...      10   \n",
              "...        ...                                                ...     ...   \n",
              "658059  659093                   КАРАЧИНСКАЯ 1,5 л *6 шт мин вода       0   \n",
              "658060  659094                      Хлеб ДОНСКОЙ 350г Рузский х/з       9   \n",
              "658061  659095  Печенье сахарное FORSITE Сэндвич с шоколадно-с...       6   \n",
              "658062  659096          Хлеб Бабушкин подов пшен 0,55кг п/уп(ШХЗ)       9   \n",
              "658063  659097                 Газ.напиток ЭКСТРА-СИТРО ст/б 0.5л       4   \n",
              "\n",
              "                                                lemm_text  \\\n",
              "0            [шок, цена, пена, душа, бритья, куппер, акс]   \n",
              "1                                  [мин, вода, нагутская]   \n",
              "2                    [пельмени, домашние, вес, прямицино]   \n",
              "3                  [печенье, овсяно, гречневое, эко, бот]   \n",
              "4          [спред, растительно, жировой, масляничка, змж]   \n",
              "...                                                   ...   \n",
              "658059                           [карачинская, мин, вода]   \n",
              "658060                           [хлеб, донской, рузский]   \n",
              "658061  [печенье, сахарное, forsite, сэндвич, шоколадн...   \n",
              "658062                 [хлеб, бабушкин, подов, пшен, шхз]   \n",
              "658063                      [газ, напиток, экстра, ситро]   \n",
              "\n",
              "                                            lemm_text_str  \n",
              "0                    шок цена пена душа бритья куппер акс  \n",
              "1                                      мин вода нагутская  \n",
              "2                         пельмени домашние вес прямицино  \n",
              "3                        печенье овсяно гречневое эко бот  \n",
              "4                спред растительно жировой масляничка змж  \n",
              "...                                                   ...  \n",
              "658059                               карачинская мин вода  \n",
              "658060                               хлеб донской рузский  \n",
              "658061  печенье сахарное forsite сэндвич шоколадно сли...  \n",
              "658062                       хлеб бабушкин подов пшен шхз  \n",
              "658063                           газ напиток экстра ситро  \n",
              "\n",
              "[658064 rows x 5 columns]"
            ],
            "text/html": [
              "\n",
              "  <div id=\"df-bc4df748-c511-48d2-90a5-8e3c34f5d3cb\">\n",
              "    <div class=\"colab-df-container\">\n",
              "      <div>\n",
              "<style scoped>\n",
              "    .dataframe tbody tr th:only-of-type {\n",
              "        vertical-align: middle;\n",
              "    }\n",
              "\n",
              "    .dataframe tbody tr th {\n",
              "        vertical-align: top;\n",
              "    }\n",
              "\n",
              "    .dataframe thead th {\n",
              "        text-align: right;\n",
              "    }\n",
              "</style>\n",
              "<table border=\"1\" class=\"dataframe\">\n",
              "  <thead>\n",
              "    <tr style=\"text-align: right;\">\n",
              "      <th></th>\n",
              "      <th>id</th>\n",
              "      <th>name</th>\n",
              "      <th>groups</th>\n",
              "      <th>lemm_text</th>\n",
              "      <th>lemm_text_str</th>\n",
              "    </tr>\n",
              "  </thead>\n",
              "  <tbody>\n",
              "    <tr>\n",
              "      <th>0</th>\n",
              "      <td>1034</td>\n",
              "      <td>ШОК-ЦЕНА Пена д/душа/бритья КУППЕР 200 мл АКС</td>\n",
              "      <td>10</td>\n",
              "      <td>[шок, цена, пена, душа, бритья, куппер, акс]</td>\n",
              "      <td>шок цена пена душа бритья куппер акс</td>\n",
              "    </tr>\n",
              "    <tr>\n",
              "      <th>1</th>\n",
              "      <td>1035</td>\n",
              "      <td>Мин.вода Нагутская №26    0.5л</td>\n",
              "      <td>0</td>\n",
              "      <td>[мин, вода, нагутская]</td>\n",
              "      <td>мин вода нагутская</td>\n",
              "    </tr>\n",
              "    <tr>\n",
              "      <th>2</th>\n",
              "      <td>1036</td>\n",
              "      <td>Пельмени Домашние вес ПО Прямицино.</td>\n",
              "      <td>10</td>\n",
              "      <td>[пельмени, домашние, вес, прямицино]</td>\n",
              "      <td>пельмени домашние вес прямицино</td>\n",
              "    </tr>\n",
              "    <tr>\n",
              "      <th>3</th>\n",
              "      <td>1037</td>\n",
              "      <td>ПЕЧЕНЬЕ ОВСЯНО-ГРЕЧНЕВОЕ ЭКО БОТ 4600508719365</td>\n",
              "      <td>10</td>\n",
              "      <td>[печенье, овсяно, гречневое, эко, бот]</td>\n",
              "      <td>печенье овсяно гречневое эко бот</td>\n",
              "    </tr>\n",
              "    <tr>\n",
              "      <th>4</th>\n",
              "      <td>1038</td>\n",
              "      <td>Спред растительно-жировой Масляничка 62% 170г ...</td>\n",
              "      <td>10</td>\n",
              "      <td>[спред, растительно, жировой, масляничка, змж]</td>\n",
              "      <td>спред растительно жировой масляничка змж</td>\n",
              "    </tr>\n",
              "    <tr>\n",
              "      <th>...</th>\n",
              "      <td>...</td>\n",
              "      <td>...</td>\n",
              "      <td>...</td>\n",
              "      <td>...</td>\n",
              "      <td>...</td>\n",
              "    </tr>\n",
              "    <tr>\n",
              "      <th>658059</th>\n",
              "      <td>659093</td>\n",
              "      <td>КАРАЧИНСКАЯ 1,5 л *6 шт мин вода</td>\n",
              "      <td>0</td>\n",
              "      <td>[карачинская, мин, вода]</td>\n",
              "      <td>карачинская мин вода</td>\n",
              "    </tr>\n",
              "    <tr>\n",
              "      <th>658060</th>\n",
              "      <td>659094</td>\n",
              "      <td>Хлеб ДОНСКОЙ 350г Рузский х/з</td>\n",
              "      <td>9</td>\n",
              "      <td>[хлеб, донской, рузский]</td>\n",
              "      <td>хлеб донской рузский</td>\n",
              "    </tr>\n",
              "    <tr>\n",
              "      <th>658061</th>\n",
              "      <td>659095</td>\n",
              "      <td>Печенье сахарное FORSITE Сэндвич с шоколадно-с...</td>\n",
              "      <td>6</td>\n",
              "      <td>[печенье, сахарное, forsite, сэндвич, шоколадн...</td>\n",
              "      <td>печенье сахарное forsite сэндвич шоколадно сли...</td>\n",
              "    </tr>\n",
              "    <tr>\n",
              "      <th>658062</th>\n",
              "      <td>659096</td>\n",
              "      <td>Хлеб Бабушкин подов пшен 0,55кг п/уп(ШХЗ)</td>\n",
              "      <td>9</td>\n",
              "      <td>[хлеб, бабушкин, подов, пшен, шхз]</td>\n",
              "      <td>хлеб бабушкин подов пшен шхз</td>\n",
              "    </tr>\n",
              "    <tr>\n",
              "      <th>658063</th>\n",
              "      <td>659097</td>\n",
              "      <td>Газ.напиток ЭКСТРА-СИТРО ст/б 0.5л</td>\n",
              "      <td>4</td>\n",
              "      <td>[газ, напиток, экстра, ситро]</td>\n",
              "      <td>газ напиток экстра ситро</td>\n",
              "    </tr>\n",
              "  </tbody>\n",
              "</table>\n",
              "<p>658064 rows × 5 columns</p>\n",
              "</div>\n",
              "      <button class=\"colab-df-convert\" onclick=\"convertToInteractive('df-bc4df748-c511-48d2-90a5-8e3c34f5d3cb')\"\n",
              "              title=\"Convert this dataframe to an interactive table.\"\n",
              "              style=\"display:none;\">\n",
              "        \n",
              "  <svg xmlns=\"http://www.w3.org/2000/svg\" height=\"24px\"viewBox=\"0 0 24 24\"\n",
              "       width=\"24px\">\n",
              "    <path d=\"M0 0h24v24H0V0z\" fill=\"none\"/>\n",
              "    <path d=\"M18.56 5.44l.94 2.06.94-2.06 2.06-.94-2.06-.94-.94-2.06-.94 2.06-2.06.94zm-11 1L8.5 8.5l.94-2.06 2.06-.94-2.06-.94L8.5 2.5l-.94 2.06-2.06.94zm10 10l.94 2.06.94-2.06 2.06-.94-2.06-.94-.94-2.06-.94 2.06-2.06.94z\"/><path d=\"M17.41 7.96l-1.37-1.37c-.4-.4-.92-.59-1.43-.59-.52 0-1.04.2-1.43.59L10.3 9.45l-7.72 7.72c-.78.78-.78 2.05 0 2.83L4 21.41c.39.39.9.59 1.41.59.51 0 1.02-.2 1.41-.59l7.78-7.78 2.81-2.81c.8-.78.8-2.07 0-2.86zM5.41 20L4 18.59l7.72-7.72 1.47 1.35L5.41 20z\"/>\n",
              "  </svg>\n",
              "      </button>\n",
              "      \n",
              "  <style>\n",
              "    .colab-df-container {\n",
              "      display:flex;\n",
              "      flex-wrap:wrap;\n",
              "      gap: 12px;\n",
              "    }\n",
              "\n",
              "    .colab-df-convert {\n",
              "      background-color: #E8F0FE;\n",
              "      border: none;\n",
              "      border-radius: 50%;\n",
              "      cursor: pointer;\n",
              "      display: none;\n",
              "      fill: #1967D2;\n",
              "      height: 32px;\n",
              "      padding: 0 0 0 0;\n",
              "      width: 32px;\n",
              "    }\n",
              "\n",
              "    .colab-df-convert:hover {\n",
              "      background-color: #E2EBFA;\n",
              "      box-shadow: 0px 1px 2px rgba(60, 64, 67, 0.3), 0px 1px 3px 1px rgba(60, 64, 67, 0.15);\n",
              "      fill: #174EA6;\n",
              "    }\n",
              "\n",
              "    [theme=dark] .colab-df-convert {\n",
              "      background-color: #3B4455;\n",
              "      fill: #D2E3FC;\n",
              "    }\n",
              "\n",
              "    [theme=dark] .colab-df-convert:hover {\n",
              "      background-color: #434B5C;\n",
              "      box-shadow: 0px 1px 3px 1px rgba(0, 0, 0, 0.15);\n",
              "      filter: drop-shadow(0px 1px 2px rgba(0, 0, 0, 0.3));\n",
              "      fill: #FFFFFF;\n",
              "    }\n",
              "  </style>\n",
              "\n",
              "      <script>\n",
              "        const buttonEl =\n",
              "          document.querySelector('#df-bc4df748-c511-48d2-90a5-8e3c34f5d3cb button.colab-df-convert');\n",
              "        buttonEl.style.display =\n",
              "          google.colab.kernel.accessAllowed ? 'block' : 'none';\n",
              "\n",
              "        async function convertToInteractive(key) {\n",
              "          const element = document.querySelector('#df-bc4df748-c511-48d2-90a5-8e3c34f5d3cb');\n",
              "          const dataTable =\n",
              "            await google.colab.kernel.invokeFunction('convertToInteractive',\n",
              "                                                     [key], {});\n",
              "          if (!dataTable) return;\n",
              "\n",
              "          const docLinkHtml = 'Like what you see? Visit the ' +\n",
              "            '<a target=\"_blank\" href=https://colab.research.google.com/notebooks/data_table.ipynb>data table notebook</a>'\n",
              "            + ' to learn more about interactive tables.';\n",
              "          element.innerHTML = '';\n",
              "          dataTable['output_type'] = 'display_data';\n",
              "          await google.colab.output.renderOutput(dataTable, element);\n",
              "          const docLink = document.createElement('div');\n",
              "          docLink.innerHTML = docLinkHtml;\n",
              "          element.appendChild(docLink);\n",
              "        }\n",
              "      </script>\n",
              "    </div>\n",
              "  </div>\n",
              "  "
            ]
          },
          "metadata": {},
          "execution_count": 124
        }
      ]
    },
    {
      "cell_type": "code",
      "source": [
        "# df_lemm = pd.read_csv('/content/df_lemm (1).csv')"
      ],
      "metadata": {
        "id": "uAili2NW2Pk8"
      },
      "execution_count": null,
      "outputs": []
    },
    {
      "cell_type": "code",
      "source": [],
      "metadata": {
        "id": "4fW49c5Ecwuv"
      },
      "execution_count": null,
      "outputs": []
    },
    {
      "cell_type": "code",
      "source": [],
      "metadata": {
        "id": "4rmZw5-KdE6t"
      },
      "execution_count": null,
      "outputs": []
    },
    {
      "cell_type": "code",
      "source": [
        "df_lemm.head()"
      ],
      "metadata": {
        "colab": {
          "base_uri": "https://localhost:8080/",
          "height": 206
        },
        "id": "_Yo0A0mC4E1a",
        "outputId": "576e8c5f-e253-47ce-e10c-a7bfee8491bc"
      },
      "execution_count": null,
      "outputs": [
        {
          "output_type": "execute_result",
          "data": {
            "text/plain": [
              "                                      lemm_str\n",
              "0    шок цена пена д душа бритье куппер мл акс\n",
              "1                        мина вода нагутский л\n",
              "2              пельмень домашний вес прямицино\n",
              "3            печение овсяный гречневый эко бот\n",
              "4  спред растительный жировой масляничка г змж"
            ],
            "text/html": [
              "\n",
              "  <div id=\"df-9d780110-1f26-4ab8-9ef7-735a1c818c3d\">\n",
              "    <div class=\"colab-df-container\">\n",
              "      <div>\n",
              "<style scoped>\n",
              "    .dataframe tbody tr th:only-of-type {\n",
              "        vertical-align: middle;\n",
              "    }\n",
              "\n",
              "    .dataframe tbody tr th {\n",
              "        vertical-align: top;\n",
              "    }\n",
              "\n",
              "    .dataframe thead th {\n",
              "        text-align: right;\n",
              "    }\n",
              "</style>\n",
              "<table border=\"1\" class=\"dataframe\">\n",
              "  <thead>\n",
              "    <tr style=\"text-align: right;\">\n",
              "      <th></th>\n",
              "      <th>lemm_str</th>\n",
              "    </tr>\n",
              "  </thead>\n",
              "  <tbody>\n",
              "    <tr>\n",
              "      <th>0</th>\n",
              "      <td>шок цена пена д душа бритье куппер мл акс</td>\n",
              "    </tr>\n",
              "    <tr>\n",
              "      <th>1</th>\n",
              "      <td>мина вода нагутский л</td>\n",
              "    </tr>\n",
              "    <tr>\n",
              "      <th>2</th>\n",
              "      <td>пельмень домашний вес прямицино</td>\n",
              "    </tr>\n",
              "    <tr>\n",
              "      <th>3</th>\n",
              "      <td>печение овсяный гречневый эко бот</td>\n",
              "    </tr>\n",
              "    <tr>\n",
              "      <th>4</th>\n",
              "      <td>спред растительный жировой масляничка г змж</td>\n",
              "    </tr>\n",
              "  </tbody>\n",
              "</table>\n",
              "</div>\n",
              "      <button class=\"colab-df-convert\" onclick=\"convertToInteractive('df-9d780110-1f26-4ab8-9ef7-735a1c818c3d')\"\n",
              "              title=\"Convert this dataframe to an interactive table.\"\n",
              "              style=\"display:none;\">\n",
              "        \n",
              "  <svg xmlns=\"http://www.w3.org/2000/svg\" height=\"24px\"viewBox=\"0 0 24 24\"\n",
              "       width=\"24px\">\n",
              "    <path d=\"M0 0h24v24H0V0z\" fill=\"none\"/>\n",
              "    <path d=\"M18.56 5.44l.94 2.06.94-2.06 2.06-.94-2.06-.94-.94-2.06-.94 2.06-2.06.94zm-11 1L8.5 8.5l.94-2.06 2.06-.94-2.06-.94L8.5 2.5l-.94 2.06-2.06.94zm10 10l.94 2.06.94-2.06 2.06-.94-2.06-.94-.94-2.06-.94 2.06-2.06.94z\"/><path d=\"M17.41 7.96l-1.37-1.37c-.4-.4-.92-.59-1.43-.59-.52 0-1.04.2-1.43.59L10.3 9.45l-7.72 7.72c-.78.78-.78 2.05 0 2.83L4 21.41c.39.39.9.59 1.41.59.51 0 1.02-.2 1.41-.59l7.78-7.78 2.81-2.81c.8-.78.8-2.07 0-2.86zM5.41 20L4 18.59l7.72-7.72 1.47 1.35L5.41 20z\"/>\n",
              "  </svg>\n",
              "      </button>\n",
              "      \n",
              "  <style>\n",
              "    .colab-df-container {\n",
              "      display:flex;\n",
              "      flex-wrap:wrap;\n",
              "      gap: 12px;\n",
              "    }\n",
              "\n",
              "    .colab-df-convert {\n",
              "      background-color: #E8F0FE;\n",
              "      border: none;\n",
              "      border-radius: 50%;\n",
              "      cursor: pointer;\n",
              "      display: none;\n",
              "      fill: #1967D2;\n",
              "      height: 32px;\n",
              "      padding: 0 0 0 0;\n",
              "      width: 32px;\n",
              "    }\n",
              "\n",
              "    .colab-df-convert:hover {\n",
              "      background-color: #E2EBFA;\n",
              "      box-shadow: 0px 1px 2px rgba(60, 64, 67, 0.3), 0px 1px 3px 1px rgba(60, 64, 67, 0.15);\n",
              "      fill: #174EA6;\n",
              "    }\n",
              "\n",
              "    [theme=dark] .colab-df-convert {\n",
              "      background-color: #3B4455;\n",
              "      fill: #D2E3FC;\n",
              "    }\n",
              "\n",
              "    [theme=dark] .colab-df-convert:hover {\n",
              "      background-color: #434B5C;\n",
              "      box-shadow: 0px 1px 3px 1px rgba(0, 0, 0, 0.15);\n",
              "      filter: drop-shadow(0px 1px 2px rgba(0, 0, 0, 0.3));\n",
              "      fill: #FFFFFF;\n",
              "    }\n",
              "  </style>\n",
              "\n",
              "      <script>\n",
              "        const buttonEl =\n",
              "          document.querySelector('#df-9d780110-1f26-4ab8-9ef7-735a1c818c3d button.colab-df-convert');\n",
              "        buttonEl.style.display =\n",
              "          google.colab.kernel.accessAllowed ? 'block' : 'none';\n",
              "\n",
              "        async function convertToInteractive(key) {\n",
              "          const element = document.querySelector('#df-9d780110-1f26-4ab8-9ef7-735a1c818c3d');\n",
              "          const dataTable =\n",
              "            await google.colab.kernel.invokeFunction('convertToInteractive',\n",
              "                                                     [key], {});\n",
              "          if (!dataTable) return;\n",
              "\n",
              "          const docLinkHtml = 'Like what you see? Visit the ' +\n",
              "            '<a target=\"_blank\" href=https://colab.research.google.com/notebooks/data_table.ipynb>data table notebook</a>'\n",
              "            + ' to learn more about interactive tables.';\n",
              "          element.innerHTML = '';\n",
              "          dataTable['output_type'] = 'display_data';\n",
              "          await google.colab.output.renderOutput(dataTable, element);\n",
              "          const docLink = document.createElement('div');\n",
              "          docLink.innerHTML = docLinkHtml;\n",
              "          element.appendChild(docLink);\n",
              "        }\n",
              "      </script>\n",
              "    </div>\n",
              "  </div>\n",
              "  "
            ]
          },
          "metadata": {},
          "execution_count": 11
        }
      ]
    },
    {
      "cell_type": "code",
      "source": [
        "df = df.join(df_lemm)"
      ],
      "metadata": {
        "id": "LXsRIFkm4bY9"
      },
      "execution_count": null,
      "outputs": []
    },
    {
      "cell_type": "code",
      "source": [
        "df"
      ],
      "metadata": {
        "colab": {
          "base_uri": "https://localhost:8080/",
          "height": 424
        },
        "id": "b2M-0yY_4fAe",
        "outputId": "f1989a5d-2043-450a-afec-6f28fcde7ad8"
      },
      "execution_count": null,
      "outputs": [
        {
          "output_type": "execute_result",
          "data": {
            "text/plain": [
              "            id                                               name  groups  \\\n",
              "0         1034      ШОК-ЦЕНА Пена д/душа/бритья КУППЕР 200 мл АКС      10   \n",
              "1         1035                     Мин.вода Нагутская №26    0.5л       0   \n",
              "2         1036                Пельмени Домашние вес ПО Прямицино.      10   \n",
              "3         1037     ПЕЧЕНЬЕ ОВСЯНО-ГРЕЧНЕВОЕ ЭКО БОТ 4600508719365      10   \n",
              "4         1038  Спред растительно-жировой Масляничка 62% 170г ...      10   \n",
              "...        ...                                                ...     ...   \n",
              "658059  659093                   КАРАЧИНСКАЯ 1,5 л *6 шт мин вода       0   \n",
              "658060  659094                      Хлеб ДОНСКОЙ 350г Рузский х/з       9   \n",
              "658061  659095  Печенье сахарное FORSITE Сэндвич с шоколадно-с...       6   \n",
              "658062  659096          Хлеб Бабушкин подов пшен 0,55кг п/уп(ШХЗ)       9   \n",
              "658063  659097                 Газ.напиток ЭКСТРА-СИТРО ст/б 0.5л       4   \n",
              "\n",
              "                                                 lemm_str  \n",
              "0               шок цена пена д душа бритье куппер мл акс  \n",
              "1                                   мина вода нагутский л  \n",
              "2                         пельмень домашний вес прямицино  \n",
              "3                       печение овсяный гречневый эко бот  \n",
              "4             спред растительный жировой масляничка г змж  \n",
              "...                                                   ...  \n",
              "658059                         карачинская л шт мина вода  \n",
              "658060                         хлеб донской г рузский х з  \n",
              "658061  печение сахарный сэндвич шоколадный сливочный ...  \n",
              "658062                 хлеб бабушкин под пшен кг п уп шхз  \n",
              "658063                    газ напиток экстра ситро ст б л  \n",
              "\n",
              "[658064 rows x 4 columns]"
            ],
            "text/html": [
              "\n",
              "  <div id=\"df-4eec7ee8-e3e2-4ad2-88c3-a1952ef86c05\">\n",
              "    <div class=\"colab-df-container\">\n",
              "      <div>\n",
              "<style scoped>\n",
              "    .dataframe tbody tr th:only-of-type {\n",
              "        vertical-align: middle;\n",
              "    }\n",
              "\n",
              "    .dataframe tbody tr th {\n",
              "        vertical-align: top;\n",
              "    }\n",
              "\n",
              "    .dataframe thead th {\n",
              "        text-align: right;\n",
              "    }\n",
              "</style>\n",
              "<table border=\"1\" class=\"dataframe\">\n",
              "  <thead>\n",
              "    <tr style=\"text-align: right;\">\n",
              "      <th></th>\n",
              "      <th>id</th>\n",
              "      <th>name</th>\n",
              "      <th>groups</th>\n",
              "      <th>lemm_str</th>\n",
              "    </tr>\n",
              "  </thead>\n",
              "  <tbody>\n",
              "    <tr>\n",
              "      <th>0</th>\n",
              "      <td>1034</td>\n",
              "      <td>ШОК-ЦЕНА Пена д/душа/бритья КУППЕР 200 мл АКС</td>\n",
              "      <td>10</td>\n",
              "      <td>шок цена пена д душа бритье куппер мл акс</td>\n",
              "    </tr>\n",
              "    <tr>\n",
              "      <th>1</th>\n",
              "      <td>1035</td>\n",
              "      <td>Мин.вода Нагутская №26    0.5л</td>\n",
              "      <td>0</td>\n",
              "      <td>мина вода нагутский л</td>\n",
              "    </tr>\n",
              "    <tr>\n",
              "      <th>2</th>\n",
              "      <td>1036</td>\n",
              "      <td>Пельмени Домашние вес ПО Прямицино.</td>\n",
              "      <td>10</td>\n",
              "      <td>пельмень домашний вес прямицино</td>\n",
              "    </tr>\n",
              "    <tr>\n",
              "      <th>3</th>\n",
              "      <td>1037</td>\n",
              "      <td>ПЕЧЕНЬЕ ОВСЯНО-ГРЕЧНЕВОЕ ЭКО БОТ 4600508719365</td>\n",
              "      <td>10</td>\n",
              "      <td>печение овсяный гречневый эко бот</td>\n",
              "    </tr>\n",
              "    <tr>\n",
              "      <th>4</th>\n",
              "      <td>1038</td>\n",
              "      <td>Спред растительно-жировой Масляничка 62% 170г ...</td>\n",
              "      <td>10</td>\n",
              "      <td>спред растительный жировой масляничка г змж</td>\n",
              "    </tr>\n",
              "    <tr>\n",
              "      <th>...</th>\n",
              "      <td>...</td>\n",
              "      <td>...</td>\n",
              "      <td>...</td>\n",
              "      <td>...</td>\n",
              "    </tr>\n",
              "    <tr>\n",
              "      <th>658059</th>\n",
              "      <td>659093</td>\n",
              "      <td>КАРАЧИНСКАЯ 1,5 л *6 шт мин вода</td>\n",
              "      <td>0</td>\n",
              "      <td>карачинская л шт мина вода</td>\n",
              "    </tr>\n",
              "    <tr>\n",
              "      <th>658060</th>\n",
              "      <td>659094</td>\n",
              "      <td>Хлеб ДОНСКОЙ 350г Рузский х/з</td>\n",
              "      <td>9</td>\n",
              "      <td>хлеб донской г рузский х з</td>\n",
              "    </tr>\n",
              "    <tr>\n",
              "      <th>658061</th>\n",
              "      <td>659095</td>\n",
              "      <td>Печенье сахарное FORSITE Сэндвич с шоколадно-с...</td>\n",
              "      <td>6</td>\n",
              "      <td>печение сахарный сэндвич шоколадный сливочный ...</td>\n",
              "    </tr>\n",
              "    <tr>\n",
              "      <th>658062</th>\n",
              "      <td>659096</td>\n",
              "      <td>Хлеб Бабушкин подов пшен 0,55кг п/уп(ШХЗ)</td>\n",
              "      <td>9</td>\n",
              "      <td>хлеб бабушкин под пшен кг п уп шхз</td>\n",
              "    </tr>\n",
              "    <tr>\n",
              "      <th>658063</th>\n",
              "      <td>659097</td>\n",
              "      <td>Газ.напиток ЭКСТРА-СИТРО ст/б 0.5л</td>\n",
              "      <td>4</td>\n",
              "      <td>газ напиток экстра ситро ст б л</td>\n",
              "    </tr>\n",
              "  </tbody>\n",
              "</table>\n",
              "<p>658064 rows × 4 columns</p>\n",
              "</div>\n",
              "      <button class=\"colab-df-convert\" onclick=\"convertToInteractive('df-4eec7ee8-e3e2-4ad2-88c3-a1952ef86c05')\"\n",
              "              title=\"Convert this dataframe to an interactive table.\"\n",
              "              style=\"display:none;\">\n",
              "        \n",
              "  <svg xmlns=\"http://www.w3.org/2000/svg\" height=\"24px\"viewBox=\"0 0 24 24\"\n",
              "       width=\"24px\">\n",
              "    <path d=\"M0 0h24v24H0V0z\" fill=\"none\"/>\n",
              "    <path d=\"M18.56 5.44l.94 2.06.94-2.06 2.06-.94-2.06-.94-.94-2.06-.94 2.06-2.06.94zm-11 1L8.5 8.5l.94-2.06 2.06-.94-2.06-.94L8.5 2.5l-.94 2.06-2.06.94zm10 10l.94 2.06.94-2.06 2.06-.94-2.06-.94-.94-2.06-.94 2.06-2.06.94z\"/><path d=\"M17.41 7.96l-1.37-1.37c-.4-.4-.92-.59-1.43-.59-.52 0-1.04.2-1.43.59L10.3 9.45l-7.72 7.72c-.78.78-.78 2.05 0 2.83L4 21.41c.39.39.9.59 1.41.59.51 0 1.02-.2 1.41-.59l7.78-7.78 2.81-2.81c.8-.78.8-2.07 0-2.86zM5.41 20L4 18.59l7.72-7.72 1.47 1.35L5.41 20z\"/>\n",
              "  </svg>\n",
              "      </button>\n",
              "      \n",
              "  <style>\n",
              "    .colab-df-container {\n",
              "      display:flex;\n",
              "      flex-wrap:wrap;\n",
              "      gap: 12px;\n",
              "    }\n",
              "\n",
              "    .colab-df-convert {\n",
              "      background-color: #E8F0FE;\n",
              "      border: none;\n",
              "      border-radius: 50%;\n",
              "      cursor: pointer;\n",
              "      display: none;\n",
              "      fill: #1967D2;\n",
              "      height: 32px;\n",
              "      padding: 0 0 0 0;\n",
              "      width: 32px;\n",
              "    }\n",
              "\n",
              "    .colab-df-convert:hover {\n",
              "      background-color: #E2EBFA;\n",
              "      box-shadow: 0px 1px 2px rgba(60, 64, 67, 0.3), 0px 1px 3px 1px rgba(60, 64, 67, 0.15);\n",
              "      fill: #174EA6;\n",
              "    }\n",
              "\n",
              "    [theme=dark] .colab-df-convert {\n",
              "      background-color: #3B4455;\n",
              "      fill: #D2E3FC;\n",
              "    }\n",
              "\n",
              "    [theme=dark] .colab-df-convert:hover {\n",
              "      background-color: #434B5C;\n",
              "      box-shadow: 0px 1px 3px 1px rgba(0, 0, 0, 0.15);\n",
              "      filter: drop-shadow(0px 1px 2px rgba(0, 0, 0, 0.3));\n",
              "      fill: #FFFFFF;\n",
              "    }\n",
              "  </style>\n",
              "\n",
              "      <script>\n",
              "        const buttonEl =\n",
              "          document.querySelector('#df-4eec7ee8-e3e2-4ad2-88c3-a1952ef86c05 button.colab-df-convert');\n",
              "        buttonEl.style.display =\n",
              "          google.colab.kernel.accessAllowed ? 'block' : 'none';\n",
              "\n",
              "        async function convertToInteractive(key) {\n",
              "          const element = document.querySelector('#df-4eec7ee8-e3e2-4ad2-88c3-a1952ef86c05');\n",
              "          const dataTable =\n",
              "            await google.colab.kernel.invokeFunction('convertToInteractive',\n",
              "                                                     [key], {});\n",
              "          if (!dataTable) return;\n",
              "\n",
              "          const docLinkHtml = 'Like what you see? Visit the ' +\n",
              "            '<a target=\"_blank\" href=https://colab.research.google.com/notebooks/data_table.ipynb>data table notebook</a>'\n",
              "            + ' to learn more about interactive tables.';\n",
              "          element.innerHTML = '';\n",
              "          dataTable['output_type'] = 'display_data';\n",
              "          await google.colab.output.renderOutput(dataTable, element);\n",
              "          const docLink = document.createElement('div');\n",
              "          docLink.innerHTML = docLinkHtml;\n",
              "          element.appendChild(docLink);\n",
              "        }\n",
              "      </script>\n",
              "    </div>\n",
              "  </div>\n",
              "  "
            ]
          },
          "metadata": {},
          "execution_count": 13
        }
      ]
    },
    {
      "cell_type": "markdown",
      "source": [
        "# Train Test Split"
      ],
      "metadata": {
        "id": "8OBo04t_VzLA"
      }
    },
    {
      "cell_type": "code",
      "source": [
        "X = df['lemm_str']\n",
        "y = df['groups']"
      ],
      "metadata": {
        "id": "b3e93_jYVrJv"
      },
      "execution_count": null,
      "outputs": []
    },
    {
      "cell_type": "code",
      "source": [
        "X_train, X_test, y_train, y_test = train_test_split(X, y, test_size = 0.1, random_state = 19, stratify=y) # размер теста был 0,2"
      ],
      "metadata": {
        "id": "G3J7rWb9V55C"
      },
      "execution_count": null,
      "outputs": []
    },
    {
      "cell_type": "markdown",
      "source": [
        "# TF-IDF"
      ],
      "metadata": {
        "id": "Qx9nFTAvHt88"
      }
    },
    {
      "cell_type": "code",
      "source": [
        "# re_tok = re.compile(f'([{string.punctuation}“”¨«»®´·º½¾¿¡§£₤‘’])')\n",
        "# def tokenize(s): return re_tok.sub(r' \\1 ', s).split()"
      ],
      "metadata": {
        "id": "IwUNqdnnCbn7"
      },
      "execution_count": null,
      "outputs": []
    },
    {
      "cell_type": "code",
      "source": [
        "stopwords1 = set(stopwords.words('russian'))\n",
        "# vectorizer = TfidfVectorizer(min_df=3, stop_words=stopwords1, sublinear_tf=True, ngram_range=(1, 2)) # пробовала ранее 2\n",
        "vectorizer = TfidfVectorizer(ngram_range=(1,2), #tokenizer=tokenize,\n",
        "               min_df=2,  strip_accents='unicode', use_idf=1, #max_df=0.9, smooth_idf=1, sublinear_tf=1 \n",
        "               )\n",
        "train_features = vectorizer.fit_transform(X_train.values.astype('U'))\n",
        "test_features = vectorizer.transform(X_test.values.astype('U'))\n",
        "# features = vectorizer.fit_transform(df['lemm_text_str'].values)"
      ],
      "metadata": {
        "id": "6bCM2oxRVYkY"
      },
      "execution_count": null,
      "outputs": []
    },
    {
      "cell_type": "code",
      "source": [
        "# X = features\n",
        "# y = df['groups']"
      ],
      "metadata": {
        "id": "2tSp7IIssHIl"
      },
      "execution_count": null,
      "outputs": []
    },
    {
      "cell_type": "code",
      "source": [
        "# train_features, test_features, y_train, y_test = train_test_split(X, y, test_size = 0.1, random_state = 19, stratify=y) # размер теста был 0,2"
      ],
      "metadata": {
        "id": "dr-IzLOLsG-D"
      },
      "execution_count": null,
      "outputs": []
    },
    {
      "cell_type": "markdown",
      "source": [
        "# LogisticRegression"
      ],
      "metadata": {
        "id": "xw4r-0giWBWO"
      }
    },
    {
      "cell_type": "code",
      "source": [
        "lg_model = LogisticRegression(random_state=19, class_weight='balanced')"
      ],
      "metadata": {
        "id": "Vo92lnpqV9Sp"
      },
      "execution_count": null,
      "outputs": []
    },
    {
      "cell_type": "code",
      "source": [
        "%%time\n",
        "lg_model.fit(train_features, y_train)"
      ],
      "metadata": {
        "colab": {
          "base_uri": "https://localhost:8080/"
        },
        "id": "StVCOo69V9Pi",
        "outputId": "30d18999-8cc7-4b72-c9b8-12b5aaca13fe"
      },
      "execution_count": null,
      "outputs": [
        {
          "output_type": "stream",
          "name": "stdout",
          "text": [
            "CPU times: user 1min 56s, sys: 36 s, total: 2min 32s\n",
            "Wall time: 1min 50s\n"
          ]
        },
        {
          "output_type": "stream",
          "name": "stderr",
          "text": [
            "/usr/local/lib/python3.7/dist-packages/sklearn/linear_model/_logistic.py:818: ConvergenceWarning: lbfgs failed to converge (status=1):\n",
            "STOP: TOTAL NO. of ITERATIONS REACHED LIMIT.\n",
            "\n",
            "Increase the number of iterations (max_iter) or scale the data as shown in:\n",
            "    https://scikit-learn.org/stable/modules/preprocessing.html\n",
            "Please also refer to the documentation for alternative solver options:\n",
            "    https://scikit-learn.org/stable/modules/linear_model.html#logistic-regression\n",
            "  extra_warning_msg=_LOGISTIC_SOLVER_CONVERGENCE_MSG,\n"
          ]
        },
        {
          "output_type": "execute_result",
          "data": {
            "text/plain": [
              "LogisticRegression(class_weight='balanced', random_state=19)"
            ]
          },
          "metadata": {},
          "execution_count": 18
        }
      ]
    },
    {
      "cell_type": "code",
      "source": [
        "y_train_pred  = lg_model.predict(train_features)"
      ],
      "metadata": {
        "id": "gRPxP2f_V9L6"
      },
      "execution_count": null,
      "outputs": []
    },
    {
      "cell_type": "code",
      "source": [
        "f1_logistic_train = f1_score(y_train, y_train_pred, average='weighted')\n",
        "f1_logistic_train"
      ],
      "metadata": {
        "colab": {
          "base_uri": "https://localhost:8080/"
        },
        "id": "cjo4NwDyXwk8",
        "outputId": "9433d570-99e0-44f3-a561-b4af9a2ab349"
      },
      "execution_count": null,
      "outputs": [
        {
          "output_type": "execute_result",
          "data": {
            "text/plain": [
              "0.9604280411887569"
            ]
          },
          "metadata": {},
          "execution_count": 20
        }
      ]
    },
    {
      "cell_type": "code",
      "source": [
        "from sklearn.metrics import recall_score"
      ],
      "metadata": {
        "id": "b4QV7XPPWe5I"
      },
      "execution_count": null,
      "outputs": []
    },
    {
      "cell_type": "code",
      "source": [
        "recall_score (y_train, y_train_pred, average='weighted')"
      ],
      "metadata": {
        "colab": {
          "base_uri": "https://localhost:8080/"
        },
        "id": "N7qFj5uOW-JL",
        "outputId": "2d1179d2-6169-41ba-e3c3-baed3a8909fe"
      },
      "execution_count": null,
      "outputs": [
        {
          "output_type": "execute_result",
          "data": {
            "text/plain": [
              "0.9571233434134168"
            ]
          },
          "metadata": {},
          "execution_count": 22
        }
      ]
    },
    {
      "cell_type": "code",
      "source": [
        "y_test_pred  = lg_model.predict(test_features)"
      ],
      "metadata": {
        "id": "lJnsavDxYIwa"
      },
      "execution_count": null,
      "outputs": []
    },
    {
      "cell_type": "code",
      "source": [
        "f1_logistic_test = f1_score(y_test, y_test_pred, average='weighted')\n",
        "f1_logistic_test"
      ],
      "metadata": {
        "colab": {
          "base_uri": "https://localhost:8080/"
        },
        "id": "ae9HMWCRYIjS",
        "outputId": "da01103d-de0e-44b3-982a-8560f7b13b52"
      },
      "execution_count": null,
      "outputs": [
        {
          "output_type": "execute_result",
          "data": {
            "text/plain": [
              "0.9537580103819576"
            ]
          },
          "metadata": {},
          "execution_count": 24
        }
      ]
    },
    {
      "cell_type": "code",
      "source": [
        "recall_score(y_test, y_test_pred, average='weighted') # юез исключения коротких слов 0.960019450818302"
      ],
      "metadata": {
        "colab": {
          "base_uri": "https://localhost:8080/"
        },
        "id": "GBUIPEjPYmp5",
        "outputId": "3ba5bc01-5673-4061-883a-4120faff1eff"
      },
      "execution_count": null,
      "outputs": [
        {
          "output_type": "execute_result",
          "data": {
            "text/plain": [
              "0.9496558116917653"
            ]
          },
          "metadata": {},
          "execution_count": 25
        }
      ]
    },
    {
      "cell_type": "markdown",
      "source": [
        "\n",
        "\n",
        "---\n",
        "Попытка 1\n",
        "\n",
        "recall_score(y_train, y_train_pred, average='weighted') - **0.9678317640198233**\n",
        "\n",
        "f1_logistic_test = f1_score(y_test, y_test_pred, average='weighted') - 0.9652490431918442\n",
        "\n",
        "**recall_score(y_test, y_test_pred, average='weighted') 0.9627468411175187**\n",
        "\n",
        "\n",
        "---\n",
        "\n",
        "\n"
      ],
      "metadata": {
        "id": "v2bKDbilzqdT"
      }
    },
    {
      "cell_type": "markdown",
      "source": [
        "\n",
        "---\n",
        "Попытка 2\n",
        "\n",
        "\n",
        "Разделен векторайзер, добавлены английские буквы, тест 0,2, min_df=2:\n",
        "\n",
        "recall_score(y_train, y_train_pred, average='weighted') **0.9667775348512967**\n",
        "\n",
        "f1_logistic_test = f1_score(y_test, y_test_pred, average='weighted') 0.963154431234822\n",
        "\n",
        "**recall_score(y_test, y_test_pred, average='weighted') 0.9600647352465183** \n",
        "\n",
        "---\n"
      ],
      "metadata": {
        "id": "Vs_-vInhnEoX"
      }
    },
    {
      "cell_type": "markdown",
      "source": [
        "\n",
        "\n",
        "---\n",
        "Попытка 3\n",
        "\n",
        "Разделен векторайзер, добавлены английские буквы, тест 0,1, min_df=1:\n",
        "\n",
        "\n",
        "recall_score(y_train, y_train_pred, average='weighted') 0.96076580930369\n",
        "\n",
        "recall_score(y_test, y_test_pred, average='weighted') 0.9572233956873889\n",
        "\n",
        "в чемпионате: 0,9696\n",
        "\n",
        "submission_2try\n",
        "\n",
        "---\n",
        "\n"
      ],
      "metadata": {
        "id": "Kr5MoKKdmnD_"
      }
    },
    {
      "cell_type": "markdown",
      "source": [
        "\n",
        "\n",
        "---\n",
        "\n",
        "\n",
        "Попытка 4 \n",
        "\n",
        "без лемматизатора, тестовая 0,1, min_df=2: чуть выше попытки 3\n",
        "\n",
        "---\n",
        "\n"
      ],
      "metadata": {
        "id": "k5H4rtwQn4Zr"
      }
    },
    {
      "cell_type": "markdown",
      "source": [
        "\n",
        "\n",
        "---\n",
        "\n",
        "\n",
        "Попытка 5 \n",
        "\n",
        "лемматизатор, тестовая 0,1, min_df=2: \n",
        "\n",
        "recall_score(y_train, y_train_pred, average='weighted') 0.9622371635210363\n",
        "\n",
        "recall_score(y_test, y_test_pred, average='weighted') 0.9590317139514033\n",
        "\n",
        "submission_3try\n",
        "\n",
        "---\n",
        "\n"
      ],
      "metadata": {
        "id": "CqYkM1TWoNvW"
      }
    },
    {
      "cell_type": "markdown",
      "source": [
        "\n",
        "\n",
        "---\n",
        "\n",
        "\n",
        "Попытка 6\n",
        "\n",
        "лемматизатор, тестовая 0,2, векторайзер на все данные, агшл буквы, min_df=2: \n",
        "\n",
        "recall_score(y_train, y_train_pred, average='weighted') 0.9666521670582827\n",
        "\n",
        "recall_score(y_test, y_test_pred, average='weighted') 0.9617059105103599\n",
        "\n",
        "submission_3try\n",
        "\n",
        "---\n",
        "\n"
      ],
      "metadata": {
        "id": "4dL42XPvtC5c"
      }
    },
    {
      "cell_type": "markdown",
      "source": [
        "\n",
        "\n",
        "---\n",
        "\n",
        "\n",
        "Попытка 7\n",
        "\n",
        "лемматизатор, тестовая 0,2, векторайзер на все данные, агшл буквы, min_df=2, удалены слова короче 3: \n",
        "\n",
        "recall_score(y_train, y_train_pred, average='weighted') 0.9666521670582827\n",
        "\n",
        "recall_score(y_test, y_test_pred, average='weighted') 0.9617059105103599\n",
        "\n",
        "lr_submission_4try\n",
        "\n",
        "---\n",
        "\n"
      ],
      "metadata": {
        "id": "r6Lw2mBMkK6b"
      }
    },
    {
      "cell_type": "code",
      "source": [],
      "metadata": {
        "id": "vrBBSUFfS76g"
      },
      "execution_count": null,
      "outputs": []
    },
    {
      "cell_type": "code",
      "source": [],
      "metadata": {
        "id": "k-DcJoKjkHGS"
      },
      "execution_count": null,
      "outputs": []
    },
    {
      "cell_type": "markdown",
      "source": [
        "# XGBClassifier"
      ],
      "metadata": {
        "id": "dN1JUL9KHX6M"
      }
    },
    {
      "cell_type": "code",
      "source": [
        "stop"
      ],
      "metadata": {
        "colab": {
          "base_uri": "https://localhost:8080/",
          "height": 165
        },
        "id": "n0DtUidtGcXp",
        "outputId": "cde90e17-9622-4ca8-eb68-5c81e131d600"
      },
      "execution_count": null,
      "outputs": [
        {
          "output_type": "error",
          "ename": "NameError",
          "evalue": "ignored",
          "traceback": [
            "\u001b[0;31m---------------------------------------------------------------------------\u001b[0m",
            "\u001b[0;31mNameError\u001b[0m                                 Traceback (most recent call last)",
            "\u001b[0;32m<ipython-input-140-4f76a9dad686>\u001b[0m in \u001b[0;36m<module>\u001b[0;34m\u001b[0m\n\u001b[0;32m----> 1\u001b[0;31m \u001b[0mstop\u001b[0m\u001b[0;34m\u001b[0m\u001b[0;34m\u001b[0m\u001b[0m\n\u001b[0m",
            "\u001b[0;31mNameError\u001b[0m: name 'stop' is not defined"
          ]
        }
      ]
    },
    {
      "cell_type": "code",
      "source": [
        "from xgboost import XGBClassifier"
      ],
      "metadata": {
        "id": "bf3C8XowHx_A"
      },
      "execution_count": null,
      "outputs": []
    },
    {
      "cell_type": "code",
      "source": [
        "xgb_model_grid = XGBClassifier(random_state=19)"
      ],
      "metadata": {
        "id": "zr6h8805HXC3"
      },
      "execution_count": null,
      "outputs": []
    },
    {
      "cell_type": "code",
      "source": [
        "# xgb_model_grid = GridSearchCV(xgb_model, xgb_grid_params, scoring='f1_weighted', cv=5)"
      ],
      "metadata": {
        "id": "0ky2vKKztAyi"
      },
      "execution_count": null,
      "outputs": []
    },
    {
      "cell_type": "code",
      "source": [
        "%%time\n",
        "\n",
        "xgb_model_grid.fit(train_features, y_train)"
      ],
      "metadata": {
        "id": "o-5_6BgmoIKp"
      },
      "execution_count": null,
      "outputs": []
    },
    {
      "cell_type": "code",
      "source": [
        "xgb_model_grid.best_params_"
      ],
      "metadata": {
        "id": "YldyPeGQHp-8"
      },
      "execution_count": null,
      "outputs": []
    },
    {
      "cell_type": "code",
      "source": [
        "xgb_model_grid = xgb_model_grid.best_estimator_"
      ],
      "metadata": {
        "id": "eSFemM3IHp2F"
      },
      "execution_count": null,
      "outputs": []
    },
    {
      "cell_type": "code",
      "source": [
        "y_train_pred  = xgb_model_grid.predict(train_features)"
      ],
      "metadata": {
        "id": "tBqDyQNKHd8c"
      },
      "execution_count": null,
      "outputs": []
    },
    {
      "cell_type": "code",
      "source": [
        "recall_score (y_train, y_train_pred, average='weighted')"
      ],
      "metadata": {
        "id": "UUrs1XYRHd5v"
      },
      "execution_count": null,
      "outputs": []
    },
    {
      "cell_type": "code",
      "source": [
        "y_test_pred  = xgb_model_grid.predict(test_features)"
      ],
      "metadata": {
        "id": "YWLEHe1rHd3O"
      },
      "execution_count": null,
      "outputs": []
    },
    {
      "cell_type": "code",
      "source": [
        "recall_score(y_test, y_test_pred, average='weighted')"
      ],
      "metadata": {
        "id": "Gxg8BS5eHd0V"
      },
      "execution_count": null,
      "outputs": []
    },
    {
      "cell_type": "code",
      "source": [],
      "metadata": {
        "id": "_FtwLBHJHdwU"
      },
      "execution_count": null,
      "outputs": []
    },
    {
      "cell_type": "code",
      "source": [],
      "metadata": {
        "id": "ZRgyBsOHHdrO"
      },
      "execution_count": null,
      "outputs": []
    },
    {
      "cell_type": "code",
      "source": [
        "stop"
      ],
      "metadata": {
        "id": "695aQAvLgVfF"
      },
      "execution_count": null,
      "outputs": []
    },
    {
      "cell_type": "markdown",
      "source": [
        "# CatBoostClassifier"
      ],
      "metadata": {
        "id": "YCp8yJonWYM4"
      }
    },
    {
      "cell_type": "code",
      "source": [
        "!pip install catboost"
      ],
      "metadata": {
        "id": "LPcnO-Mpaooi"
      },
      "execution_count": null,
      "outputs": []
    },
    {
      "cell_type": "code",
      "source": [
        "from catboost import CatBoostClassifier\n",
        "from catboost import cv, Pool"
      ],
      "metadata": {
        "id": "zU8a_4zCXRW2"
      },
      "execution_count": null,
      "outputs": []
    },
    {
      "cell_type": "code",
      "source": [
        "train_data = Pool(data=train_features, \n",
        "                  label=y_train)"
      ],
      "metadata": {
        "id": "8HJVe8oKWX-E"
      },
      "execution_count": null,
      "outputs": []
    },
    {
      "cell_type": "code",
      "source": [
        "params = {'verbose': 10000,\n",
        "          'random_seed': 19} #'learning_rate': 0.8"
      ],
      "metadata": {
        "id": "Jg2shJf5WX7X"
      },
      "execution_count": null,
      "outputs": []
    },
    {
      "cell_type": "code",
      "source": [
        "cat_model = CatBoostClassifier(verbose=10000, random_seed=19, learning_rate=0.95)"
      ],
      "metadata": {
        "id": "Hda8_GAKWX4O"
      },
      "execution_count": null,
      "outputs": []
    },
    {
      "cell_type": "code",
      "source": [
        "cat_model.fit(train_data)"
      ],
      "metadata": {
        "id": "D1RyZ5o0WX08"
      },
      "execution_count": null,
      "outputs": []
    },
    {
      "cell_type": "markdown",
      "source": [
        "# LogisticRegression и GridSearch"
      ],
      "metadata": {
        "id": "GeHKdAB9LhKf"
      }
    },
    {
      "cell_type": "code",
      "source": [
        "lr_model = LogisticRegression(random_state=19, class_weight='balanced')"
      ],
      "metadata": {
        "id": "WzYWEon5Lgcx"
      },
      "execution_count": null,
      "outputs": []
    },
    {
      "cell_type": "code",
      "source": [
        "param_grid_lr = {'max_iter':[100, 500, 1000]}  "
      ],
      "metadata": {
        "id": "73w-wKVf2Zcj"
      },
      "execution_count": null,
      "outputs": []
    },
    {
      "cell_type": "code",
      "source": [
        "# lg_model_grid, lg_f1_grid = get_gridsearchcv(X_train, y_train,\n",
        "#                        lg_model, param_grid_lg, cv=5, scoring_fit='f1') #scoring_fit='accuracy'\n",
        "\n",
        "lr_model_grid = GridSearchCV(lr_model, param_grid = param_grid_lr, \n",
        "                           cv=5, n_jobs=-1, \n",
        "                           scoring='f1', verbose=2)"
      ],
      "metadata": {
        "id": "K8Zv34jM2ZZ6"
      },
      "execution_count": null,
      "outputs": []
    },
    {
      "cell_type": "code",
      "source": [
        "%%time\n",
        "lr_model_grid.fit(train_features, y_train)"
      ],
      "metadata": {
        "id": "is6sRjDP2ZW8"
      },
      "execution_count": null,
      "outputs": []
    },
    {
      "cell_type": "code",
      "source": [
        "lr_model_grid.best_params_"
      ],
      "metadata": {
        "id": "1_44cD6q2ZT4"
      },
      "execution_count": null,
      "outputs": []
    },
    {
      "cell_type": "code",
      "source": [
        "lr_model_grid = lr_model_grid.best_estimator_"
      ],
      "metadata": {
        "id": "SNycouiM2ZQM"
      },
      "execution_count": null,
      "outputs": []
    },
    {
      "cell_type": "code",
      "source": [
        "y_train_pred  = lr_model_grid.predict(train_features)"
      ],
      "metadata": {
        "id": "yaHj5VFqgq8b"
      },
      "execution_count": null,
      "outputs": []
    },
    {
      "cell_type": "code",
      "source": [
        "recall_score(y_train, y_train_pred, average='weighted')"
      ],
      "metadata": {
        "id": "bFCzMq2UK5MD"
      },
      "execution_count": null,
      "outputs": []
    },
    {
      "cell_type": "code",
      "source": [
        "y_test_pred  = lr_model_grid.predict(test_features)"
      ],
      "metadata": {
        "id": "V0kod4lzgiz6"
      },
      "execution_count": null,
      "outputs": []
    },
    {
      "cell_type": "code",
      "source": [
        "recall_score(y_test, y_test_pred, average='weighted')"
      ],
      "metadata": {
        "id": "jkNqL5mtK5Pa"
      },
      "execution_count": null,
      "outputs": []
    },
    {
      "cell_type": "markdown",
      "source": [
        "# Финальный тест"
      ],
      "metadata": {
        "id": "J60-gpXy2VXH"
      }
    },
    {
      "cell_type": "code",
      "source": [
        "STOOOOP"
      ],
      "metadata": {
        "id": "8w8aQMXreGqr"
      },
      "execution_count": null,
      "outputs": []
    },
    {
      "cell_type": "code",
      "source": [
        "sample = pd.read_csv('/content/sample_solution.csv')"
      ],
      "metadata": {
        "id": "vCTHzHSPZTyK"
      },
      "execution_count": null,
      "outputs": []
    },
    {
      "cell_type": "code",
      "source": [
        "sample"
      ],
      "metadata": {
        "id": "cd8khrTcZcg3",
        "colab": {
          "base_uri": "https://localhost:8080/",
          "height": 424
        },
        "outputId": "3219261c-89ae-4e00-9944-455103ed4a14"
      },
      "execution_count": null,
      "outputs": [
        {
          "output_type": "execute_result",
          "data": {
            "text/plain": [
              "            id  groups\n",
              "0        10529       0\n",
              "1        10530       0\n",
              "2        10531       0\n",
              "3        10532       0\n",
              "4        10533       0\n",
              "...        ...     ...\n",
              "282222  292751       0\n",
              "282223  292752       0\n",
              "282224  292753       0\n",
              "282225  292754       0\n",
              "282226  292755       0\n",
              "\n",
              "[282227 rows x 2 columns]"
            ],
            "text/html": [
              "\n",
              "  <div id=\"df-a8203e28-fbe1-40f3-8869-7e76ceeeed65\">\n",
              "    <div class=\"colab-df-container\">\n",
              "      <div>\n",
              "<style scoped>\n",
              "    .dataframe tbody tr th:only-of-type {\n",
              "        vertical-align: middle;\n",
              "    }\n",
              "\n",
              "    .dataframe tbody tr th {\n",
              "        vertical-align: top;\n",
              "    }\n",
              "\n",
              "    .dataframe thead th {\n",
              "        text-align: right;\n",
              "    }\n",
              "</style>\n",
              "<table border=\"1\" class=\"dataframe\">\n",
              "  <thead>\n",
              "    <tr style=\"text-align: right;\">\n",
              "      <th></th>\n",
              "      <th>id</th>\n",
              "      <th>groups</th>\n",
              "    </tr>\n",
              "  </thead>\n",
              "  <tbody>\n",
              "    <tr>\n",
              "      <th>0</th>\n",
              "      <td>10529</td>\n",
              "      <td>0</td>\n",
              "    </tr>\n",
              "    <tr>\n",
              "      <th>1</th>\n",
              "      <td>10530</td>\n",
              "      <td>0</td>\n",
              "    </tr>\n",
              "    <tr>\n",
              "      <th>2</th>\n",
              "      <td>10531</td>\n",
              "      <td>0</td>\n",
              "    </tr>\n",
              "    <tr>\n",
              "      <th>3</th>\n",
              "      <td>10532</td>\n",
              "      <td>0</td>\n",
              "    </tr>\n",
              "    <tr>\n",
              "      <th>4</th>\n",
              "      <td>10533</td>\n",
              "      <td>0</td>\n",
              "    </tr>\n",
              "    <tr>\n",
              "      <th>...</th>\n",
              "      <td>...</td>\n",
              "      <td>...</td>\n",
              "    </tr>\n",
              "    <tr>\n",
              "      <th>282222</th>\n",
              "      <td>292751</td>\n",
              "      <td>0</td>\n",
              "    </tr>\n",
              "    <tr>\n",
              "      <th>282223</th>\n",
              "      <td>292752</td>\n",
              "      <td>0</td>\n",
              "    </tr>\n",
              "    <tr>\n",
              "      <th>282224</th>\n",
              "      <td>292753</td>\n",
              "      <td>0</td>\n",
              "    </tr>\n",
              "    <tr>\n",
              "      <th>282225</th>\n",
              "      <td>292754</td>\n",
              "      <td>0</td>\n",
              "    </tr>\n",
              "    <tr>\n",
              "      <th>282226</th>\n",
              "      <td>292755</td>\n",
              "      <td>0</td>\n",
              "    </tr>\n",
              "  </tbody>\n",
              "</table>\n",
              "<p>282227 rows × 2 columns</p>\n",
              "</div>\n",
              "      <button class=\"colab-df-convert\" onclick=\"convertToInteractive('df-a8203e28-fbe1-40f3-8869-7e76ceeeed65')\"\n",
              "              title=\"Convert this dataframe to an interactive table.\"\n",
              "              style=\"display:none;\">\n",
              "        \n",
              "  <svg xmlns=\"http://www.w3.org/2000/svg\" height=\"24px\"viewBox=\"0 0 24 24\"\n",
              "       width=\"24px\">\n",
              "    <path d=\"M0 0h24v24H0V0z\" fill=\"none\"/>\n",
              "    <path d=\"M18.56 5.44l.94 2.06.94-2.06 2.06-.94-2.06-.94-.94-2.06-.94 2.06-2.06.94zm-11 1L8.5 8.5l.94-2.06 2.06-.94-2.06-.94L8.5 2.5l-.94 2.06-2.06.94zm10 10l.94 2.06.94-2.06 2.06-.94-2.06-.94-.94-2.06-.94 2.06-2.06.94z\"/><path d=\"M17.41 7.96l-1.37-1.37c-.4-.4-.92-.59-1.43-.59-.52 0-1.04.2-1.43.59L10.3 9.45l-7.72 7.72c-.78.78-.78 2.05 0 2.83L4 21.41c.39.39.9.59 1.41.59.51 0 1.02-.2 1.41-.59l7.78-7.78 2.81-2.81c.8-.78.8-2.07 0-2.86zM5.41 20L4 18.59l7.72-7.72 1.47 1.35L5.41 20z\"/>\n",
              "  </svg>\n",
              "      </button>\n",
              "      \n",
              "  <style>\n",
              "    .colab-df-container {\n",
              "      display:flex;\n",
              "      flex-wrap:wrap;\n",
              "      gap: 12px;\n",
              "    }\n",
              "\n",
              "    .colab-df-convert {\n",
              "      background-color: #E8F0FE;\n",
              "      border: none;\n",
              "      border-radius: 50%;\n",
              "      cursor: pointer;\n",
              "      display: none;\n",
              "      fill: #1967D2;\n",
              "      height: 32px;\n",
              "      padding: 0 0 0 0;\n",
              "      width: 32px;\n",
              "    }\n",
              "\n",
              "    .colab-df-convert:hover {\n",
              "      background-color: #E2EBFA;\n",
              "      box-shadow: 0px 1px 2px rgba(60, 64, 67, 0.3), 0px 1px 3px 1px rgba(60, 64, 67, 0.15);\n",
              "      fill: #174EA6;\n",
              "    }\n",
              "\n",
              "    [theme=dark] .colab-df-convert {\n",
              "      background-color: #3B4455;\n",
              "      fill: #D2E3FC;\n",
              "    }\n",
              "\n",
              "    [theme=dark] .colab-df-convert:hover {\n",
              "      background-color: #434B5C;\n",
              "      box-shadow: 0px 1px 3px 1px rgba(0, 0, 0, 0.15);\n",
              "      filter: drop-shadow(0px 1px 2px rgba(0, 0, 0, 0.3));\n",
              "      fill: #FFFFFF;\n",
              "    }\n",
              "  </style>\n",
              "\n",
              "      <script>\n",
              "        const buttonEl =\n",
              "          document.querySelector('#df-a8203e28-fbe1-40f3-8869-7e76ceeeed65 button.colab-df-convert');\n",
              "        buttonEl.style.display =\n",
              "          google.colab.kernel.accessAllowed ? 'block' : 'none';\n",
              "\n",
              "        async function convertToInteractive(key) {\n",
              "          const element = document.querySelector('#df-a8203e28-fbe1-40f3-8869-7e76ceeeed65');\n",
              "          const dataTable =\n",
              "            await google.colab.kernel.invokeFunction('convertToInteractive',\n",
              "                                                     [key], {});\n",
              "          if (!dataTable) return;\n",
              "\n",
              "          const docLinkHtml = 'Like what you see? Visit the ' +\n",
              "            '<a target=\"_blank\" href=https://colab.research.google.com/notebooks/data_table.ipynb>data table notebook</a>'\n",
              "            + ' to learn more about interactive tables.';\n",
              "          element.innerHTML = '';\n",
              "          dataTable['output_type'] = 'display_data';\n",
              "          await google.colab.output.renderOutput(dataTable, element);\n",
              "          const docLink = document.createElement('div');\n",
              "          docLink.innerHTML = docLinkHtml;\n",
              "          element.appendChild(docLink);\n",
              "        }\n",
              "      </script>\n",
              "    </div>\n",
              "  </div>\n",
              "  "
            ]
          },
          "metadata": {},
          "execution_count": 141
        }
      ]
    },
    {
      "cell_type": "code",
      "source": [
        "df_test = pd.read_csv('/content/test_dataset_test.csv')"
      ],
      "metadata": {
        "id": "NySBOfREZ1Vz"
      },
      "execution_count": null,
      "outputs": []
    },
    {
      "cell_type": "code",
      "source": [
        "df_test"
      ],
      "metadata": {
        "id": "kf0WJunDaOTy",
        "colab": {
          "base_uri": "https://localhost:8080/",
          "height": 424
        },
        "outputId": "1e1e0ed7-b8e8-4c3c-c897-5847765f8c3b"
      },
      "execution_count": null,
      "outputs": [
        {
          "output_type": "execute_result",
          "data": {
            "text/plain": [
              "            id                                               name\n",
              "0        10529   КАРАМЕЛЬ \"ЛАКОМКА-СУПЕРМОЛОЧНАЯ\" ВЕС (РОТ ФРОНТ)\n",
              "1        10530           2: 3637233 РАЭ Масло ТРАДИЦ.слив.82,5% 1\n",
              "2        10531  960012-LG NS  Бинт эластичный Classic лаймовый...\n",
              "3        10532                  Вода мин. 1.5л пл/у (Сахалинская)\n",
              "4        10533            Ролики натяжителя ремня AMD.GTA0740 AMD\n",
              "...        ...                                                ...\n",
              "282222  292751                   Пельмени Московские Пижанка 800г\n",
              "282223  292752                     Активиа 135гр Пробиотик малина\n",
              "282224  292753                                    Базилик овощной\n",
              "282225  292754   JACOBS Millicano Кофе Crema Espresso раств с мол\n",
              "282226  292755                   ШЕБА плежур Форель, Креветки 85г\n",
              "\n",
              "[282227 rows x 2 columns]"
            ],
            "text/html": [
              "\n",
              "  <div id=\"df-7d6d1f4e-b2de-45e4-98d9-db8a7f03937a\">\n",
              "    <div class=\"colab-df-container\">\n",
              "      <div>\n",
              "<style scoped>\n",
              "    .dataframe tbody tr th:only-of-type {\n",
              "        vertical-align: middle;\n",
              "    }\n",
              "\n",
              "    .dataframe tbody tr th {\n",
              "        vertical-align: top;\n",
              "    }\n",
              "\n",
              "    .dataframe thead th {\n",
              "        text-align: right;\n",
              "    }\n",
              "</style>\n",
              "<table border=\"1\" class=\"dataframe\">\n",
              "  <thead>\n",
              "    <tr style=\"text-align: right;\">\n",
              "      <th></th>\n",
              "      <th>id</th>\n",
              "      <th>name</th>\n",
              "    </tr>\n",
              "  </thead>\n",
              "  <tbody>\n",
              "    <tr>\n",
              "      <th>0</th>\n",
              "      <td>10529</td>\n",
              "      <td>КАРАМЕЛЬ \"ЛАКОМКА-СУПЕРМОЛОЧНАЯ\" ВЕС (РОТ ФРОНТ)</td>\n",
              "    </tr>\n",
              "    <tr>\n",
              "      <th>1</th>\n",
              "      <td>10530</td>\n",
              "      <td>2: 3637233 РАЭ Масло ТРАДИЦ.слив.82,5% 1</td>\n",
              "    </tr>\n",
              "    <tr>\n",
              "      <th>2</th>\n",
              "      <td>10531</td>\n",
              "      <td>960012-LG NS  Бинт эластичный Classic лаймовый...</td>\n",
              "    </tr>\n",
              "    <tr>\n",
              "      <th>3</th>\n",
              "      <td>10532</td>\n",
              "      <td>Вода мин. 1.5л пл/у (Сахалинская)</td>\n",
              "    </tr>\n",
              "    <tr>\n",
              "      <th>4</th>\n",
              "      <td>10533</td>\n",
              "      <td>Ролики натяжителя ремня AMD.GTA0740 AMD</td>\n",
              "    </tr>\n",
              "    <tr>\n",
              "      <th>...</th>\n",
              "      <td>...</td>\n",
              "      <td>...</td>\n",
              "    </tr>\n",
              "    <tr>\n",
              "      <th>282222</th>\n",
              "      <td>292751</td>\n",
              "      <td>Пельмени Московские Пижанка 800г</td>\n",
              "    </tr>\n",
              "    <tr>\n",
              "      <th>282223</th>\n",
              "      <td>292752</td>\n",
              "      <td>Активиа 135гр Пробиотик малина</td>\n",
              "    </tr>\n",
              "    <tr>\n",
              "      <th>282224</th>\n",
              "      <td>292753</td>\n",
              "      <td>Базилик овощной</td>\n",
              "    </tr>\n",
              "    <tr>\n",
              "      <th>282225</th>\n",
              "      <td>292754</td>\n",
              "      <td>JACOBS Millicano Кофе Crema Espresso раств с мол</td>\n",
              "    </tr>\n",
              "    <tr>\n",
              "      <th>282226</th>\n",
              "      <td>292755</td>\n",
              "      <td>ШЕБА плежур Форель, Креветки 85г</td>\n",
              "    </tr>\n",
              "  </tbody>\n",
              "</table>\n",
              "<p>282227 rows × 2 columns</p>\n",
              "</div>\n",
              "      <button class=\"colab-df-convert\" onclick=\"convertToInteractive('df-7d6d1f4e-b2de-45e4-98d9-db8a7f03937a')\"\n",
              "              title=\"Convert this dataframe to an interactive table.\"\n",
              "              style=\"display:none;\">\n",
              "        \n",
              "  <svg xmlns=\"http://www.w3.org/2000/svg\" height=\"24px\"viewBox=\"0 0 24 24\"\n",
              "       width=\"24px\">\n",
              "    <path d=\"M0 0h24v24H0V0z\" fill=\"none\"/>\n",
              "    <path d=\"M18.56 5.44l.94 2.06.94-2.06 2.06-.94-2.06-.94-.94-2.06-.94 2.06-2.06.94zm-11 1L8.5 8.5l.94-2.06 2.06-.94-2.06-.94L8.5 2.5l-.94 2.06-2.06.94zm10 10l.94 2.06.94-2.06 2.06-.94-2.06-.94-.94-2.06-.94 2.06-2.06.94z\"/><path d=\"M17.41 7.96l-1.37-1.37c-.4-.4-.92-.59-1.43-.59-.52 0-1.04.2-1.43.59L10.3 9.45l-7.72 7.72c-.78.78-.78 2.05 0 2.83L4 21.41c.39.39.9.59 1.41.59.51 0 1.02-.2 1.41-.59l7.78-7.78 2.81-2.81c.8-.78.8-2.07 0-2.86zM5.41 20L4 18.59l7.72-7.72 1.47 1.35L5.41 20z\"/>\n",
              "  </svg>\n",
              "      </button>\n",
              "      \n",
              "  <style>\n",
              "    .colab-df-container {\n",
              "      display:flex;\n",
              "      flex-wrap:wrap;\n",
              "      gap: 12px;\n",
              "    }\n",
              "\n",
              "    .colab-df-convert {\n",
              "      background-color: #E8F0FE;\n",
              "      border: none;\n",
              "      border-radius: 50%;\n",
              "      cursor: pointer;\n",
              "      display: none;\n",
              "      fill: #1967D2;\n",
              "      height: 32px;\n",
              "      padding: 0 0 0 0;\n",
              "      width: 32px;\n",
              "    }\n",
              "\n",
              "    .colab-df-convert:hover {\n",
              "      background-color: #E2EBFA;\n",
              "      box-shadow: 0px 1px 2px rgba(60, 64, 67, 0.3), 0px 1px 3px 1px rgba(60, 64, 67, 0.15);\n",
              "      fill: #174EA6;\n",
              "    }\n",
              "\n",
              "    [theme=dark] .colab-df-convert {\n",
              "      background-color: #3B4455;\n",
              "      fill: #D2E3FC;\n",
              "    }\n",
              "\n",
              "    [theme=dark] .colab-df-convert:hover {\n",
              "      background-color: #434B5C;\n",
              "      box-shadow: 0px 1px 3px 1px rgba(0, 0, 0, 0.15);\n",
              "      filter: drop-shadow(0px 1px 2px rgba(0, 0, 0, 0.3));\n",
              "      fill: #FFFFFF;\n",
              "    }\n",
              "  </style>\n",
              "\n",
              "      <script>\n",
              "        const buttonEl =\n",
              "          document.querySelector('#df-7d6d1f4e-b2de-45e4-98d9-db8a7f03937a button.colab-df-convert');\n",
              "        buttonEl.style.display =\n",
              "          google.colab.kernel.accessAllowed ? 'block' : 'none';\n",
              "\n",
              "        async function convertToInteractive(key) {\n",
              "          const element = document.querySelector('#df-7d6d1f4e-b2de-45e4-98d9-db8a7f03937a');\n",
              "          const dataTable =\n",
              "            await google.colab.kernel.invokeFunction('convertToInteractive',\n",
              "                                                     [key], {});\n",
              "          if (!dataTable) return;\n",
              "\n",
              "          const docLinkHtml = 'Like what you see? Visit the ' +\n",
              "            '<a target=\"_blank\" href=https://colab.research.google.com/notebooks/data_table.ipynb>data table notebook</a>'\n",
              "            + ' to learn more about interactive tables.';\n",
              "          element.innerHTML = '';\n",
              "          dataTable['output_type'] = 'display_data';\n",
              "          await google.colab.output.renderOutput(dataTable, element);\n",
              "          const docLink = document.createElement('div');\n",
              "          docLink.innerHTML = docLinkHtml;\n",
              "          element.appendChild(docLink);\n",
              "        }\n",
              "      </script>\n",
              "    </div>\n",
              "  </div>\n",
              "  "
            ]
          },
          "metadata": {},
          "execution_count": 143
        }
      ]
    },
    {
      "cell_type": "code",
      "source": [
        "# Функция для очистки текста \n",
        "def clean_text(text):\n",
        "  text = text.lower()\n",
        "  return \" \".join(re.sub(r\"[^а-яa-z]\", ' ', text).split()) \n",
        " \n",
        "# создаем список для хранения преобразованных данных \n",
        "processed_text = []\n",
        "# загружаем стоп-слова для английского языка\n",
        "stop_words = stopwords.words('russian')\n",
        "# инициализируем лемматайзер \n",
        "lemmatizer = WordNetLemmatizer()\n",
        " \n",
        "# для каждого сообщения text из столбца data['Message']\n",
        "for text in df_test['name']:\n",
        "    # cleaning \n",
        "    text = clean_text(text)   \n",
        "    # tokenization\n",
        "    text = word_tokenize(text)       \n",
        "    # удаление стоп-слов\n",
        "    text = [word for word in text if word not in stop_words]     \n",
        "    # лемматизация\n",
        "    text = [lemmatizer.lemmatize(w) for w in text]\n",
        "    text = [word for word in text if len(word) >= 3]  \n",
        "    # добавляем преобразованный текст в список processed_text\n",
        "    processed_text.append(text)\n",
        " \n",
        "# Сохраняем результат преобразования в новой колонке 'Processed_msg'\n",
        "df_test['lemm_text'] = processed_text"
      ],
      "metadata": {
        "id": "xqWr4umCaWFb"
      },
      "execution_count": null,
      "outputs": []
    },
    {
      "cell_type": "code",
      "source": [
        "df_test"
      ],
      "metadata": {
        "id": "fskkpUTca5xL",
        "colab": {
          "base_uri": "https://localhost:8080/",
          "height": 424
        },
        "outputId": "9f1b9d5a-4fe3-40d6-ee33-06c01457509e"
      },
      "execution_count": null,
      "outputs": [
        {
          "output_type": "execute_result",
          "data": {
            "text/plain": [
              "            id                                               name  \\\n",
              "0        10529   КАРАМЕЛЬ \"ЛАКОМКА-СУПЕРМОЛОЧНАЯ\" ВЕС (РОТ ФРОНТ)   \n",
              "1        10530           2: 3637233 РАЭ Масло ТРАДИЦ.слив.82,5% 1   \n",
              "2        10531  960012-LG NS  Бинт эластичный Classic лаймовый...   \n",
              "3        10532                  Вода мин. 1.5л пл/у (Сахалинская)   \n",
              "4        10533            Ролики натяжителя ремня AMD.GTA0740 AMD   \n",
              "...        ...                                                ...   \n",
              "282222  292751                   Пельмени Московские Пижанка 800г   \n",
              "282223  292752                     Активиа 135гр Пробиотик малина   \n",
              "282224  292753                                    Базилик овощной   \n",
              "282225  292754   JACOBS Millicano Кофе Crema Espresso раств с мол   \n",
              "282226  292755                   ШЕБА плежур Форель, Креветки 85г   \n",
              "\n",
              "                                                lemm_text  \n",
              "0       [карамель, лакомка, супермолочная, вес, рот, ф...  \n",
              "1                              [раэ, масло, традиц, слив]  \n",
              "2                   [бинт, эластичный, classic, лаймовый]  \n",
              "3                                [вода, мин, сахалинская]  \n",
              "4              [ролики, натяжителя, ремня, amd, gta, amd]  \n",
              "...                                                   ...  \n",
              "282222                    [пельмени, московские, пижанка]  \n",
              "282223                       [активиа, пробиотик, малина]  \n",
              "282224                                 [базилик, овощной]  \n",
              "282225  [jacob, millicano, кофе, crema, espresso, раст...  \n",
              "282226                   [шеба, плежур, форель, креветки]  \n",
              "\n",
              "[282227 rows x 3 columns]"
            ],
            "text/html": [
              "\n",
              "  <div id=\"df-3af6ebb0-4ef2-4d7f-94c4-4ac9a6d9981b\">\n",
              "    <div class=\"colab-df-container\">\n",
              "      <div>\n",
              "<style scoped>\n",
              "    .dataframe tbody tr th:only-of-type {\n",
              "        vertical-align: middle;\n",
              "    }\n",
              "\n",
              "    .dataframe tbody tr th {\n",
              "        vertical-align: top;\n",
              "    }\n",
              "\n",
              "    .dataframe thead th {\n",
              "        text-align: right;\n",
              "    }\n",
              "</style>\n",
              "<table border=\"1\" class=\"dataframe\">\n",
              "  <thead>\n",
              "    <tr style=\"text-align: right;\">\n",
              "      <th></th>\n",
              "      <th>id</th>\n",
              "      <th>name</th>\n",
              "      <th>lemm_text</th>\n",
              "    </tr>\n",
              "  </thead>\n",
              "  <tbody>\n",
              "    <tr>\n",
              "      <th>0</th>\n",
              "      <td>10529</td>\n",
              "      <td>КАРАМЕЛЬ \"ЛАКОМКА-СУПЕРМОЛОЧНАЯ\" ВЕС (РОТ ФРОНТ)</td>\n",
              "      <td>[карамель, лакомка, супермолочная, вес, рот, ф...</td>\n",
              "    </tr>\n",
              "    <tr>\n",
              "      <th>1</th>\n",
              "      <td>10530</td>\n",
              "      <td>2: 3637233 РАЭ Масло ТРАДИЦ.слив.82,5% 1</td>\n",
              "      <td>[раэ, масло, традиц, слив]</td>\n",
              "    </tr>\n",
              "    <tr>\n",
              "      <th>2</th>\n",
              "      <td>10531</td>\n",
              "      <td>960012-LG NS  Бинт эластичный Classic лаймовый...</td>\n",
              "      <td>[бинт, эластичный, classic, лаймовый]</td>\n",
              "    </tr>\n",
              "    <tr>\n",
              "      <th>3</th>\n",
              "      <td>10532</td>\n",
              "      <td>Вода мин. 1.5л пл/у (Сахалинская)</td>\n",
              "      <td>[вода, мин, сахалинская]</td>\n",
              "    </tr>\n",
              "    <tr>\n",
              "      <th>4</th>\n",
              "      <td>10533</td>\n",
              "      <td>Ролики натяжителя ремня AMD.GTA0740 AMD</td>\n",
              "      <td>[ролики, натяжителя, ремня, amd, gta, amd]</td>\n",
              "    </tr>\n",
              "    <tr>\n",
              "      <th>...</th>\n",
              "      <td>...</td>\n",
              "      <td>...</td>\n",
              "      <td>...</td>\n",
              "    </tr>\n",
              "    <tr>\n",
              "      <th>282222</th>\n",
              "      <td>292751</td>\n",
              "      <td>Пельмени Московские Пижанка 800г</td>\n",
              "      <td>[пельмени, московские, пижанка]</td>\n",
              "    </tr>\n",
              "    <tr>\n",
              "      <th>282223</th>\n",
              "      <td>292752</td>\n",
              "      <td>Активиа 135гр Пробиотик малина</td>\n",
              "      <td>[активиа, пробиотик, малина]</td>\n",
              "    </tr>\n",
              "    <tr>\n",
              "      <th>282224</th>\n",
              "      <td>292753</td>\n",
              "      <td>Базилик овощной</td>\n",
              "      <td>[базилик, овощной]</td>\n",
              "    </tr>\n",
              "    <tr>\n",
              "      <th>282225</th>\n",
              "      <td>292754</td>\n",
              "      <td>JACOBS Millicano Кофе Crema Espresso раств с мол</td>\n",
              "      <td>[jacob, millicano, кофе, crema, espresso, раст...</td>\n",
              "    </tr>\n",
              "    <tr>\n",
              "      <th>282226</th>\n",
              "      <td>292755</td>\n",
              "      <td>ШЕБА плежур Форель, Креветки 85г</td>\n",
              "      <td>[шеба, плежур, форель, креветки]</td>\n",
              "    </tr>\n",
              "  </tbody>\n",
              "</table>\n",
              "<p>282227 rows × 3 columns</p>\n",
              "</div>\n",
              "      <button class=\"colab-df-convert\" onclick=\"convertToInteractive('df-3af6ebb0-4ef2-4d7f-94c4-4ac9a6d9981b')\"\n",
              "              title=\"Convert this dataframe to an interactive table.\"\n",
              "              style=\"display:none;\">\n",
              "        \n",
              "  <svg xmlns=\"http://www.w3.org/2000/svg\" height=\"24px\"viewBox=\"0 0 24 24\"\n",
              "       width=\"24px\">\n",
              "    <path d=\"M0 0h24v24H0V0z\" fill=\"none\"/>\n",
              "    <path d=\"M18.56 5.44l.94 2.06.94-2.06 2.06-.94-2.06-.94-.94-2.06-.94 2.06-2.06.94zm-11 1L8.5 8.5l.94-2.06 2.06-.94-2.06-.94L8.5 2.5l-.94 2.06-2.06.94zm10 10l.94 2.06.94-2.06 2.06-.94-2.06-.94-.94-2.06-.94 2.06-2.06.94z\"/><path d=\"M17.41 7.96l-1.37-1.37c-.4-.4-.92-.59-1.43-.59-.52 0-1.04.2-1.43.59L10.3 9.45l-7.72 7.72c-.78.78-.78 2.05 0 2.83L4 21.41c.39.39.9.59 1.41.59.51 0 1.02-.2 1.41-.59l7.78-7.78 2.81-2.81c.8-.78.8-2.07 0-2.86zM5.41 20L4 18.59l7.72-7.72 1.47 1.35L5.41 20z\"/>\n",
              "  </svg>\n",
              "      </button>\n",
              "      \n",
              "  <style>\n",
              "    .colab-df-container {\n",
              "      display:flex;\n",
              "      flex-wrap:wrap;\n",
              "      gap: 12px;\n",
              "    }\n",
              "\n",
              "    .colab-df-convert {\n",
              "      background-color: #E8F0FE;\n",
              "      border: none;\n",
              "      border-radius: 50%;\n",
              "      cursor: pointer;\n",
              "      display: none;\n",
              "      fill: #1967D2;\n",
              "      height: 32px;\n",
              "      padding: 0 0 0 0;\n",
              "      width: 32px;\n",
              "    }\n",
              "\n",
              "    .colab-df-convert:hover {\n",
              "      background-color: #E2EBFA;\n",
              "      box-shadow: 0px 1px 2px rgba(60, 64, 67, 0.3), 0px 1px 3px 1px rgba(60, 64, 67, 0.15);\n",
              "      fill: #174EA6;\n",
              "    }\n",
              "\n",
              "    [theme=dark] .colab-df-convert {\n",
              "      background-color: #3B4455;\n",
              "      fill: #D2E3FC;\n",
              "    }\n",
              "\n",
              "    [theme=dark] .colab-df-convert:hover {\n",
              "      background-color: #434B5C;\n",
              "      box-shadow: 0px 1px 3px 1px rgba(0, 0, 0, 0.15);\n",
              "      filter: drop-shadow(0px 1px 2px rgba(0, 0, 0, 0.3));\n",
              "      fill: #FFFFFF;\n",
              "    }\n",
              "  </style>\n",
              "\n",
              "      <script>\n",
              "        const buttonEl =\n",
              "          document.querySelector('#df-3af6ebb0-4ef2-4d7f-94c4-4ac9a6d9981b button.colab-df-convert');\n",
              "        buttonEl.style.display =\n",
              "          google.colab.kernel.accessAllowed ? 'block' : 'none';\n",
              "\n",
              "        async function convertToInteractive(key) {\n",
              "          const element = document.querySelector('#df-3af6ebb0-4ef2-4d7f-94c4-4ac9a6d9981b');\n",
              "          const dataTable =\n",
              "            await google.colab.kernel.invokeFunction('convertToInteractive',\n",
              "                                                     [key], {});\n",
              "          if (!dataTable) return;\n",
              "\n",
              "          const docLinkHtml = 'Like what you see? Visit the ' +\n",
              "            '<a target=\"_blank\" href=https://colab.research.google.com/notebooks/data_table.ipynb>data table notebook</a>'\n",
              "            + ' to learn more about interactive tables.';\n",
              "          element.innerHTML = '';\n",
              "          dataTable['output_type'] = 'display_data';\n",
              "          await google.colab.output.renderOutput(dataTable, element);\n",
              "          const docLink = document.createElement('div');\n",
              "          docLink.innerHTML = docLinkHtml;\n",
              "          element.appendChild(docLink);\n",
              "        }\n",
              "      </script>\n",
              "    </div>\n",
              "  </div>\n",
              "  "
            ]
          },
          "metadata": {},
          "execution_count": 146
        }
      ]
    },
    {
      "cell_type": "code",
      "source": [
        "df_test['lemm_text_str'] = df_test['lemm_text'].apply(lambda x: ' '.join(x))"
      ],
      "metadata": {
        "id": "6si-Y8Zfa50L"
      },
      "execution_count": null,
      "outputs": []
    },
    {
      "cell_type": "code",
      "source": [
        "df_test"
      ],
      "metadata": {
        "id": "ccz9NW2Mo4Jp",
        "colab": {
          "base_uri": "https://localhost:8080/",
          "height": 424
        },
        "outputId": "4b2d1bf8-6e20-43d0-e52b-cb1c83d58e46"
      },
      "execution_count": null,
      "outputs": [
        {
          "output_type": "execute_result",
          "data": {
            "text/plain": [
              "            id                                               name  \\\n",
              "0        10529   КАРАМЕЛЬ \"ЛАКОМКА-СУПЕРМОЛОЧНАЯ\" ВЕС (РОТ ФРОНТ)   \n",
              "1        10530           2: 3637233 РАЭ Масло ТРАДИЦ.слив.82,5% 1   \n",
              "2        10531  960012-LG NS  Бинт эластичный Classic лаймовый...   \n",
              "3        10532                  Вода мин. 1.5л пл/у (Сахалинская)   \n",
              "4        10533            Ролики натяжителя ремня AMD.GTA0740 AMD   \n",
              "...        ...                                                ...   \n",
              "282222  292751                   Пельмени Московские Пижанка 800г   \n",
              "282223  292752                     Активиа 135гр Пробиотик малина   \n",
              "282224  292753                                    Базилик овощной   \n",
              "282225  292754   JACOBS Millicano Кофе Crema Espresso раств с мол   \n",
              "282226  292755                   ШЕБА плежур Форель, Креветки 85г   \n",
              "\n",
              "                                                lemm_text  \\\n",
              "0       [карамель, лакомка, супермолочная, вес, рот, ф...   \n",
              "1                              [раэ, масло, традиц, слив]   \n",
              "2                   [бинт, эластичный, classic, лаймовый]   \n",
              "3                                [вода, мин, сахалинская]   \n",
              "4              [ролики, натяжителя, ремня, amd, gta, amd]   \n",
              "...                                                   ...   \n",
              "282222                    [пельмени, московские, пижанка]   \n",
              "282223                       [активиа, пробиотик, малина]   \n",
              "282224                                 [базилик, овощной]   \n",
              "282225  [jacob, millicano, кофе, crema, espresso, раст...   \n",
              "282226                   [шеба, плежур, форель, креветки]   \n",
              "\n",
              "                                        lemm_text_str  \n",
              "0        карамель лакомка супермолочная вес рот фронт  \n",
              "1                               раэ масло традиц слив  \n",
              "2                    бинт эластичный classic лаймовый  \n",
              "3                                вода мин сахалинская  \n",
              "4                 ролики натяжителя ремня amd gta amd  \n",
              "...                                               ...  \n",
              "282222                    пельмени московские пижанка  \n",
              "282223                       активиа пробиотик малина  \n",
              "282224                                базилик овощной  \n",
              "282225  jacob millicano кофе crema espresso раств мол  \n",
              "282226                    шеба плежур форель креветки  \n",
              "\n",
              "[282227 rows x 4 columns]"
            ],
            "text/html": [
              "\n",
              "  <div id=\"df-359463a9-85c2-4497-9ad4-3bf139d940f4\">\n",
              "    <div class=\"colab-df-container\">\n",
              "      <div>\n",
              "<style scoped>\n",
              "    .dataframe tbody tr th:only-of-type {\n",
              "        vertical-align: middle;\n",
              "    }\n",
              "\n",
              "    .dataframe tbody tr th {\n",
              "        vertical-align: top;\n",
              "    }\n",
              "\n",
              "    .dataframe thead th {\n",
              "        text-align: right;\n",
              "    }\n",
              "</style>\n",
              "<table border=\"1\" class=\"dataframe\">\n",
              "  <thead>\n",
              "    <tr style=\"text-align: right;\">\n",
              "      <th></th>\n",
              "      <th>id</th>\n",
              "      <th>name</th>\n",
              "      <th>lemm_text</th>\n",
              "      <th>lemm_text_str</th>\n",
              "    </tr>\n",
              "  </thead>\n",
              "  <tbody>\n",
              "    <tr>\n",
              "      <th>0</th>\n",
              "      <td>10529</td>\n",
              "      <td>КАРАМЕЛЬ \"ЛАКОМКА-СУПЕРМОЛОЧНАЯ\" ВЕС (РОТ ФРОНТ)</td>\n",
              "      <td>[карамель, лакомка, супермолочная, вес, рот, ф...</td>\n",
              "      <td>карамель лакомка супермолочная вес рот фронт</td>\n",
              "    </tr>\n",
              "    <tr>\n",
              "      <th>1</th>\n",
              "      <td>10530</td>\n",
              "      <td>2: 3637233 РАЭ Масло ТРАДИЦ.слив.82,5% 1</td>\n",
              "      <td>[раэ, масло, традиц, слив]</td>\n",
              "      <td>раэ масло традиц слив</td>\n",
              "    </tr>\n",
              "    <tr>\n",
              "      <th>2</th>\n",
              "      <td>10531</td>\n",
              "      <td>960012-LG NS  Бинт эластичный Classic лаймовый...</td>\n",
              "      <td>[бинт, эластичный, classic, лаймовый]</td>\n",
              "      <td>бинт эластичный classic лаймовый</td>\n",
              "    </tr>\n",
              "    <tr>\n",
              "      <th>3</th>\n",
              "      <td>10532</td>\n",
              "      <td>Вода мин. 1.5л пл/у (Сахалинская)</td>\n",
              "      <td>[вода, мин, сахалинская]</td>\n",
              "      <td>вода мин сахалинская</td>\n",
              "    </tr>\n",
              "    <tr>\n",
              "      <th>4</th>\n",
              "      <td>10533</td>\n",
              "      <td>Ролики натяжителя ремня AMD.GTA0740 AMD</td>\n",
              "      <td>[ролики, натяжителя, ремня, amd, gta, amd]</td>\n",
              "      <td>ролики натяжителя ремня amd gta amd</td>\n",
              "    </tr>\n",
              "    <tr>\n",
              "      <th>...</th>\n",
              "      <td>...</td>\n",
              "      <td>...</td>\n",
              "      <td>...</td>\n",
              "      <td>...</td>\n",
              "    </tr>\n",
              "    <tr>\n",
              "      <th>282222</th>\n",
              "      <td>292751</td>\n",
              "      <td>Пельмени Московские Пижанка 800г</td>\n",
              "      <td>[пельмени, московские, пижанка]</td>\n",
              "      <td>пельмени московские пижанка</td>\n",
              "    </tr>\n",
              "    <tr>\n",
              "      <th>282223</th>\n",
              "      <td>292752</td>\n",
              "      <td>Активиа 135гр Пробиотик малина</td>\n",
              "      <td>[активиа, пробиотик, малина]</td>\n",
              "      <td>активиа пробиотик малина</td>\n",
              "    </tr>\n",
              "    <tr>\n",
              "      <th>282224</th>\n",
              "      <td>292753</td>\n",
              "      <td>Базилик овощной</td>\n",
              "      <td>[базилик, овощной]</td>\n",
              "      <td>базилик овощной</td>\n",
              "    </tr>\n",
              "    <tr>\n",
              "      <th>282225</th>\n",
              "      <td>292754</td>\n",
              "      <td>JACOBS Millicano Кофе Crema Espresso раств с мол</td>\n",
              "      <td>[jacob, millicano, кофе, crema, espresso, раст...</td>\n",
              "      <td>jacob millicano кофе crema espresso раств мол</td>\n",
              "    </tr>\n",
              "    <tr>\n",
              "      <th>282226</th>\n",
              "      <td>292755</td>\n",
              "      <td>ШЕБА плежур Форель, Креветки 85г</td>\n",
              "      <td>[шеба, плежур, форель, креветки]</td>\n",
              "      <td>шеба плежур форель креветки</td>\n",
              "    </tr>\n",
              "  </tbody>\n",
              "</table>\n",
              "<p>282227 rows × 4 columns</p>\n",
              "</div>\n",
              "      <button class=\"colab-df-convert\" onclick=\"convertToInteractive('df-359463a9-85c2-4497-9ad4-3bf139d940f4')\"\n",
              "              title=\"Convert this dataframe to an interactive table.\"\n",
              "              style=\"display:none;\">\n",
              "        \n",
              "  <svg xmlns=\"http://www.w3.org/2000/svg\" height=\"24px\"viewBox=\"0 0 24 24\"\n",
              "       width=\"24px\">\n",
              "    <path d=\"M0 0h24v24H0V0z\" fill=\"none\"/>\n",
              "    <path d=\"M18.56 5.44l.94 2.06.94-2.06 2.06-.94-2.06-.94-.94-2.06-.94 2.06-2.06.94zm-11 1L8.5 8.5l.94-2.06 2.06-.94-2.06-.94L8.5 2.5l-.94 2.06-2.06.94zm10 10l.94 2.06.94-2.06 2.06-.94-2.06-.94-.94-2.06-.94 2.06-2.06.94z\"/><path d=\"M17.41 7.96l-1.37-1.37c-.4-.4-.92-.59-1.43-.59-.52 0-1.04.2-1.43.59L10.3 9.45l-7.72 7.72c-.78.78-.78 2.05 0 2.83L4 21.41c.39.39.9.59 1.41.59.51 0 1.02-.2 1.41-.59l7.78-7.78 2.81-2.81c.8-.78.8-2.07 0-2.86zM5.41 20L4 18.59l7.72-7.72 1.47 1.35L5.41 20z\"/>\n",
              "  </svg>\n",
              "      </button>\n",
              "      \n",
              "  <style>\n",
              "    .colab-df-container {\n",
              "      display:flex;\n",
              "      flex-wrap:wrap;\n",
              "      gap: 12px;\n",
              "    }\n",
              "\n",
              "    .colab-df-convert {\n",
              "      background-color: #E8F0FE;\n",
              "      border: none;\n",
              "      border-radius: 50%;\n",
              "      cursor: pointer;\n",
              "      display: none;\n",
              "      fill: #1967D2;\n",
              "      height: 32px;\n",
              "      padding: 0 0 0 0;\n",
              "      width: 32px;\n",
              "    }\n",
              "\n",
              "    .colab-df-convert:hover {\n",
              "      background-color: #E2EBFA;\n",
              "      box-shadow: 0px 1px 2px rgba(60, 64, 67, 0.3), 0px 1px 3px 1px rgba(60, 64, 67, 0.15);\n",
              "      fill: #174EA6;\n",
              "    }\n",
              "\n",
              "    [theme=dark] .colab-df-convert {\n",
              "      background-color: #3B4455;\n",
              "      fill: #D2E3FC;\n",
              "    }\n",
              "\n",
              "    [theme=dark] .colab-df-convert:hover {\n",
              "      background-color: #434B5C;\n",
              "      box-shadow: 0px 1px 3px 1px rgba(0, 0, 0, 0.15);\n",
              "      filter: drop-shadow(0px 1px 2px rgba(0, 0, 0, 0.3));\n",
              "      fill: #FFFFFF;\n",
              "    }\n",
              "  </style>\n",
              "\n",
              "      <script>\n",
              "        const buttonEl =\n",
              "          document.querySelector('#df-359463a9-85c2-4497-9ad4-3bf139d940f4 button.colab-df-convert');\n",
              "        buttonEl.style.display =\n",
              "          google.colab.kernel.accessAllowed ? 'block' : 'none';\n",
              "\n",
              "        async function convertToInteractive(key) {\n",
              "          const element = document.querySelector('#df-359463a9-85c2-4497-9ad4-3bf139d940f4');\n",
              "          const dataTable =\n",
              "            await google.colab.kernel.invokeFunction('convertToInteractive',\n",
              "                                                     [key], {});\n",
              "          if (!dataTable) return;\n",
              "\n",
              "          const docLinkHtml = 'Like what you see? Visit the ' +\n",
              "            '<a target=\"_blank\" href=https://colab.research.google.com/notebooks/data_table.ipynb>data table notebook</a>'\n",
              "            + ' to learn more about interactive tables.';\n",
              "          element.innerHTML = '';\n",
              "          dataTable['output_type'] = 'display_data';\n",
              "          await google.colab.output.renderOutput(dataTable, element);\n",
              "          const docLink = document.createElement('div');\n",
              "          docLink.innerHTML = docLinkHtml;\n",
              "          element.appendChild(docLink);\n",
              "        }\n",
              "      </script>\n",
              "    </div>\n",
              "  </div>\n",
              "  "
            ]
          },
          "metadata": {},
          "execution_count": 148
        }
      ]
    },
    {
      "cell_type": "code",
      "source": [
        "test_features = vectorizer.transform(df_test['lemm_text_str'].values)"
      ],
      "metadata": {
        "id": "eWK5J1gVbR1Y"
      },
      "execution_count": null,
      "outputs": []
    },
    {
      "cell_type": "code",
      "source": [
        "test_features.shape"
      ],
      "metadata": {
        "id": "zXTf6ASpn21G",
        "colab": {
          "base_uri": "https://localhost:8080/"
        },
        "outputId": "a0666ea8-806e-486f-c7d6-24ed3fa3f51b"
      },
      "execution_count": null,
      "outputs": [
        {
          "output_type": "execute_result",
          "data": {
            "text/plain": [
              "(282227, 254120)"
            ]
          },
          "metadata": {},
          "execution_count": 150
        }
      ]
    },
    {
      "cell_type": "code",
      "source": [
        "X_df_test = test_features"
      ],
      "metadata": {
        "id": "GmX9p1InbbyM"
      },
      "execution_count": null,
      "outputs": []
    },
    {
      "cell_type": "code",
      "source": [
        "y_df_test_pred  = lg_model.predict(X_df_test)"
      ],
      "metadata": {
        "id": "G0v7Q9tTbgre"
      },
      "execution_count": null,
      "outputs": []
    },
    {
      "cell_type": "code",
      "source": [
        "submission = pd.DataFrame({\n",
        "        \"id\": df_test[\"id\"],\n",
        "        \"groups\": y_df_test_pred\n",
        "    })\n"
      ],
      "metadata": {
        "id": "Q0KQOEHQoBmp"
      },
      "execution_count": null,
      "outputs": []
    },
    {
      "cell_type": "code",
      "source": [
        "submission"
      ],
      "metadata": {
        "id": "b5D3c_Ylo-b2",
        "colab": {
          "base_uri": "https://localhost:8080/",
          "height": 424
        },
        "outputId": "9e894e4e-9453-4079-e33d-a75d866463f5"
      },
      "execution_count": null,
      "outputs": [
        {
          "output_type": "execute_result",
          "data": {
            "text/plain": [
              "            id  groups\n",
              "0        10529      10\n",
              "1        10530      10\n",
              "2        10531      10\n",
              "3        10532       0\n",
              "4        10533      10\n",
              "...        ...     ...\n",
              "282222  292751      10\n",
              "282223  292752       7\n",
              "282224  292753      10\n",
              "282225  292754      10\n",
              "282226  292755      10\n",
              "\n",
              "[282227 rows x 2 columns]"
            ],
            "text/html": [
              "\n",
              "  <div id=\"df-ed6cf687-82b8-44f4-8359-9b472dce8dbe\">\n",
              "    <div class=\"colab-df-container\">\n",
              "      <div>\n",
              "<style scoped>\n",
              "    .dataframe tbody tr th:only-of-type {\n",
              "        vertical-align: middle;\n",
              "    }\n",
              "\n",
              "    .dataframe tbody tr th {\n",
              "        vertical-align: top;\n",
              "    }\n",
              "\n",
              "    .dataframe thead th {\n",
              "        text-align: right;\n",
              "    }\n",
              "</style>\n",
              "<table border=\"1\" class=\"dataframe\">\n",
              "  <thead>\n",
              "    <tr style=\"text-align: right;\">\n",
              "      <th></th>\n",
              "      <th>id</th>\n",
              "      <th>groups</th>\n",
              "    </tr>\n",
              "  </thead>\n",
              "  <tbody>\n",
              "    <tr>\n",
              "      <th>0</th>\n",
              "      <td>10529</td>\n",
              "      <td>10</td>\n",
              "    </tr>\n",
              "    <tr>\n",
              "      <th>1</th>\n",
              "      <td>10530</td>\n",
              "      <td>10</td>\n",
              "    </tr>\n",
              "    <tr>\n",
              "      <th>2</th>\n",
              "      <td>10531</td>\n",
              "      <td>10</td>\n",
              "    </tr>\n",
              "    <tr>\n",
              "      <th>3</th>\n",
              "      <td>10532</td>\n",
              "      <td>0</td>\n",
              "    </tr>\n",
              "    <tr>\n",
              "      <th>4</th>\n",
              "      <td>10533</td>\n",
              "      <td>10</td>\n",
              "    </tr>\n",
              "    <tr>\n",
              "      <th>...</th>\n",
              "      <td>...</td>\n",
              "      <td>...</td>\n",
              "    </tr>\n",
              "    <tr>\n",
              "      <th>282222</th>\n",
              "      <td>292751</td>\n",
              "      <td>10</td>\n",
              "    </tr>\n",
              "    <tr>\n",
              "      <th>282223</th>\n",
              "      <td>292752</td>\n",
              "      <td>7</td>\n",
              "    </tr>\n",
              "    <tr>\n",
              "      <th>282224</th>\n",
              "      <td>292753</td>\n",
              "      <td>10</td>\n",
              "    </tr>\n",
              "    <tr>\n",
              "      <th>282225</th>\n",
              "      <td>292754</td>\n",
              "      <td>10</td>\n",
              "    </tr>\n",
              "    <tr>\n",
              "      <th>282226</th>\n",
              "      <td>292755</td>\n",
              "      <td>10</td>\n",
              "    </tr>\n",
              "  </tbody>\n",
              "</table>\n",
              "<p>282227 rows × 2 columns</p>\n",
              "</div>\n",
              "      <button class=\"colab-df-convert\" onclick=\"convertToInteractive('df-ed6cf687-82b8-44f4-8359-9b472dce8dbe')\"\n",
              "              title=\"Convert this dataframe to an interactive table.\"\n",
              "              style=\"display:none;\">\n",
              "        \n",
              "  <svg xmlns=\"http://www.w3.org/2000/svg\" height=\"24px\"viewBox=\"0 0 24 24\"\n",
              "       width=\"24px\">\n",
              "    <path d=\"M0 0h24v24H0V0z\" fill=\"none\"/>\n",
              "    <path d=\"M18.56 5.44l.94 2.06.94-2.06 2.06-.94-2.06-.94-.94-2.06-.94 2.06-2.06.94zm-11 1L8.5 8.5l.94-2.06 2.06-.94-2.06-.94L8.5 2.5l-.94 2.06-2.06.94zm10 10l.94 2.06.94-2.06 2.06-.94-2.06-.94-.94-2.06-.94 2.06-2.06.94z\"/><path d=\"M17.41 7.96l-1.37-1.37c-.4-.4-.92-.59-1.43-.59-.52 0-1.04.2-1.43.59L10.3 9.45l-7.72 7.72c-.78.78-.78 2.05 0 2.83L4 21.41c.39.39.9.59 1.41.59.51 0 1.02-.2 1.41-.59l7.78-7.78 2.81-2.81c.8-.78.8-2.07 0-2.86zM5.41 20L4 18.59l7.72-7.72 1.47 1.35L5.41 20z\"/>\n",
              "  </svg>\n",
              "      </button>\n",
              "      \n",
              "  <style>\n",
              "    .colab-df-container {\n",
              "      display:flex;\n",
              "      flex-wrap:wrap;\n",
              "      gap: 12px;\n",
              "    }\n",
              "\n",
              "    .colab-df-convert {\n",
              "      background-color: #E8F0FE;\n",
              "      border: none;\n",
              "      border-radius: 50%;\n",
              "      cursor: pointer;\n",
              "      display: none;\n",
              "      fill: #1967D2;\n",
              "      height: 32px;\n",
              "      padding: 0 0 0 0;\n",
              "      width: 32px;\n",
              "    }\n",
              "\n",
              "    .colab-df-convert:hover {\n",
              "      background-color: #E2EBFA;\n",
              "      box-shadow: 0px 1px 2px rgba(60, 64, 67, 0.3), 0px 1px 3px 1px rgba(60, 64, 67, 0.15);\n",
              "      fill: #174EA6;\n",
              "    }\n",
              "\n",
              "    [theme=dark] .colab-df-convert {\n",
              "      background-color: #3B4455;\n",
              "      fill: #D2E3FC;\n",
              "    }\n",
              "\n",
              "    [theme=dark] .colab-df-convert:hover {\n",
              "      background-color: #434B5C;\n",
              "      box-shadow: 0px 1px 3px 1px rgba(0, 0, 0, 0.15);\n",
              "      filter: drop-shadow(0px 1px 2px rgba(0, 0, 0, 0.3));\n",
              "      fill: #FFFFFF;\n",
              "    }\n",
              "  </style>\n",
              "\n",
              "      <script>\n",
              "        const buttonEl =\n",
              "          document.querySelector('#df-ed6cf687-82b8-44f4-8359-9b472dce8dbe button.colab-df-convert');\n",
              "        buttonEl.style.display =\n",
              "          google.colab.kernel.accessAllowed ? 'block' : 'none';\n",
              "\n",
              "        async function convertToInteractive(key) {\n",
              "          const element = document.querySelector('#df-ed6cf687-82b8-44f4-8359-9b472dce8dbe');\n",
              "          const dataTable =\n",
              "            await google.colab.kernel.invokeFunction('convertToInteractive',\n",
              "                                                     [key], {});\n",
              "          if (!dataTable) return;\n",
              "\n",
              "          const docLinkHtml = 'Like what you see? Visit the ' +\n",
              "            '<a target=\"_blank\" href=https://colab.research.google.com/notebooks/data_table.ipynb>data table notebook</a>'\n",
              "            + ' to learn more about interactive tables.';\n",
              "          element.innerHTML = '';\n",
              "          dataTable['output_type'] = 'display_data';\n",
              "          await google.colab.output.renderOutput(dataTable, element);\n",
              "          const docLink = document.createElement('div');\n",
              "          docLink.innerHTML = docLinkHtml;\n",
              "          element.appendChild(docLink);\n",
              "        }\n",
              "      </script>\n",
              "    </div>\n",
              "  </div>\n",
              "  "
            ]
          },
          "metadata": {},
          "execution_count": 154
        }
      ]
    },
    {
      "cell_type": "code",
      "source": [
        "submission.to_csv('lr_submission_6try_test_01_az.csv', index=False)"
      ],
      "metadata": {
        "id": "TA_eFmhbpDQk"
      },
      "execution_count": null,
      "outputs": []
    },
    {
      "cell_type": "markdown",
      "source": [],
      "metadata": {
        "id": "Q0kOvYDTpIIY"
      }
    }
  ]
}