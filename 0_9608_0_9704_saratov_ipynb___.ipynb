{
  "nbformat": 4,
  "nbformat_minor": 0,
  "metadata": {
    "colab": {
      "provenance": [],
      "collapsed_sections": []
    },
    "kernelspec": {
      "name": "python3",
      "display_name": "Python 3"
    },
    "language_info": {
      "name": "python"
    }
  },
  "cells": [
    {
      "cell_type": "markdown",
      "source": [
        "https://drive.google.com/file/d/1wkQDfUIBwY4SO5mC1JAua9d6JBa1sCcd/view?usp=sharing"
      ],
      "metadata": {
        "id": "KbydJwMOAyCq"
      }
    },
    {
      "cell_type": "code",
      "source": [
        "! gdown 1wkQDfUIBwY4SO5mC1JAua9d6JBa1sCcd"
      ],
      "metadata": {
        "colab": {
          "base_uri": "https://localhost:8080/"
        },
        "id": "m7zx2tlcA5DJ",
        "outputId": "92fff44b-258f-4cfa-953d-4d23b01ebf48"
      },
      "execution_count": null,
      "outputs": [
        {
          "output_type": "stream",
          "name": "stdout",
          "text": [
            "Downloading...\n",
            "From: https://drive.google.com/uc?id=1wkQDfUIBwY4SO5mC1JAua9d6JBa1sCcd\n",
            "To: /content/train_dataset_train.csv\n",
            "100% 50.5M/50.5M [00:00<00:00, 99.1MB/s]\n"
          ]
        }
      ]
    },
    {
      "cell_type": "code",
      "source": [
        "import pandas as pd\n",
        "import seaborn as sns\n",
        "from sklearn.metrics import f1_score"
      ],
      "metadata": {
        "id": "hzTTfFhKA5Ga"
      },
      "execution_count": null,
      "outputs": []
    },
    {
      "cell_type": "code",
      "source": [
        "import numpy as np\n",
        "import pandas as pd\n",
        "import torch\n",
        "# import transformers\n",
        "from tqdm import notebook\n",
        "from sklearn.linear_model import LogisticRegression\n",
        "from sklearn.model_selection import cross_val_score\n",
        "from sklearn.model_selection import train_test_split\n",
        "from sklearn.feature_extraction.text import TfidfVectorizer\n",
        "from sklearn.model_selection import GridSearchCV"
      ],
      "metadata": {
        "id": "9jcDQw7uNJmG"
      },
      "execution_count": null,
      "outputs": []
    },
    {
      "cell_type": "code",
      "source": [
        "import nltk\n",
        "from nltk.corpus import stopwords\n",
        "from nltk.stem import WordNetLemmatizer \n",
        "from nltk.tokenize import word_tokenize \n",
        "nltk.download('stopwords')\n",
        "nltk.download('punkt')\n",
        "nltk.download('wordnet')\n",
        "nltk.download('omw-1.4')\n",
        "import re, string"
      ],
      "metadata": {
        "colab": {
          "base_uri": "https://localhost:8080/"
        },
        "id": "pDq2r6ssNNMA",
        "outputId": "d00cda24-b167-467a-adf1-43bb64f78db8"
      },
      "execution_count": null,
      "outputs": [
        {
          "output_type": "stream",
          "name": "stderr",
          "text": [
            "[nltk_data] Downloading package stopwords to /root/nltk_data...\n",
            "[nltk_data]   Unzipping corpora/stopwords.zip.\n",
            "[nltk_data] Downloading package punkt to /root/nltk_data...\n",
            "[nltk_data]   Unzipping tokenizers/punkt.zip.\n",
            "[nltk_data] Downloading package wordnet to /root/nltk_data...\n",
            "[nltk_data] Downloading package omw-1.4 to /root/nltk_data...\n"
          ]
        }
      ]
    },
    {
      "cell_type": "code",
      "source": [
        "df = pd.read_csv('/content/train_dataset_train.csv')"
      ],
      "metadata": {
        "id": "5W1CEenTA5PW"
      },
      "execution_count": null,
      "outputs": []
    },
    {
      "cell_type": "code",
      "source": [
        "df.head()"
      ],
      "metadata": {
        "colab": {
          "base_uri": "https://localhost:8080/",
          "height": 206
        },
        "id": "KWBKohN-BHr6",
        "outputId": "7fd9e58f-d68c-40bc-d9ff-0bebbb255a49"
      },
      "execution_count": null,
      "outputs": [
        {
          "output_type": "execute_result",
          "data": {
            "text/plain": [
              "     id                                               name  groups\n",
              "0  1034      ШОК-ЦЕНА Пена д/душа/бритья КУППЕР 200 мл АКС      10\n",
              "1  1035                     Мин.вода Нагутская №26    0.5л       0\n",
              "2  1036                Пельмени Домашние вес ПО Прямицино.      10\n",
              "3  1037     ПЕЧЕНЬЕ ОВСЯНО-ГРЕЧНЕВОЕ ЭКО БОТ 4600508719365      10\n",
              "4  1038  Спред растительно-жировой Масляничка 62% 170г ...      10"
            ],
            "text/html": [
              "\n",
              "  <div id=\"df-9ce352d9-6e0e-4f95-ab2f-e1e1e93f7a99\">\n",
              "    <div class=\"colab-df-container\">\n",
              "      <div>\n",
              "<style scoped>\n",
              "    .dataframe tbody tr th:only-of-type {\n",
              "        vertical-align: middle;\n",
              "    }\n",
              "\n",
              "    .dataframe tbody tr th {\n",
              "        vertical-align: top;\n",
              "    }\n",
              "\n",
              "    .dataframe thead th {\n",
              "        text-align: right;\n",
              "    }\n",
              "</style>\n",
              "<table border=\"1\" class=\"dataframe\">\n",
              "  <thead>\n",
              "    <tr style=\"text-align: right;\">\n",
              "      <th></th>\n",
              "      <th>id</th>\n",
              "      <th>name</th>\n",
              "      <th>groups</th>\n",
              "    </tr>\n",
              "  </thead>\n",
              "  <tbody>\n",
              "    <tr>\n",
              "      <th>0</th>\n",
              "      <td>1034</td>\n",
              "      <td>ШОК-ЦЕНА Пена д/душа/бритья КУППЕР 200 мл АКС</td>\n",
              "      <td>10</td>\n",
              "    </tr>\n",
              "    <tr>\n",
              "      <th>1</th>\n",
              "      <td>1035</td>\n",
              "      <td>Мин.вода Нагутская №26    0.5л</td>\n",
              "      <td>0</td>\n",
              "    </tr>\n",
              "    <tr>\n",
              "      <th>2</th>\n",
              "      <td>1036</td>\n",
              "      <td>Пельмени Домашние вес ПО Прямицино.</td>\n",
              "      <td>10</td>\n",
              "    </tr>\n",
              "    <tr>\n",
              "      <th>3</th>\n",
              "      <td>1037</td>\n",
              "      <td>ПЕЧЕНЬЕ ОВСЯНО-ГРЕЧНЕВОЕ ЭКО БОТ 4600508719365</td>\n",
              "      <td>10</td>\n",
              "    </tr>\n",
              "    <tr>\n",
              "      <th>4</th>\n",
              "      <td>1038</td>\n",
              "      <td>Спред растительно-жировой Масляничка 62% 170г ...</td>\n",
              "      <td>10</td>\n",
              "    </tr>\n",
              "  </tbody>\n",
              "</table>\n",
              "</div>\n",
              "      <button class=\"colab-df-convert\" onclick=\"convertToInteractive('df-9ce352d9-6e0e-4f95-ab2f-e1e1e93f7a99')\"\n",
              "              title=\"Convert this dataframe to an interactive table.\"\n",
              "              style=\"display:none;\">\n",
              "        \n",
              "  <svg xmlns=\"http://www.w3.org/2000/svg\" height=\"24px\"viewBox=\"0 0 24 24\"\n",
              "       width=\"24px\">\n",
              "    <path d=\"M0 0h24v24H0V0z\" fill=\"none\"/>\n",
              "    <path d=\"M18.56 5.44l.94 2.06.94-2.06 2.06-.94-2.06-.94-.94-2.06-.94 2.06-2.06.94zm-11 1L8.5 8.5l.94-2.06 2.06-.94-2.06-.94L8.5 2.5l-.94 2.06-2.06.94zm10 10l.94 2.06.94-2.06 2.06-.94-2.06-.94-.94-2.06-.94 2.06-2.06.94z\"/><path d=\"M17.41 7.96l-1.37-1.37c-.4-.4-.92-.59-1.43-.59-.52 0-1.04.2-1.43.59L10.3 9.45l-7.72 7.72c-.78.78-.78 2.05 0 2.83L4 21.41c.39.39.9.59 1.41.59.51 0 1.02-.2 1.41-.59l7.78-7.78 2.81-2.81c.8-.78.8-2.07 0-2.86zM5.41 20L4 18.59l7.72-7.72 1.47 1.35L5.41 20z\"/>\n",
              "  </svg>\n",
              "      </button>\n",
              "      \n",
              "  <style>\n",
              "    .colab-df-container {\n",
              "      display:flex;\n",
              "      flex-wrap:wrap;\n",
              "      gap: 12px;\n",
              "    }\n",
              "\n",
              "    .colab-df-convert {\n",
              "      background-color: #E8F0FE;\n",
              "      border: none;\n",
              "      border-radius: 50%;\n",
              "      cursor: pointer;\n",
              "      display: none;\n",
              "      fill: #1967D2;\n",
              "      height: 32px;\n",
              "      padding: 0 0 0 0;\n",
              "      width: 32px;\n",
              "    }\n",
              "\n",
              "    .colab-df-convert:hover {\n",
              "      background-color: #E2EBFA;\n",
              "      box-shadow: 0px 1px 2px rgba(60, 64, 67, 0.3), 0px 1px 3px 1px rgba(60, 64, 67, 0.15);\n",
              "      fill: #174EA6;\n",
              "    }\n",
              "\n",
              "    [theme=dark] .colab-df-convert {\n",
              "      background-color: #3B4455;\n",
              "      fill: #D2E3FC;\n",
              "    }\n",
              "\n",
              "    [theme=dark] .colab-df-convert:hover {\n",
              "      background-color: #434B5C;\n",
              "      box-shadow: 0px 1px 3px 1px rgba(0, 0, 0, 0.15);\n",
              "      filter: drop-shadow(0px 1px 2px rgba(0, 0, 0, 0.3));\n",
              "      fill: #FFFFFF;\n",
              "    }\n",
              "  </style>\n",
              "\n",
              "      <script>\n",
              "        const buttonEl =\n",
              "          document.querySelector('#df-9ce352d9-6e0e-4f95-ab2f-e1e1e93f7a99 button.colab-df-convert');\n",
              "        buttonEl.style.display =\n",
              "          google.colab.kernel.accessAllowed ? 'block' : 'none';\n",
              "\n",
              "        async function convertToInteractive(key) {\n",
              "          const element = document.querySelector('#df-9ce352d9-6e0e-4f95-ab2f-e1e1e93f7a99');\n",
              "          const dataTable =\n",
              "            await google.colab.kernel.invokeFunction('convertToInteractive',\n",
              "                                                     [key], {});\n",
              "          if (!dataTable) return;\n",
              "\n",
              "          const docLinkHtml = 'Like what you see? Visit the ' +\n",
              "            '<a target=\"_blank\" href=https://colab.research.google.com/notebooks/data_table.ipynb>data table notebook</a>'\n",
              "            + ' to learn more about interactive tables.';\n",
              "          element.innerHTML = '';\n",
              "          dataTable['output_type'] = 'display_data';\n",
              "          await google.colab.output.renderOutput(dataTable, element);\n",
              "          const docLink = document.createElement('div');\n",
              "          docLink.innerHTML = docLinkHtml;\n",
              "          element.appendChild(docLink);\n",
              "        }\n",
              "      </script>\n",
              "    </div>\n",
              "  </div>\n",
              "  "
            ]
          },
          "metadata": {},
          "execution_count": 6
        }
      ]
    },
    {
      "cell_type": "code",
      "source": [
        "df.info()"
      ],
      "metadata": {
        "colab": {
          "base_uri": "https://localhost:8080/"
        },
        "id": "VP2l5ab0SFvh",
        "outputId": "4fb89f27-aace-47e6-857e-4d108d5d49a5"
      },
      "execution_count": null,
      "outputs": [
        {
          "output_type": "stream",
          "name": "stdout",
          "text": [
            "<class 'pandas.core.frame.DataFrame'>\n",
            "RangeIndex: 658064 entries, 0 to 658063\n",
            "Data columns (total 3 columns):\n",
            " #   Column  Non-Null Count   Dtype \n",
            "---  ------  --------------   ----- \n",
            " 0   id      658064 non-null  int64 \n",
            " 1   name    658064 non-null  object\n",
            " 2   groups  658064 non-null  int64 \n",
            "dtypes: int64(2), object(1)\n",
            "memory usage: 15.1+ MB\n"
          ]
        }
      ]
    },
    {
      "cell_type": "code",
      "source": [
        "df.isna().sum()"
      ],
      "metadata": {
        "id": "x-ZVUt3DBHot",
        "colab": {
          "base_uri": "https://localhost:8080/"
        },
        "outputId": "abba9d99-bc22-48d8-bb95-9dbe66048b71"
      },
      "execution_count": null,
      "outputs": [
        {
          "output_type": "execute_result",
          "data": {
            "text/plain": [
              "id        0\n",
              "name      0\n",
              "groups    0\n",
              "dtype: int64"
            ]
          },
          "metadata": {},
          "execution_count": 8
        }
      ]
    },
    {
      "cell_type": "code",
      "source": [
        "# Функция для очистки текста \n",
        "def clean_text(text):\n",
        "  text = text.lower()\n",
        "  return \" \".join(re.sub(r\"[^а-яa-z]\", ' ', text).split()) \n",
        " \n",
        "# создаем список для хранения преобразованных данных \n",
        "processed_text = []\n",
        "# загружаем стоп-слова для русского языка\n",
        "stop_words = stopwords.words('russian')\n",
        "# инициализируем лемматайзер \n",
        "lemmatizer = WordNetLemmatizer()\n",
        " \n",
        "# для каждого сообщения text из столбца data['name']\n",
        "for text in df['name']:\n",
        "    # cleaning \n",
        "    text = clean_text(text)   \n",
        "    # tokenization\n",
        "    text = word_tokenize(text)       \n",
        "    # удаление стоп-слов\n",
        "    text = [word for word in text if word not in stop_words]\n",
        "   \n",
        "    # лемматизация\n",
        "    #text = [lemmatizer.lemmatize(w) for w in text]\n",
        "\n",
        "    text = [word for word in text if len(word) >= 3]       #исключить короткие слова и символы  \n",
        "    \n",
        "    # добавляем преобразованный текст в список processed_text\n",
        "    processed_text.append(text)\n",
        " \n",
        "# Сохраняем результат преобразования в новой колонке 'lemm_text'\n"
      ],
      "metadata": {
        "id": "ngi6VCNdMrTI"
      },
      "execution_count": null,
      "outputs": []
    },
    {
      "cell_type": "code",
      "source": [
        "df['lemm_text'] = processed_text"
      ],
      "metadata": {
        "id": "dtLG0o6eGm05"
      },
      "execution_count": null,
      "outputs": []
    },
    {
      "cell_type": "code",
      "source": [
        "df"
      ],
      "metadata": {
        "colab": {
          "base_uri": "https://localhost:8080/",
          "height": 424
        },
        "id": "klZDLL2uMrKn",
        "outputId": "64d22b61-940e-466c-878b-f58a72bc3739"
      },
      "execution_count": null,
      "outputs": [
        {
          "output_type": "execute_result",
          "data": {
            "text/plain": [
              "            id                                               name  groups  \\\n",
              "0         1034      ШОК-ЦЕНА Пена д/душа/бритья КУППЕР 200 мл АКС      10   \n",
              "1         1035                     Мин.вода Нагутская №26    0.5л       0   \n",
              "2         1036                Пельмени Домашние вес ПО Прямицино.      10   \n",
              "3         1037     ПЕЧЕНЬЕ ОВСЯНО-ГРЕЧНЕВОЕ ЭКО БОТ 4600508719365      10   \n",
              "4         1038  Спред растительно-жировой Масляничка 62% 170г ...      10   \n",
              "...        ...                                                ...     ...   \n",
              "658059  659093                   КАРАЧИНСКАЯ 1,5 л *6 шт мин вода       0   \n",
              "658060  659094                      Хлеб ДОНСКОЙ 350г Рузский х/з       9   \n",
              "658061  659095  Печенье сахарное FORSITE Сэндвич с шоколадно-с...       6   \n",
              "658062  659096          Хлеб Бабушкин подов пшен 0,55кг п/уп(ШХЗ)       9   \n",
              "658063  659097                 Газ.напиток ЭКСТРА-СИТРО ст/б 0.5л       4   \n",
              "\n",
              "                                                lemm_text  \\\n",
              "0            [шок, цена, пена, душа, бритья, куппер, акс]   \n",
              "1                                  [мин, вода, нагутская]   \n",
              "2                    [пельмени, домашние, вес, прямицино]   \n",
              "3                  [печенье, овсяно, гречневое, эко, бот]   \n",
              "4          [спред, растительно, жировой, масляничка, змж]   \n",
              "...                                                   ...   \n",
              "658059                           [карачинская, мин, вода]   \n",
              "658060                           [хлеб, донской, рузский]   \n",
              "658061  [печенье, сахарное, forsite, сэндвич, шоколадн...   \n",
              "658062                 [хлеб, бабушкин, подов, пшен, шхз]   \n",
              "658063                      [газ, напиток, экстра, ситро]   \n",
              "\n",
              "                                            lemm_text_str  \n",
              "0                    шок цена пена душа бритья куппер акс  \n",
              "1                                      мин вода нагутская  \n",
              "2                         пельмени домашние вес прямицино  \n",
              "3                        печенье овсяно гречневое эко бот  \n",
              "4                спред растительно жировой масляничка змж  \n",
              "...                                                   ...  \n",
              "658059                               карачинская мин вода  \n",
              "658060                               хлеб донской рузский  \n",
              "658061  печенье сахарное forsite сэндвич шоколадно сли...  \n",
              "658062                       хлеб бабушкин подов пшен шхз  \n",
              "658063                           газ напиток экстра ситро  \n",
              "\n",
              "[658064 rows x 5 columns]"
            ],
            "text/html": [
              "\n",
              "  <div id=\"df-2bcc3fef-5c8d-4006-aa2c-be4eb7114634\">\n",
              "    <div class=\"colab-df-container\">\n",
              "      <div>\n",
              "<style scoped>\n",
              "    .dataframe tbody tr th:only-of-type {\n",
              "        vertical-align: middle;\n",
              "    }\n",
              "\n",
              "    .dataframe tbody tr th {\n",
              "        vertical-align: top;\n",
              "    }\n",
              "\n",
              "    .dataframe thead th {\n",
              "        text-align: right;\n",
              "    }\n",
              "</style>\n",
              "<table border=\"1\" class=\"dataframe\">\n",
              "  <thead>\n",
              "    <tr style=\"text-align: right;\">\n",
              "      <th></th>\n",
              "      <th>id</th>\n",
              "      <th>name</th>\n",
              "      <th>groups</th>\n",
              "      <th>lemm_text</th>\n",
              "      <th>lemm_text_str</th>\n",
              "    </tr>\n",
              "  </thead>\n",
              "  <tbody>\n",
              "    <tr>\n",
              "      <th>0</th>\n",
              "      <td>1034</td>\n",
              "      <td>ШОК-ЦЕНА Пена д/душа/бритья КУППЕР 200 мл АКС</td>\n",
              "      <td>10</td>\n",
              "      <td>[шок, цена, пена, душа, бритья, куппер, акс]</td>\n",
              "      <td>шок цена пена душа бритья куппер акс</td>\n",
              "    </tr>\n",
              "    <tr>\n",
              "      <th>1</th>\n",
              "      <td>1035</td>\n",
              "      <td>Мин.вода Нагутская №26    0.5л</td>\n",
              "      <td>0</td>\n",
              "      <td>[мин, вода, нагутская]</td>\n",
              "      <td>мин вода нагутская</td>\n",
              "    </tr>\n",
              "    <tr>\n",
              "      <th>2</th>\n",
              "      <td>1036</td>\n",
              "      <td>Пельмени Домашние вес ПО Прямицино.</td>\n",
              "      <td>10</td>\n",
              "      <td>[пельмени, домашние, вес, прямицино]</td>\n",
              "      <td>пельмени домашние вес прямицино</td>\n",
              "    </tr>\n",
              "    <tr>\n",
              "      <th>3</th>\n",
              "      <td>1037</td>\n",
              "      <td>ПЕЧЕНЬЕ ОВСЯНО-ГРЕЧНЕВОЕ ЭКО БОТ 4600508719365</td>\n",
              "      <td>10</td>\n",
              "      <td>[печенье, овсяно, гречневое, эко, бот]</td>\n",
              "      <td>печенье овсяно гречневое эко бот</td>\n",
              "    </tr>\n",
              "    <tr>\n",
              "      <th>4</th>\n",
              "      <td>1038</td>\n",
              "      <td>Спред растительно-жировой Масляничка 62% 170г ...</td>\n",
              "      <td>10</td>\n",
              "      <td>[спред, растительно, жировой, масляничка, змж]</td>\n",
              "      <td>спред растительно жировой масляничка змж</td>\n",
              "    </tr>\n",
              "    <tr>\n",
              "      <th>...</th>\n",
              "      <td>...</td>\n",
              "      <td>...</td>\n",
              "      <td>...</td>\n",
              "      <td>...</td>\n",
              "      <td>...</td>\n",
              "    </tr>\n",
              "    <tr>\n",
              "      <th>658059</th>\n",
              "      <td>659093</td>\n",
              "      <td>КАРАЧИНСКАЯ 1,5 л *6 шт мин вода</td>\n",
              "      <td>0</td>\n",
              "      <td>[карачинская, мин, вода]</td>\n",
              "      <td>карачинская мин вода</td>\n",
              "    </tr>\n",
              "    <tr>\n",
              "      <th>658060</th>\n",
              "      <td>659094</td>\n",
              "      <td>Хлеб ДОНСКОЙ 350г Рузский х/з</td>\n",
              "      <td>9</td>\n",
              "      <td>[хлеб, донской, рузский]</td>\n",
              "      <td>хлеб донской рузский</td>\n",
              "    </tr>\n",
              "    <tr>\n",
              "      <th>658061</th>\n",
              "      <td>659095</td>\n",
              "      <td>Печенье сахарное FORSITE Сэндвич с шоколадно-с...</td>\n",
              "      <td>6</td>\n",
              "      <td>[печенье, сахарное, forsite, сэндвич, шоколадн...</td>\n",
              "      <td>печенье сахарное forsite сэндвич шоколадно сли...</td>\n",
              "    </tr>\n",
              "    <tr>\n",
              "      <th>658062</th>\n",
              "      <td>659096</td>\n",
              "      <td>Хлеб Бабушкин подов пшен 0,55кг п/уп(ШХЗ)</td>\n",
              "      <td>9</td>\n",
              "      <td>[хлеб, бабушкин, подов, пшен, шхз]</td>\n",
              "      <td>хлеб бабушкин подов пшен шхз</td>\n",
              "    </tr>\n",
              "    <tr>\n",
              "      <th>658063</th>\n",
              "      <td>659097</td>\n",
              "      <td>Газ.напиток ЭКСТРА-СИТРО ст/б 0.5л</td>\n",
              "      <td>4</td>\n",
              "      <td>[газ, напиток, экстра, ситро]</td>\n",
              "      <td>газ напиток экстра ситро</td>\n",
              "    </tr>\n",
              "  </tbody>\n",
              "</table>\n",
              "<p>658064 rows × 5 columns</p>\n",
              "</div>\n",
              "      <button class=\"colab-df-convert\" onclick=\"convertToInteractive('df-2bcc3fef-5c8d-4006-aa2c-be4eb7114634')\"\n",
              "              title=\"Convert this dataframe to an interactive table.\"\n",
              "              style=\"display:none;\">\n",
              "        \n",
              "  <svg xmlns=\"http://www.w3.org/2000/svg\" height=\"24px\"viewBox=\"0 0 24 24\"\n",
              "       width=\"24px\">\n",
              "    <path d=\"M0 0h24v24H0V0z\" fill=\"none\"/>\n",
              "    <path d=\"M18.56 5.44l.94 2.06.94-2.06 2.06-.94-2.06-.94-.94-2.06-.94 2.06-2.06.94zm-11 1L8.5 8.5l.94-2.06 2.06-.94-2.06-.94L8.5 2.5l-.94 2.06-2.06.94zm10 10l.94 2.06.94-2.06 2.06-.94-2.06-.94-.94-2.06-.94 2.06-2.06.94z\"/><path d=\"M17.41 7.96l-1.37-1.37c-.4-.4-.92-.59-1.43-.59-.52 0-1.04.2-1.43.59L10.3 9.45l-7.72 7.72c-.78.78-.78 2.05 0 2.83L4 21.41c.39.39.9.59 1.41.59.51 0 1.02-.2 1.41-.59l7.78-7.78 2.81-2.81c.8-.78.8-2.07 0-2.86zM5.41 20L4 18.59l7.72-7.72 1.47 1.35L5.41 20z\"/>\n",
              "  </svg>\n",
              "      </button>\n",
              "      \n",
              "  <style>\n",
              "    .colab-df-container {\n",
              "      display:flex;\n",
              "      flex-wrap:wrap;\n",
              "      gap: 12px;\n",
              "    }\n",
              "\n",
              "    .colab-df-convert {\n",
              "      background-color: #E8F0FE;\n",
              "      border: none;\n",
              "      border-radius: 50%;\n",
              "      cursor: pointer;\n",
              "      display: none;\n",
              "      fill: #1967D2;\n",
              "      height: 32px;\n",
              "      padding: 0 0 0 0;\n",
              "      width: 32px;\n",
              "    }\n",
              "\n",
              "    .colab-df-convert:hover {\n",
              "      background-color: #E2EBFA;\n",
              "      box-shadow: 0px 1px 2px rgba(60, 64, 67, 0.3), 0px 1px 3px 1px rgba(60, 64, 67, 0.15);\n",
              "      fill: #174EA6;\n",
              "    }\n",
              "\n",
              "    [theme=dark] .colab-df-convert {\n",
              "      background-color: #3B4455;\n",
              "      fill: #D2E3FC;\n",
              "    }\n",
              "\n",
              "    [theme=dark] .colab-df-convert:hover {\n",
              "      background-color: #434B5C;\n",
              "      box-shadow: 0px 1px 3px 1px rgba(0, 0, 0, 0.15);\n",
              "      filter: drop-shadow(0px 1px 2px rgba(0, 0, 0, 0.3));\n",
              "      fill: #FFFFFF;\n",
              "    }\n",
              "  </style>\n",
              "\n",
              "      <script>\n",
              "        const buttonEl =\n",
              "          document.querySelector('#df-2bcc3fef-5c8d-4006-aa2c-be4eb7114634 button.colab-df-convert');\n",
              "        buttonEl.style.display =\n",
              "          google.colab.kernel.accessAllowed ? 'block' : 'none';\n",
              "\n",
              "        async function convertToInteractive(key) {\n",
              "          const element = document.querySelector('#df-2bcc3fef-5c8d-4006-aa2c-be4eb7114634');\n",
              "          const dataTable =\n",
              "            await google.colab.kernel.invokeFunction('convertToInteractive',\n",
              "                                                     [key], {});\n",
              "          if (!dataTable) return;\n",
              "\n",
              "          const docLinkHtml = 'Like what you see? Visit the ' +\n",
              "            '<a target=\"_blank\" href=https://colab.research.google.com/notebooks/data_table.ipynb>data table notebook</a>'\n",
              "            + ' to learn more about interactive tables.';\n",
              "          element.innerHTML = '';\n",
              "          dataTable['output_type'] = 'display_data';\n",
              "          await google.colab.output.renderOutput(dataTable, element);\n",
              "          const docLink = document.createElement('div');\n",
              "          docLink.innerHTML = docLinkHtml;\n",
              "          element.appendChild(docLink);\n",
              "        }\n",
              "      </script>\n",
              "    </div>\n",
              "  </div>\n",
              "  "
            ]
          },
          "metadata": {},
          "execution_count": 141
        }
      ]
    },
    {
      "cell_type": "code",
      "source": [
        "sns.countplot(x='groups', data=df, palette='coolwarm');"
      ],
      "metadata": {
        "colab": {
          "base_uri": "https://localhost:8080/",
          "height": 279
        },
        "id": "ssUdgwrMUcet",
        "outputId": "76a33125-22e3-464b-bba3-106e02496e8f"
      },
      "execution_count": null,
      "outputs": [
        {
          "output_type": "display_data",
          "data": {
            "text/plain": [
              "<Figure size 432x288 with 1 Axes>"
            ],
            "image/png": "[encoded data removed]"
          },
          "metadata": {
            "needs_background": "light"
          }
        }
      ]
    },
    {
      "cell_type": "code",
      "source": [
        "df['lemm_text_str'] = df['lemm_text'].apply(lambda x: ' '.join(x))"
      ],
      "metadata": {
        "id": "rzR6qQ4cUtPy"
      },
      "execution_count": null,
      "outputs": []
    },
    {
      "cell_type": "code",
      "source": [
        "df"
      ],
      "metadata": {
        "colab": {
          "base_uri": "https://localhost:8080/",
          "height": 424
        },
        "id": "88HMMLG-UcEN",
        "outputId": "47f610da-517e-452d-f512-f978a538af61"
      },
      "execution_count": null,
      "outputs": [
        {
          "output_type": "execute_result",
          "data": {
            "text/plain": [
              "            id                                               name  groups  \\\n",
              "0         1034      ШОК-ЦЕНА Пена д/душа/бритья КУППЕР 200 мл АКС      10   \n",
              "1         1035                     Мин.вода Нагутская №26    0.5л       0   \n",
              "2         1036                Пельмени Домашние вес ПО Прямицино.      10   \n",
              "3         1037     ПЕЧЕНЬЕ ОВСЯНО-ГРЕЧНЕВОЕ ЭКО БОТ 4600508719365      10   \n",
              "4         1038  Спред растительно-жировой Масляничка 62% 170г ...      10   \n",
              "...        ...                                                ...     ...   \n",
              "658059  659093                   КАРАЧИНСКАЯ 1,5 л *6 шт мин вода       0   \n",
              "658060  659094                      Хлеб ДОНСКОЙ 350г Рузский х/з       9   \n",
              "658061  659095  Печенье сахарное FORSITE Сэндвич с шоколадно-с...       6   \n",
              "658062  659096          Хлеб Бабушкин подов пшен 0,55кг п/уп(ШХЗ)       9   \n",
              "658063  659097                 Газ.напиток ЭКСТРА-СИТРО ст/б 0.5л       4   \n",
              "\n",
              "                                                lemm_text  \\\n",
              "0            [шок, цена, пена, душа, бритья, куппер, акс]   \n",
              "1                                  [мин, вода, нагутская]   \n",
              "2                    [пельмени, домашние, вес, прямицино]   \n",
              "3                  [печенье, овсяно, гречневое, эко, бот]   \n",
              "4          [спред, растительно, жировой, масляничка, змж]   \n",
              "...                                                   ...   \n",
              "658059                           [карачинская, мин, вода]   \n",
              "658060                           [хлеб, донской, рузский]   \n",
              "658061  [печенье, сахарное, forsite, сэндвич, шоколадн...   \n",
              "658062                 [хлеб, бабушкин, подов, пшен, шхз]   \n",
              "658063                      [газ, напиток, экстра, ситро]   \n",
              "\n",
              "                                            lemm_text_str  \n",
              "0                    шок цена пена душа бритья куппер акс  \n",
              "1                                      мин вода нагутская  \n",
              "2                         пельмени домашние вес прямицино  \n",
              "3                        печенье овсяно гречневое эко бот  \n",
              "4                спред растительно жировой масляничка змж  \n",
              "...                                                   ...  \n",
              "658059                               карачинская мин вода  \n",
              "658060                               хлеб донской рузский  \n",
              "658061  печенье сахарное forsite сэндвич шоколадно сли...  \n",
              "658062                       хлеб бабушкин подов пшен шхз  \n",
              "658063                           газ напиток экстра ситро  \n",
              "\n",
              "[658064 rows x 5 columns]"
            ],
            "text/html": [
              "\n",
              "  <div id=\"df-bce3800f-17a3-4a4d-8509-4cc97a400453\">\n",
              "    <div class=\"colab-df-container\">\n",
              "      <div>\n",
              "<style scoped>\n",
              "    .dataframe tbody tr th:only-of-type {\n",
              "        vertical-align: middle;\n",
              "    }\n",
              "\n",
              "    .dataframe tbody tr th {\n",
              "        vertical-align: top;\n",
              "    }\n",
              "\n",
              "    .dataframe thead th {\n",
              "        text-align: right;\n",
              "    }\n",
              "</style>\n",
              "<table border=\"1\" class=\"dataframe\">\n",
              "  <thead>\n",
              "    <tr style=\"text-align: right;\">\n",
              "      <th></th>\n",
              "      <th>id</th>\n",
              "      <th>name</th>\n",
              "      <th>groups</th>\n",
              "      <th>lemm_text</th>\n",
              "      <th>lemm_text_str</th>\n",
              "    </tr>\n",
              "  </thead>\n",
              "  <tbody>\n",
              "    <tr>\n",
              "      <th>0</th>\n",
              "      <td>1034</td>\n",
              "      <td>ШОК-ЦЕНА Пена д/душа/бритья КУППЕР 200 мл АКС</td>\n",
              "      <td>10</td>\n",
              "      <td>[шок, цена, пена, душа, бритья, куппер, акс]</td>\n",
              "      <td>шок цена пена душа бритья куппер акс</td>\n",
              "    </tr>\n",
              "    <tr>\n",
              "      <th>1</th>\n",
              "      <td>1035</td>\n",
              "      <td>Мин.вода Нагутская №26    0.5л</td>\n",
              "      <td>0</td>\n",
              "      <td>[мин, вода, нагутская]</td>\n",
              "      <td>мин вода нагутская</td>\n",
              "    </tr>\n",
              "    <tr>\n",
              "      <th>2</th>\n",
              "      <td>1036</td>\n",
              "      <td>Пельмени Домашние вес ПО Прямицино.</td>\n",
              "      <td>10</td>\n",
              "      <td>[пельмени, домашние, вес, прямицино]</td>\n",
              "      <td>пельмени домашние вес прямицино</td>\n",
              "    </tr>\n",
              "    <tr>\n",
              "      <th>3</th>\n",
              "      <td>1037</td>\n",
              "      <td>ПЕЧЕНЬЕ ОВСЯНО-ГРЕЧНЕВОЕ ЭКО БОТ 4600508719365</td>\n",
              "      <td>10</td>\n",
              "      <td>[печенье, овсяно, гречневое, эко, бот]</td>\n",
              "      <td>печенье овсяно гречневое эко бот</td>\n",
              "    </tr>\n",
              "    <tr>\n",
              "      <th>4</th>\n",
              "      <td>1038</td>\n",
              "      <td>Спред растительно-жировой Масляничка 62% 170г ...</td>\n",
              "      <td>10</td>\n",
              "      <td>[спред, растительно, жировой, масляничка, змж]</td>\n",
              "      <td>спред растительно жировой масляничка змж</td>\n",
              "    </tr>\n",
              "    <tr>\n",
              "      <th>...</th>\n",
              "      <td>...</td>\n",
              "      <td>...</td>\n",
              "      <td>...</td>\n",
              "      <td>...</td>\n",
              "      <td>...</td>\n",
              "    </tr>\n",
              "    <tr>\n",
              "      <th>658059</th>\n",
              "      <td>659093</td>\n",
              "      <td>КАРАЧИНСКАЯ 1,5 л *6 шт мин вода</td>\n",
              "      <td>0</td>\n",
              "      <td>[карачинская, мин, вода]</td>\n",
              "      <td>карачинская мин вода</td>\n",
              "    </tr>\n",
              "    <tr>\n",
              "      <th>658060</th>\n",
              "      <td>659094</td>\n",
              "      <td>Хлеб ДОНСКОЙ 350г Рузский х/з</td>\n",
              "      <td>9</td>\n",
              "      <td>[хлеб, донской, рузский]</td>\n",
              "      <td>хлеб донской рузский</td>\n",
              "    </tr>\n",
              "    <tr>\n",
              "      <th>658061</th>\n",
              "      <td>659095</td>\n",
              "      <td>Печенье сахарное FORSITE Сэндвич с шоколадно-с...</td>\n",
              "      <td>6</td>\n",
              "      <td>[печенье, сахарное, forsite, сэндвич, шоколадн...</td>\n",
              "      <td>печенье сахарное forsite сэндвич шоколадно сли...</td>\n",
              "    </tr>\n",
              "    <tr>\n",
              "      <th>658062</th>\n",
              "      <td>659096</td>\n",
              "      <td>Хлеб Бабушкин подов пшен 0,55кг п/уп(ШХЗ)</td>\n",
              "      <td>9</td>\n",
              "      <td>[хлеб, бабушкин, подов, пшен, шхз]</td>\n",
              "      <td>хлеб бабушкин подов пшен шхз</td>\n",
              "    </tr>\n",
              "    <tr>\n",
              "      <th>658063</th>\n",
              "      <td>659097</td>\n",
              "      <td>Газ.напиток ЭКСТРА-СИТРО ст/б 0.5л</td>\n",
              "      <td>4</td>\n",
              "      <td>[газ, напиток, экстра, ситро]</td>\n",
              "      <td>газ напиток экстра ситро</td>\n",
              "    </tr>\n",
              "  </tbody>\n",
              "</table>\n",
              "<p>658064 rows × 5 columns</p>\n",
              "</div>\n",
              "      <button class=\"colab-df-convert\" onclick=\"convertToInteractive('df-bce3800f-17a3-4a4d-8509-4cc97a400453')\"\n",
              "              title=\"Convert this dataframe to an interactive table.\"\n",
              "              style=\"display:none;\">\n",
              "        \n",
              "  <svg xmlns=\"http://www.w3.org/2000/svg\" height=\"24px\"viewBox=\"0 0 24 24\"\n",
              "       width=\"24px\">\n",
              "    <path d=\"M0 0h24v24H0V0z\" fill=\"none\"/>\n",
              "    <path d=\"M18.56 5.44l.94 2.06.94-2.06 2.06-.94-2.06-.94-.94-2.06-.94 2.06-2.06.94zm-11 1L8.5 8.5l.94-2.06 2.06-.94-2.06-.94L8.5 2.5l-.94 2.06-2.06.94zm10 10l.94 2.06.94-2.06 2.06-.94-2.06-.94-.94-2.06-.94 2.06-2.06.94z\"/><path d=\"M17.41 7.96l-1.37-1.37c-.4-.4-.92-.59-1.43-.59-.52 0-1.04.2-1.43.59L10.3 9.45l-7.72 7.72c-.78.78-.78 2.05 0 2.83L4 21.41c.39.39.9.59 1.41.59.51 0 1.02-.2 1.41-.59l7.78-7.78 2.81-2.81c.8-.78.8-2.07 0-2.86zM5.41 20L4 18.59l7.72-7.72 1.47 1.35L5.41 20z\"/>\n",
              "  </svg>\n",
              "      </button>\n",
              "      \n",
              "  <style>\n",
              "    .colab-df-container {\n",
              "      display:flex;\n",
              "      flex-wrap:wrap;\n",
              "      gap: 12px;\n",
              "    }\n",
              "\n",
              "    .colab-df-convert {\n",
              "      background-color: #E8F0FE;\n",
              "      border: none;\n",
              "      border-radius: 50%;\n",
              "      cursor: pointer;\n",
              "      display: none;\n",
              "      fill: #1967D2;\n",
              "      height: 32px;\n",
              "      padding: 0 0 0 0;\n",
              "      width: 32px;\n",
              "    }\n",
              "\n",
              "    .colab-df-convert:hover {\n",
              "      background-color: #E2EBFA;\n",
              "      box-shadow: 0px 1px 2px rgba(60, 64, 67, 0.3), 0px 1px 3px 1px rgba(60, 64, 67, 0.15);\n",
              "      fill: #174EA6;\n",
              "    }\n",
              "\n",
              "    [theme=dark] .colab-df-convert {\n",
              "      background-color: #3B4455;\n",
              "      fill: #D2E3FC;\n",
              "    }\n",
              "\n",
              "    [theme=dark] .colab-df-convert:hover {\n",
              "      background-color: #434B5C;\n",
              "      box-shadow: 0px 1px 3px 1px rgba(0, 0, 0, 0.15);\n",
              "      filter: drop-shadow(0px 1px 2px rgba(0, 0, 0, 0.3));\n",
              "      fill: #FFFFFF;\n",
              "    }\n",
              "  </style>\n",
              "\n",
              "      <script>\n",
              "        const buttonEl =\n",
              "          document.querySelector('#df-bce3800f-17a3-4a4d-8509-4cc97a400453 button.colab-df-convert');\n",
              "        buttonEl.style.display =\n",
              "          google.colab.kernel.accessAllowed ? 'block' : 'none';\n",
              "\n",
              "        async function convertToInteractive(key) {\n",
              "          const element = document.querySelector('#df-bce3800f-17a3-4a4d-8509-4cc97a400453');\n",
              "          const dataTable =\n",
              "            await google.colab.kernel.invokeFunction('convertToInteractive',\n",
              "                                                     [key], {});\n",
              "          if (!dataTable) return;\n",
              "\n",
              "          const docLinkHtml = 'Like what you see? Visit the ' +\n",
              "            '<a target=\"_blank\" href=https://colab.research.google.com/notebooks/data_table.ipynb>data table notebook</a>'\n",
              "            + ' to learn more about interactive tables.';\n",
              "          element.innerHTML = '';\n",
              "          dataTable['output_type'] = 'display_data';\n",
              "          await google.colab.output.renderOutput(dataTable, element);\n",
              "          const docLink = document.createElement('div');\n",
              "          docLink.innerHTML = docLinkHtml;\n",
              "          element.appendChild(docLink);\n",
              "        }\n",
              "      </script>\n",
              "    </div>\n",
              "  </div>\n",
              "  "
            ]
          },
          "metadata": {},
          "execution_count": 144
        }
      ]
    },
    {
      "cell_type": "markdown",
      "source": [
        "# Train Test Split"
      ],
      "metadata": {
        "id": "8OBo04t_VzLA"
      }
    },
    {
      "cell_type": "code",
      "source": [
        "X = df['lemm_text_str']\n",
        "y = df['groups']"
      ],
      "metadata": {
        "id": "b3e93_jYVrJv"
      },
      "execution_count": null,
      "outputs": []
    },
    {
      "cell_type": "code",
      "source": [
        "X_train, X_test, y_train, y_test = train_test_split(X, y, test_size = 0.1, random_state = 19, stratify=y) "
      ],
      "metadata": {
        "id": "G3J7rWb9V55C"
      },
      "execution_count": null,
      "outputs": []
    },
    {
      "cell_type": "markdown",
      "source": [
        "# TF-IDF"
      ],
      "metadata": {
        "id": "Qx9nFTAvHt88"
      }
    },
    {
      "cell_type": "code",
      "source": [
        "stopwords1 = set(stopwords.words('russian'))\n",
        "# vectorizer = TfidfVectorizer(min_df=3, stop_words=stopwords1, sublinear_tf=True, ngram_range=(1, 2))\n",
        "vectorizer = TfidfVectorizer(ngram_range=(1,2), #tokenizer=tokenize,\n",
        "               min_df=2,  strip_accents='unicode', use_idf=1, #sublinear_tf=True max_df=0.9, smooth_idf=1, \n",
        "               )\n",
        "train_features = vectorizer.fit_transform(X_train.values.astype('U'))\n",
        "test_features = vectorizer.transform(X_test.values.astype('U'))\n",
        "# features = vectorizer.fit_transform(df['lemm_text_str'].values)"
      ],
      "metadata": {
        "id": "6bCM2oxRVYkY"
      },
      "execution_count": null,
      "outputs": []
    },
    {
      "cell_type": "code",
      "source": [
        "# X = features\n",
        "# y = df['groups']"
      ],
      "metadata": {
        "id": "2tSp7IIssHIl"
      },
      "execution_count": null,
      "outputs": []
    },
    {
      "cell_type": "code",
      "source": [
        "# train_features, test_features, y_train, y_test = train_test_split(X, y, test_size = 0.1, random_state = 19, stratify=y) # размер теста был 0,2"
      ],
      "metadata": {
        "id": "dr-IzLOLsG-D"
      },
      "execution_count": null,
      "outputs": []
    },
    {
      "cell_type": "code",
      "source": [
        "from sklearn.metrics import recall_score"
      ],
      "metadata": {
        "id": "9oXmnKHCAV7f"
      },
      "execution_count": null,
      "outputs": []
    },
    {
      "cell_type": "markdown",
      "source": [
        "# LogisticRegression"
      ],
      "metadata": {
        "id": "xw4r-0giWBWO"
      }
    },
    {
      "cell_type": "code",
      "source": [
        "lg_model = LogisticRegression(random_state=19, class_weight='balanced')"
      ],
      "metadata": {
        "id": "Vo92lnpqV9Sp"
      },
      "execution_count": null,
      "outputs": []
    },
    {
      "cell_type": "code",
      "source": [
        "%%time\n",
        "lg_model.fit(train_features, y_train)"
      ],
      "metadata": {
        "id": "StVCOo69V9Pi"
      },
      "execution_count": null,
      "outputs": []
    },
    {
      "cell_type": "code",
      "source": [
        "y_train_pred  = lg_model.predict(train_features)"
      ],
      "metadata": {
        "id": "gRPxP2f_V9L6"
      },
      "execution_count": null,
      "outputs": []
    },
    {
      "cell_type": "code",
      "source": [
        "f1_logistic_train = f1_score(y_train, y_train_pred, average='weighted')\n",
        "f1_logistic_train"
      ],
      "metadata": {
        "colab": {
          "base_uri": "https://localhost:8080/"
        },
        "id": "cjo4NwDyXwk8",
        "outputId": "fcddd178-378d-40ca-bcec-7f6e740a76dc"
      },
      "execution_count": null,
      "outputs": [
        {
          "output_type": "execute_result",
          "data": {
            "text/plain": [
              "0.9696472709424384"
            ]
          },
          "metadata": {},
          "execution_count": 153
        }
      ]
    },
    {
      "cell_type": "code",
      "source": [
        "recall_score(y_train, y_train_pred, average='weighted')"
      ],
      "metadata": {
        "colab": {
          "base_uri": "https://localhost:8080/"
        },
        "id": "N7qFj5uOW-JL",
        "outputId": "688cac0e-f771-48f2-c80d-a0c2ce7058f5"
      },
      "execution_count": null,
      "outputs": [
        {
          "output_type": "execute_result",
          "data": {
            "text/plain": [
              "0.967326684192842"
            ]
          },
          "metadata": {},
          "execution_count": 155
        }
      ]
    },
    {
      "cell_type": "code",
      "source": [
        "y_test_pred  = lg_model.predict(test_features)"
      ],
      "metadata": {
        "id": "lJnsavDxYIwa"
      },
      "execution_count": null,
      "outputs": []
    },
    {
      "cell_type": "code",
      "source": [
        "f1_logistic_test = f1_score(y_test, y_test_pred, average='weighted')\n",
        "f1_logistic_test"
      ],
      "metadata": {
        "colab": {
          "base_uri": "https://localhost:8080/"
        },
        "id": "ae9HMWCRYIjS",
        "outputId": "8365639e-afa8-47ac-89a9-ffabe3f01daf"
      },
      "execution_count": null,
      "outputs": [
        {
          "output_type": "execute_result",
          "data": {
            "text/plain": [
              "0.963573593926357"
            ]
          },
          "metadata": {},
          "execution_count": 157
        }
      ]
    },
    {
      "cell_type": "code",
      "source": [
        "recall_score(y_test, y_test_pred, average='weighted') # юез исключения коротких слов 0.960019450818302"
      ],
      "metadata": {
        "colab": {
          "base_uri": "https://localhost:8080/"
        },
        "id": "GBUIPEjPYmp5",
        "outputId": "d9892305-d4c7-4104-d89d-a8ac8515020a"
      },
      "execution_count": null,
      "outputs": [
        {
          "output_type": "execute_result",
          "data": {
            "text/plain": [
              "0.9605968969866427"
            ]
          },
          "metadata": {},
          "execution_count": 158
        }
      ]
    },
    {
      "cell_type": "code",
      "source": [
        "from sklearn.metrics import confusion_matrix"
      ],
      "metadata": {
        "id": "VvY3SkCaDSFj"
      },
      "execution_count": null,
      "outputs": []
    },
    {
      "cell_type": "code",
      "source": [
        "confusion_matrix(y_test, y_test_pred, labels=[range(11)])"
      ],
      "metadata": {
        "colab": {
          "base_uri": "https://localhost:8080/"
        },
        "id": "BuZTn9FQDIXX",
        "outputId": "6b4c5c96-86f0-4ec7-9fa9-34d03541bb5a"
      },
      "execution_count": null,
      "outputs": [
        {
          "output_type": "execute_result",
          "data": {
            "text/plain": [
              "array([[ 2149,     0,     0,     0,     5,     0,     0,     1,     0,\n",
              "            0,     2],\n",
              "       [    0,  1521,     0,     0,     0,     0,     4,     2,     0,\n",
              "          108,    79],\n",
              "       [    0,     0,   371,    18,     1,     0,     0,     0,     0,\n",
              "            0,     0],\n",
              "       [    0,     1,    10,  2092,     0,     0,     0,     0,     0,\n",
              "            1,     0],\n",
              "       [    2,     0,     0,     0,  2749,     0,     0,     2,     0,\n",
              "            0,     6],\n",
              "       [    0,     0,     0,     0,     0,     0,     0,     0,     0,\n",
              "            0,     0],\n",
              "       [    0,     0,     0,     0,     0,     0,   999,     0,     0,\n",
              "            0,     2],\n",
              "       [    0,     1,     0,     0,     0,     0,     2,  1194,     0,\n",
              "            0,     8],\n",
              "       [    0,     0,     0,     0,     0,     0,     0,     0,     0,\n",
              "            0,     0],\n",
              "       [    0,   178,     0,     1,     0,     0,     1,     1,     0,\n",
              "         4014,     5],\n",
              "       [   34,   605,    34,    69,    95,     0,   770,   441,     0,\n",
              "          104, 48125]])"
            ]
          },
          "metadata": {},
          "execution_count": 174
        }
      ]
    },
    {
      "cell_type": "code",
      "source": [
        "import pandas as pd\n",
        "import seaborn as sn\n",
        "import matplotlib.pyplot as plt"
      ],
      "metadata": {
        "id": "1dCGo0c8DmnD"
      },
      "execution_count": null,
      "outputs": []
    },
    {
      "cell_type": "code",
      "source": [
        "confusion_matrix = pd.crosstab(y_test, y_test_pred, rownames=['Actual'], colnames=['Predicted'], margins = True)\n",
        "plt.figure(figsize = (15,5))\n",
        "sn.heatmap(confusion_matrix, annot=True, linewidths=.9, fmt=\"d\")\n",
        "plt.show()"
      ],
      "metadata": {
        "colab": {
          "base_uri": "https://localhost:8080/",
          "height": 334
        },
        "id": "e-eUpAFnFWeG",
        "outputId": "f73bc24f-c1a0-4044-a7dc-211599419f53"
      },
      "execution_count": null,
      "outputs": [
        {
          "output_type": "display_data",
          "data": {
            "text/plain": [
              "<Figure size 1080x360 with 2 Axes>"
            ],
            "image/png": "[encoded data removed]"
          },
          "metadata": {
            "needs_background": "light"
          }
        }
      ]
    },
    {
      "cell_type": "markdown",
      "source": [
        "# Финальный тест"
      ],
      "metadata": {
        "id": "J60-gpXy2VXH"
      }
    },
    {
      "cell_type": "code",
      "source": [
        "sample = pd.read_csv('/content/sample_solution.csv')"
      ],
      "metadata": {
        "id": "vCTHzHSPZTyK"
      },
      "execution_count": null,
      "outputs": []
    },
    {
      "cell_type": "code",
      "source": [
        "sample"
      ],
      "metadata": {
        "id": "cd8khrTcZcg3"
      },
      "execution_count": null,
      "outputs": []
    },
    {
      "cell_type": "code",
      "source": [
        "df_test = pd.read_csv('/content/test_dataset_test.csv')"
      ],
      "metadata": {
        "id": "NySBOfREZ1Vz"
      },
      "execution_count": null,
      "outputs": []
    },
    {
      "cell_type": "code",
      "source": [
        "df_test"
      ],
      "metadata": {
        "id": "kf0WJunDaOTy",
        "colab": {
          "base_uri": "https://localhost:8080/",
          "height": 424
        },
        "outputId": "c6f48c7e-60b6-4f2c-ee6f-146faa763908"
      },
      "execution_count": null,
      "outputs": [
        {
          "output_type": "execute_result",
          "data": {
            "text/plain": [
              "            id                                               name  \\\n",
              "0        10529   КАРАМЕЛЬ \"ЛАКОМКА-СУПЕРМОЛОЧНАЯ\" ВЕС (РОТ ФРОНТ)   \n",
              "1        10530           2: 3637233 РАЭ Масло ТРАДИЦ.слив.82,5% 1   \n",
              "2        10531  960012-LG NS  Бинт эластичный Classic лаймовый...   \n",
              "3        10532                  Вода мин. 1.5л пл/у (Сахалинская)   \n",
              "4        10533            Ролики натяжителя ремня AMD.GTA0740 AMD   \n",
              "...        ...                                                ...   \n",
              "282222  292751                   Пельмени Московские Пижанка 800г   \n",
              "282223  292752                     Активиа 135гр Пробиотик малина   \n",
              "282224  292753                                    Базилик овощной   \n",
              "282225  292754   JACOBS Millicano Кофе Crema Espresso раств с мол   \n",
              "282226  292755                   ШЕБА плежур Форель, Креветки 85г   \n",
              "\n",
              "                                                lemm_text  \\\n",
              "0       [карамель, лакомка, супермолочная, вес, рот, ф...   \n",
              "1                              [раэ, масло, традиц, слив]   \n",
              "2                   [бинт, эластичный, classic, лаймовый]   \n",
              "3                                [вода, мин, сахалинская]   \n",
              "4              [ролики, натяжителя, ремня, amd, gta, amd]   \n",
              "...                                                   ...   \n",
              "282222                    [пельмени, московские, пижанка]   \n",
              "282223                       [активиа, пробиотик, малина]   \n",
              "282224                                 [базилик, овощной]   \n",
              "282225  [jacob, millicano, кофе, crema, espresso, раст...   \n",
              "282226                   [шеба, плежур, форель, креветки]   \n",
              "\n",
              "                                        lemm_text_str  \n",
              "0        карамель лакомка супермолочная вес рот фронт  \n",
              "1                               раэ масло традиц слив  \n",
              "2                    бинт эластичный classic лаймовый  \n",
              "3                                вода мин сахалинская  \n",
              "4                 ролики натяжителя ремня amd gta amd  \n",
              "...                                               ...  \n",
              "282222                    пельмени московские пижанка  \n",
              "282223                       активиа пробиотик малина  \n",
              "282224                                базилик овощной  \n",
              "282225  jacob millicano кофе crema espresso раств мол  \n",
              "282226                    шеба плежур форель креветки  \n",
              "\n",
              "[282227 rows x 4 columns]"
            ],
            "text/html": [
              "\n",
              "  <div id=\"df-e103d4bb-5cf0-43f1-bacc-742d90d24b0f\">\n",
              "    <div class=\"colab-df-container\">\n",
              "      <div>\n",
              "<style scoped>\n",
              "    .dataframe tbody tr th:only-of-type {\n",
              "        vertical-align: middle;\n",
              "    }\n",
              "\n",
              "    .dataframe tbody tr th {\n",
              "        vertical-align: top;\n",
              "    }\n",
              "\n",
              "    .dataframe thead th {\n",
              "        text-align: right;\n",
              "    }\n",
              "</style>\n",
              "<table border=\"1\" class=\"dataframe\">\n",
              "  <thead>\n",
              "    <tr style=\"text-align: right;\">\n",
              "      <th></th>\n",
              "      <th>id</th>\n",
              "      <th>name</th>\n",
              "      <th>lemm_text</th>\n",
              "      <th>lemm_text_str</th>\n",
              "    </tr>\n",
              "  </thead>\n",
              "  <tbody>\n",
              "    <tr>\n",
              "      <th>0</th>\n",
              "      <td>10529</td>\n",
              "      <td>КАРАМЕЛЬ \"ЛАКОМКА-СУПЕРМОЛОЧНАЯ\" ВЕС (РОТ ФРОНТ)</td>\n",
              "      <td>[карамель, лакомка, супермолочная, вес, рот, ф...</td>\n",
              "      <td>карамель лакомка супермолочная вес рот фронт</td>\n",
              "    </tr>\n",
              "    <tr>\n",
              "      <th>1</th>\n",
              "      <td>10530</td>\n",
              "      <td>2: 3637233 РАЭ Масло ТРАДИЦ.слив.82,5% 1</td>\n",
              "      <td>[раэ, масло, традиц, слив]</td>\n",
              "      <td>раэ масло традиц слив</td>\n",
              "    </tr>\n",
              "    <tr>\n",
              "      <th>2</th>\n",
              "      <td>10531</td>\n",
              "      <td>960012-LG NS  Бинт эластичный Classic лаймовый...</td>\n",
              "      <td>[бинт, эластичный, classic, лаймовый]</td>\n",
              "      <td>бинт эластичный classic лаймовый</td>\n",
              "    </tr>\n",
              "    <tr>\n",
              "      <th>3</th>\n",
              "      <td>10532</td>\n",
              "      <td>Вода мин. 1.5л пл/у (Сахалинская)</td>\n",
              "      <td>[вода, мин, сахалинская]</td>\n",
              "      <td>вода мин сахалинская</td>\n",
              "    </tr>\n",
              "    <tr>\n",
              "      <th>4</th>\n",
              "      <td>10533</td>\n",
              "      <td>Ролики натяжителя ремня AMD.GTA0740 AMD</td>\n",
              "      <td>[ролики, натяжителя, ремня, amd, gta, amd]</td>\n",
              "      <td>ролики натяжителя ремня amd gta amd</td>\n",
              "    </tr>\n",
              "    <tr>\n",
              "      <th>...</th>\n",
              "      <td>...</td>\n",
              "      <td>...</td>\n",
              "      <td>...</td>\n",
              "      <td>...</td>\n",
              "    </tr>\n",
              "    <tr>\n",
              "      <th>282222</th>\n",
              "      <td>292751</td>\n",
              "      <td>Пельмени Московские Пижанка 800г</td>\n",
              "      <td>[пельмени, московские, пижанка]</td>\n",
              "      <td>пельмени московские пижанка</td>\n",
              "    </tr>\n",
              "    <tr>\n",
              "      <th>282223</th>\n",
              "      <td>292752</td>\n",
              "      <td>Активиа 135гр Пробиотик малина</td>\n",
              "      <td>[активиа, пробиотик, малина]</td>\n",
              "      <td>активиа пробиотик малина</td>\n",
              "    </tr>\n",
              "    <tr>\n",
              "      <th>282224</th>\n",
              "      <td>292753</td>\n",
              "      <td>Базилик овощной</td>\n",
              "      <td>[базилик, овощной]</td>\n",
              "      <td>базилик овощной</td>\n",
              "    </tr>\n",
              "    <tr>\n",
              "      <th>282225</th>\n",
              "      <td>292754</td>\n",
              "      <td>JACOBS Millicano Кофе Crema Espresso раств с мол</td>\n",
              "      <td>[jacob, millicano, кофе, crema, espresso, раст...</td>\n",
              "      <td>jacob millicano кофе crema espresso раств мол</td>\n",
              "    </tr>\n",
              "    <tr>\n",
              "      <th>282226</th>\n",
              "      <td>292755</td>\n",
              "      <td>ШЕБА плежур Форель, Креветки 85г</td>\n",
              "      <td>[шеба, плежур, форель, креветки]</td>\n",
              "      <td>шеба плежур форель креветки</td>\n",
              "    </tr>\n",
              "  </tbody>\n",
              "</table>\n",
              "<p>282227 rows × 4 columns</p>\n",
              "</div>\n",
              "      <button class=\"colab-df-convert\" onclick=\"convertToInteractive('df-e103d4bb-5cf0-43f1-bacc-742d90d24b0f')\"\n",
              "              title=\"Convert this dataframe to an interactive table.\"\n",
              "              style=\"display:none;\">\n",
              "        \n",
              "  <svg xmlns=\"http://www.w3.org/2000/svg\" height=\"24px\"viewBox=\"0 0 24 24\"\n",
              "       width=\"24px\">\n",
              "    <path d=\"M0 0h24v24H0V0z\" fill=\"none\"/>\n",
              "    <path d=\"M18.56 5.44l.94 2.06.94-2.06 2.06-.94-2.06-.94-.94-2.06-.94 2.06-2.06.94zm-11 1L8.5 8.5l.94-2.06 2.06-.94-2.06-.94L8.5 2.5l-.94 2.06-2.06.94zm10 10l.94 2.06.94-2.06 2.06-.94-2.06-.94-.94-2.06-.94 2.06-2.06.94z\"/><path d=\"M17.41 7.96l-1.37-1.37c-.4-.4-.92-.59-1.43-.59-.52 0-1.04.2-1.43.59L10.3 9.45l-7.72 7.72c-.78.78-.78 2.05 0 2.83L4 21.41c.39.39.9.59 1.41.59.51 0 1.02-.2 1.41-.59l7.78-7.78 2.81-2.81c.8-.78.8-2.07 0-2.86zM5.41 20L4 18.59l7.72-7.72 1.47 1.35L5.41 20z\"/>\n",
              "  </svg>\n",
              "      </button>\n",
              "      \n",
              "  <style>\n",
              "    .colab-df-container {\n",
              "      display:flex;\n",
              "      flex-wrap:wrap;\n",
              "      gap: 12px;\n",
              "    }\n",
              "\n",
              "    .colab-df-convert {\n",
              "      background-color: #E8F0FE;\n",
              "      border: none;\n",
              "      border-radius: 50%;\n",
              "      cursor: pointer;\n",
              "      display: none;\n",
              "      fill: #1967D2;\n",
              "      height: 32px;\n",
              "      padding: 0 0 0 0;\n",
              "      width: 32px;\n",
              "    }\n",
              "\n",
              "    .colab-df-convert:hover {\n",
              "      background-color: #E2EBFA;\n",
              "      box-shadow: 0px 1px 2px rgba(60, 64, 67, 0.3), 0px 1px 3px 1px rgba(60, 64, 67, 0.15);\n",
              "      fill: #174EA6;\n",
              "    }\n",
              "\n",
              "    [theme=dark] .colab-df-convert {\n",
              "      background-color: #3B4455;\n",
              "      fill: #D2E3FC;\n",
              "    }\n",
              "\n",
              "    [theme=dark] .colab-df-convert:hover {\n",
              "      background-color: #434B5C;\n",
              "      box-shadow: 0px 1px 3px 1px rgba(0, 0, 0, 0.15);\n",
              "      filter: drop-shadow(0px 1px 2px rgba(0, 0, 0, 0.3));\n",
              "      fill: #FFFFFF;\n",
              "    }\n",
              "  </style>\n",
              "\n",
              "      <script>\n",
              "        const buttonEl =\n",
              "          document.querySelector('#df-e103d4bb-5cf0-43f1-bacc-742d90d24b0f button.colab-df-convert');\n",
              "        buttonEl.style.display =\n",
              "          google.colab.kernel.accessAllowed ? 'block' : 'none';\n",
              "\n",
              "        async function convertToInteractive(key) {\n",
              "          const element = document.querySelector('#df-e103d4bb-5cf0-43f1-bacc-742d90d24b0f');\n",
              "          const dataTable =\n",
              "            await google.colab.kernel.invokeFunction('convertToInteractive',\n",
              "                                                     [key], {});\n",
              "          if (!dataTable) return;\n",
              "\n",
              "          const docLinkHtml = 'Like what you see? Visit the ' +\n",
              "            '<a target=\"_blank\" href=https://colab.research.google.com/notebooks/data_table.ipynb>data table notebook</a>'\n",
              "            + ' to learn more about interactive tables.';\n",
              "          element.innerHTML = '';\n",
              "          dataTable['output_type'] = 'display_data';\n",
              "          await google.colab.output.renderOutput(dataTable, element);\n",
              "          const docLink = document.createElement('div');\n",
              "          docLink.innerHTML = docLinkHtml;\n",
              "          element.appendChild(docLink);\n",
              "        }\n",
              "      </script>\n",
              "    </div>\n",
              "  </div>\n",
              "  "
            ]
          },
          "metadata": {},
          "execution_count": 160
        }
      ]
    },
    {
      "cell_type": "code",
      "source": [
        "# Функция для очистки текста \n",
        "def clean_text(text):\n",
        "  text = text.lower()\n",
        "  return \" \".join(re.sub(r\"[^а-яa-z]\", ' ', text).split()) \n",
        " \n",
        "# создаем список для хранения преобразованных данных \n",
        "processed_text = []\n",
        "# загружаем стоп-слова для русского языка\n",
        "stop_words = stopwords.words('russian')\n",
        "# инициализируем лемматайзер \n",
        "lemmatizer = WordNetLemmatizer()\n",
        " \n",
        "# для каждого сообщения text из столбца data['name']\n",
        "for text in df_test['name']:\n",
        "    # cleaning \n",
        "    text = clean_text(text)   \n",
        "    # tokenization\n",
        "    text = word_tokenize(text)       \n",
        "    # удаление стоп-слов\n",
        "    text = [word for word in text if word not in stop_words]     \n",
        "    # лемматизация\n",
        "    #text = [lemmatizer.lemmatize(w) for w in text]\n",
        "    text = [word for word in text if len(word) >= 3]  \n",
        "    # добавляем преобразованный текст в список processed_text\n",
        "    processed_text.append(text)\n",
        " \n",
        "# Сохраняем результат преобразования в новой колонке 'Processed_msg'\n",
        "df_test['lemm_text'] = processed_text"
      ],
      "metadata": {
        "id": "xqWr4umCaWFb"
      },
      "execution_count": null,
      "outputs": []
    },
    {
      "cell_type": "code",
      "source": [
        "df_test"
      ],
      "metadata": {
        "id": "fskkpUTca5xL",
        "colab": {
          "base_uri": "https://localhost:8080/",
          "height": 424
        },
        "outputId": "0f383da8-c31d-495d-d87b-374782834033"
      },
      "execution_count": null,
      "outputs": [
        {
          "output_type": "execute_result",
          "data": {
            "text/plain": [
              "            id                                               name  \\\n",
              "0        10529   КАРАМЕЛЬ \"ЛАКОМКА-СУПЕРМОЛОЧНАЯ\" ВЕС (РОТ ФРОНТ)   \n",
              "1        10530           2: 3637233 РАЭ Масло ТРАДИЦ.слив.82,5% 1   \n",
              "2        10531  960012-LG NS  Бинт эластичный Classic лаймовый...   \n",
              "3        10532                  Вода мин. 1.5л пл/у (Сахалинская)   \n",
              "4        10533            Ролики натяжителя ремня AMD.GTA0740 AMD   \n",
              "...        ...                                                ...   \n",
              "282222  292751                   Пельмени Московские Пижанка 800г   \n",
              "282223  292752                     Активиа 135гр Пробиотик малина   \n",
              "282224  292753                                    Базилик овощной   \n",
              "282225  292754   JACOBS Millicano Кофе Crema Espresso раств с мол   \n",
              "282226  292755                   ШЕБА плежур Форель, Креветки 85г   \n",
              "\n",
              "                                                lemm_text  \\\n",
              "0       [карамель, лакомка, супермолочная, вес, рот, ф...   \n",
              "1                              [раэ, масло, традиц, слив]   \n",
              "2                   [бинт, эластичный, classic, лаймовый]   \n",
              "3                                [вода, мин, сахалинская]   \n",
              "4              [ролики, натяжителя, ремня, amd, gta, amd]   \n",
              "...                                                   ...   \n",
              "282222                    [пельмени, московские, пижанка]   \n",
              "282223                       [активиа, пробиотик, малина]   \n",
              "282224                                 [базилик, овощной]   \n",
              "282225  [jacobs, millicano, кофе, crema, espresso, рас...   \n",
              "282226                   [шеба, плежур, форель, креветки]   \n",
              "\n",
              "                                        lemm_text_str  \n",
              "0        карамель лакомка супермолочная вес рот фронт  \n",
              "1                               раэ масло традиц слив  \n",
              "2                    бинт эластичный classic лаймовый  \n",
              "3                                вода мин сахалинская  \n",
              "4                 ролики натяжителя ремня amd gta amd  \n",
              "...                                               ...  \n",
              "282222                    пельмени московские пижанка  \n",
              "282223                       активиа пробиотик малина  \n",
              "282224                                базилик овощной  \n",
              "282225  jacob millicano кофе crema espresso раств мол  \n",
              "282226                    шеба плежур форель креветки  \n",
              "\n",
              "[282227 rows x 4 columns]"
            ],
            "text/html": [
              "\n",
              "  <div id=\"df-39943728-e09b-4ede-845b-697114ab3f79\">\n",
              "    <div class=\"colab-df-container\">\n",
              "      <div>\n",
              "<style scoped>\n",
              "    .dataframe tbody tr th:only-of-type {\n",
              "        vertical-align: middle;\n",
              "    }\n",
              "\n",
              "    .dataframe tbody tr th {\n",
              "        vertical-align: top;\n",
              "    }\n",
              "\n",
              "    .dataframe thead th {\n",
              "        text-align: right;\n",
              "    }\n",
              "</style>\n",
              "<table border=\"1\" class=\"dataframe\">\n",
              "  <thead>\n",
              "    <tr style=\"text-align: right;\">\n",
              "      <th></th>\n",
              "      <th>id</th>\n",
              "      <th>name</th>\n",
              "      <th>lemm_text</th>\n",
              "      <th>lemm_text_str</th>\n",
              "    </tr>\n",
              "  </thead>\n",
              "  <tbody>\n",
              "    <tr>\n",
              "      <th>0</th>\n",
              "      <td>10529</td>\n",
              "      <td>КАРАМЕЛЬ \"ЛАКОМКА-СУПЕРМОЛОЧНАЯ\" ВЕС (РОТ ФРОНТ)</td>\n",
              "      <td>[карамель, лакомка, супермолочная, вес, рот, ф...</td>\n",
              "      <td>карамель лакомка супермолочная вес рот фронт</td>\n",
              "    </tr>\n",
              "    <tr>\n",
              "      <th>1</th>\n",
              "      <td>10530</td>\n",
              "      <td>2: 3637233 РАЭ Масло ТРАДИЦ.слив.82,5% 1</td>\n",
              "      <td>[раэ, масло, традиц, слив]</td>\n",
              "      <td>раэ масло традиц слив</td>\n",
              "    </tr>\n",
              "    <tr>\n",
              "      <th>2</th>\n",
              "      <td>10531</td>\n",
              "      <td>960012-LG NS  Бинт эластичный Classic лаймовый...</td>\n",
              "      <td>[бинт, эластичный, classic, лаймовый]</td>\n",
              "      <td>бинт эластичный classic лаймовый</td>\n",
              "    </tr>\n",
              "    <tr>\n",
              "      <th>3</th>\n",
              "      <td>10532</td>\n",
              "      <td>Вода мин. 1.5л пл/у (Сахалинская)</td>\n",
              "      <td>[вода, мин, сахалинская]</td>\n",
              "      <td>вода мин сахалинская</td>\n",
              "    </tr>\n",
              "    <tr>\n",
              "      <th>4</th>\n",
              "      <td>10533</td>\n",
              "      <td>Ролики натяжителя ремня AMD.GTA0740 AMD</td>\n",
              "      <td>[ролики, натяжителя, ремня, amd, gta, amd]</td>\n",
              "      <td>ролики натяжителя ремня amd gta amd</td>\n",
              "    </tr>\n",
              "    <tr>\n",
              "      <th>...</th>\n",
              "      <td>...</td>\n",
              "      <td>...</td>\n",
              "      <td>...</td>\n",
              "      <td>...</td>\n",
              "    </tr>\n",
              "    <tr>\n",
              "      <th>282222</th>\n",
              "      <td>292751</td>\n",
              "      <td>Пельмени Московские Пижанка 800г</td>\n",
              "      <td>[пельмени, московские, пижанка]</td>\n",
              "      <td>пельмени московские пижанка</td>\n",
              "    </tr>\n",
              "    <tr>\n",
              "      <th>282223</th>\n",
              "      <td>292752</td>\n",
              "      <td>Активиа 135гр Пробиотик малина</td>\n",
              "      <td>[активиа, пробиотик, малина]</td>\n",
              "      <td>активиа пробиотик малина</td>\n",
              "    </tr>\n",
              "    <tr>\n",
              "      <th>282224</th>\n",
              "      <td>292753</td>\n",
              "      <td>Базилик овощной</td>\n",
              "      <td>[базилик, овощной]</td>\n",
              "      <td>базилик овощной</td>\n",
              "    </tr>\n",
              "    <tr>\n",
              "      <th>282225</th>\n",
              "      <td>292754</td>\n",
              "      <td>JACOBS Millicano Кофе Crema Espresso раств с мол</td>\n",
              "      <td>[jacobs, millicano, кофе, crema, espresso, рас...</td>\n",
              "      <td>jacob millicano кофе crema espresso раств мол</td>\n",
              "    </tr>\n",
              "    <tr>\n",
              "      <th>282226</th>\n",
              "      <td>292755</td>\n",
              "      <td>ШЕБА плежур Форель, Креветки 85г</td>\n",
              "      <td>[шеба, плежур, форель, креветки]</td>\n",
              "      <td>шеба плежур форель креветки</td>\n",
              "    </tr>\n",
              "  </tbody>\n",
              "</table>\n",
              "<p>282227 rows × 4 columns</p>\n",
              "</div>\n",
              "      <button class=\"colab-df-convert\" onclick=\"convertToInteractive('df-39943728-e09b-4ede-845b-697114ab3f79')\"\n",
              "              title=\"Convert this dataframe to an interactive table.\"\n",
              "              style=\"display:none;\">\n",
              "        \n",
              "  <svg xmlns=\"http://www.w3.org/2000/svg\" height=\"24px\"viewBox=\"0 0 24 24\"\n",
              "       width=\"24px\">\n",
              "    <path d=\"M0 0h24v24H0V0z\" fill=\"none\"/>\n",
              "    <path d=\"M18.56 5.44l.94 2.06.94-2.06 2.06-.94-2.06-.94-.94-2.06-.94 2.06-2.06.94zm-11 1L8.5 8.5l.94-2.06 2.06-.94-2.06-.94L8.5 2.5l-.94 2.06-2.06.94zm10 10l.94 2.06.94-2.06 2.06-.94-2.06-.94-.94-2.06-.94 2.06-2.06.94z\"/><path d=\"M17.41 7.96l-1.37-1.37c-.4-.4-.92-.59-1.43-.59-.52 0-1.04.2-1.43.59L10.3 9.45l-7.72 7.72c-.78.78-.78 2.05 0 2.83L4 21.41c.39.39.9.59 1.41.59.51 0 1.02-.2 1.41-.59l7.78-7.78 2.81-2.81c.8-.78.8-2.07 0-2.86zM5.41 20L4 18.59l7.72-7.72 1.47 1.35L5.41 20z\"/>\n",
              "  </svg>\n",
              "      </button>\n",
              "      \n",
              "  <style>\n",
              "    .colab-df-container {\n",
              "      display:flex;\n",
              "      flex-wrap:wrap;\n",
              "      gap: 12px;\n",
              "    }\n",
              "\n",
              "    .colab-df-convert {\n",
              "      background-color: #E8F0FE;\n",
              "      border: none;\n",
              "      border-radius: 50%;\n",
              "      cursor: pointer;\n",
              "      display: none;\n",
              "      fill: #1967D2;\n",
              "      height: 32px;\n",
              "      padding: 0 0 0 0;\n",
              "      width: 32px;\n",
              "    }\n",
              "\n",
              "    .colab-df-convert:hover {\n",
              "      background-color: #E2EBFA;\n",
              "      box-shadow: 0px 1px 2px rgba(60, 64, 67, 0.3), 0px 1px 3px 1px rgba(60, 64, 67, 0.15);\n",
              "      fill: #174EA6;\n",
              "    }\n",
              "\n",
              "    [theme=dark] .colab-df-convert {\n",
              "      background-color: #3B4455;\n",
              "      fill: #D2E3FC;\n",
              "    }\n",
              "\n",
              "    [theme=dark] .colab-df-convert:hover {\n",
              "      background-color: #434B5C;\n",
              "      box-shadow: 0px 1px 3px 1px rgba(0, 0, 0, 0.15);\n",
              "      filter: drop-shadow(0px 1px 2px rgba(0, 0, 0, 0.3));\n",
              "      fill: #FFFFFF;\n",
              "    }\n",
              "  </style>\n",
              "\n",
              "      <script>\n",
              "        const buttonEl =\n",
              "          document.querySelector('#df-39943728-e09b-4ede-845b-697114ab3f79 button.colab-df-convert');\n",
              "        buttonEl.style.display =\n",
              "          google.colab.kernel.accessAllowed ? 'block' : 'none';\n",
              "\n",
              "        async function convertToInteractive(key) {\n",
              "          const element = document.querySelector('#df-39943728-e09b-4ede-845b-697114ab3f79');\n",
              "          const dataTable =\n",
              "            await google.colab.kernel.invokeFunction('convertToInteractive',\n",
              "                                                     [key], {});\n",
              "          if (!dataTable) return;\n",
              "\n",
              "          const docLinkHtml = 'Like what you see? Visit the ' +\n",
              "            '<a target=\"_blank\" href=https://colab.research.google.com/notebooks/data_table.ipynb>data table notebook</a>'\n",
              "            + ' to learn more about interactive tables.';\n",
              "          element.innerHTML = '';\n",
              "          dataTable['output_type'] = 'display_data';\n",
              "          await google.colab.output.renderOutput(dataTable, element);\n",
              "          const docLink = document.createElement('div');\n",
              "          docLink.innerHTML = docLinkHtml;\n",
              "          element.appendChild(docLink);\n",
              "        }\n",
              "      </script>\n",
              "    </div>\n",
              "  </div>\n",
              "  "
            ]
          },
          "metadata": {},
          "execution_count": 162
        }
      ]
    },
    {
      "cell_type": "code",
      "source": [
        "df_test['lemm_text_str'] = df_test['lemm_text'].apply(lambda x: ' '.join(x))"
      ],
      "metadata": {
        "id": "6si-Y8Zfa50L"
      },
      "execution_count": null,
      "outputs": []
    },
    {
      "cell_type": "code",
      "source": [
        "df_test"
      ],
      "metadata": {
        "id": "ccz9NW2Mo4Jp",
        "colab": {
          "base_uri": "https://localhost:8080/",
          "height": 424
        },
        "outputId": "5bceea88-2bfa-4459-8aaa-2bac35c304ed"
      },
      "execution_count": null,
      "outputs": [
        {
          "output_type": "execute_result",
          "data": {
            "text/plain": [
              "            id                                               name  \\\n",
              "0        10529   КАРАМЕЛЬ \"ЛАКОМКА-СУПЕРМОЛОЧНАЯ\" ВЕС (РОТ ФРОНТ)   \n",
              "1        10530           2: 3637233 РАЭ Масло ТРАДИЦ.слив.82,5% 1   \n",
              "2        10531  960012-LG NS  Бинт эластичный Classic лаймовый...   \n",
              "3        10532                  Вода мин. 1.5л пл/у (Сахалинская)   \n",
              "4        10533            Ролики натяжителя ремня AMD.GTA0740 AMD   \n",
              "...        ...                                                ...   \n",
              "282222  292751                   Пельмени Московские Пижанка 800г   \n",
              "282223  292752                     Активиа 135гр Пробиотик малина   \n",
              "282224  292753                                    Базилик овощной   \n",
              "282225  292754   JACOBS Millicano Кофе Crema Espresso раств с мол   \n",
              "282226  292755                   ШЕБА плежур Форель, Креветки 85г   \n",
              "\n",
              "                                                lemm_text  \\\n",
              "0       [карамель, лакомка, супермолочная, вес, рот, ф...   \n",
              "1                              [раэ, масло, традиц, слив]   \n",
              "2                   [бинт, эластичный, classic, лаймовый]   \n",
              "3                                [вода, мин, сахалинская]   \n",
              "4              [ролики, натяжителя, ремня, amd, gta, amd]   \n",
              "...                                                   ...   \n",
              "282222                    [пельмени, московские, пижанка]   \n",
              "282223                       [активиа, пробиотик, малина]   \n",
              "282224                                 [базилик, овощной]   \n",
              "282225  [jacobs, millicano, кофе, crema, espresso, рас...   \n",
              "282226                   [шеба, плежур, форель, креветки]   \n",
              "\n",
              "                                         lemm_text_str  \n",
              "0         карамель лакомка супермолочная вес рот фронт  \n",
              "1                                раэ масло традиц слив  \n",
              "2                     бинт эластичный classic лаймовый  \n",
              "3                                 вода мин сахалинская  \n",
              "4                  ролики натяжителя ремня amd gta amd  \n",
              "...                                                ...  \n",
              "282222                     пельмени московские пижанка  \n",
              "282223                        активиа пробиотик малина  \n",
              "282224                                 базилик овощной  \n",
              "282225  jacobs millicano кофе crema espresso раств мол  \n",
              "282226                     шеба плежур форель креветки  \n",
              "\n",
              "[282227 rows x 4 columns]"
            ],
            "text/html": [
              "\n",
              "  <div id=\"df-0687ce9f-9e67-4840-a43f-bd7d087d6a87\">\n",
              "    <div class=\"colab-df-container\">\n",
              "      <div>\n",
              "<style scoped>\n",
              "    .dataframe tbody tr th:only-of-type {\n",
              "        vertical-align: middle;\n",
              "    }\n",
              "\n",
              "    .dataframe tbody tr th {\n",
              "        vertical-align: top;\n",
              "    }\n",
              "\n",
              "    .dataframe thead th {\n",
              "        text-align: right;\n",
              "    }\n",
              "</style>\n",
              "<table border=\"1\" class=\"dataframe\">\n",
              "  <thead>\n",
              "    <tr style=\"text-align: right;\">\n",
              "      <th></th>\n",
              "      <th>id</th>\n",
              "      <th>name</th>\n",
              "      <th>lemm_text</th>\n",
              "      <th>lemm_text_str</th>\n",
              "    </tr>\n",
              "  </thead>\n",
              "  <tbody>\n",
              "    <tr>\n",
              "      <th>0</th>\n",
              "      <td>10529</td>\n",
              "      <td>КАРАМЕЛЬ \"ЛАКОМКА-СУПЕРМОЛОЧНАЯ\" ВЕС (РОТ ФРОНТ)</td>\n",
              "      <td>[карамель, лакомка, супермолочная, вес, рот, ф...</td>\n",
              "      <td>карамель лакомка супермолочная вес рот фронт</td>\n",
              "    </tr>\n",
              "    <tr>\n",
              "      <th>1</th>\n",
              "      <td>10530</td>\n",
              "      <td>2: 3637233 РАЭ Масло ТРАДИЦ.слив.82,5% 1</td>\n",
              "      <td>[раэ, масло, традиц, слив]</td>\n",
              "      <td>раэ масло традиц слив</td>\n",
              "    </tr>\n",
              "    <tr>\n",
              "      <th>2</th>\n",
              "      <td>10531</td>\n",
              "      <td>960012-LG NS  Бинт эластичный Classic лаймовый...</td>\n",
              "      <td>[бинт, эластичный, classic, лаймовый]</td>\n",
              "      <td>бинт эластичный classic лаймовый</td>\n",
              "    </tr>\n",
              "    <tr>\n",
              "      <th>3</th>\n",
              "      <td>10532</td>\n",
              "      <td>Вода мин. 1.5л пл/у (Сахалинская)</td>\n",
              "      <td>[вода, мин, сахалинская]</td>\n",
              "      <td>вода мин сахалинская</td>\n",
              "    </tr>\n",
              "    <tr>\n",
              "      <th>4</th>\n",
              "      <td>10533</td>\n",
              "      <td>Ролики натяжителя ремня AMD.GTA0740 AMD</td>\n",
              "      <td>[ролики, натяжителя, ремня, amd, gta, amd]</td>\n",
              "      <td>ролики натяжителя ремня amd gta amd</td>\n",
              "    </tr>\n",
              "    <tr>\n",
              "      <th>...</th>\n",
              "      <td>...</td>\n",
              "      <td>...</td>\n",
              "      <td>...</td>\n",
              "      <td>...</td>\n",
              "    </tr>\n",
              "    <tr>\n",
              "      <th>282222</th>\n",
              "      <td>292751</td>\n",
              "      <td>Пельмени Московские Пижанка 800г</td>\n",
              "      <td>[пельмени, московские, пижанка]</td>\n",
              "      <td>пельмени московские пижанка</td>\n",
              "    </tr>\n",
              "    <tr>\n",
              "      <th>282223</th>\n",
              "      <td>292752</td>\n",
              "      <td>Активиа 135гр Пробиотик малина</td>\n",
              "      <td>[активиа, пробиотик, малина]</td>\n",
              "      <td>активиа пробиотик малина</td>\n",
              "    </tr>\n",
              "    <tr>\n",
              "      <th>282224</th>\n",
              "      <td>292753</td>\n",
              "      <td>Базилик овощной</td>\n",
              "      <td>[базилик, овощной]</td>\n",
              "      <td>базилик овощной</td>\n",
              "    </tr>\n",
              "    <tr>\n",
              "      <th>282225</th>\n",
              "      <td>292754</td>\n",
              "      <td>JACOBS Millicano Кофе Crema Espresso раств с мол</td>\n",
              "      <td>[jacobs, millicano, кофе, crema, espresso, рас...</td>\n",
              "      <td>jacobs millicano кофе crema espresso раств мол</td>\n",
              "    </tr>\n",
              "    <tr>\n",
              "      <th>282226</th>\n",
              "      <td>292755</td>\n",
              "      <td>ШЕБА плежур Форель, Креветки 85г</td>\n",
              "      <td>[шеба, плежур, форель, креветки]</td>\n",
              "      <td>шеба плежур форель креветки</td>\n",
              "    </tr>\n",
              "  </tbody>\n",
              "</table>\n",
              "<p>282227 rows × 4 columns</p>\n",
              "</div>\n",
              "      <button class=\"colab-df-convert\" onclick=\"convertToInteractive('df-0687ce9f-9e67-4840-a43f-bd7d087d6a87')\"\n",
              "              title=\"Convert this dataframe to an interactive table.\"\n",
              "              style=\"display:none;\">\n",
              "        \n",
              "  <svg xmlns=\"http://www.w3.org/2000/svg\" height=\"24px\"viewBox=\"0 0 24 24\"\n",
              "       width=\"24px\">\n",
              "    <path d=\"M0 0h24v24H0V0z\" fill=\"none\"/>\n",
              "    <path d=\"M18.56 5.44l.94 2.06.94-2.06 2.06-.94-2.06-.94-.94-2.06-.94 2.06-2.06.94zm-11 1L8.5 8.5l.94-2.06 2.06-.94-2.06-.94L8.5 2.5l-.94 2.06-2.06.94zm10 10l.94 2.06.94-2.06 2.06-.94-2.06-.94-.94-2.06-.94 2.06-2.06.94z\"/><path d=\"M17.41 7.96l-1.37-1.37c-.4-.4-.92-.59-1.43-.59-.52 0-1.04.2-1.43.59L10.3 9.45l-7.72 7.72c-.78.78-.78 2.05 0 2.83L4 21.41c.39.39.9.59 1.41.59.51 0 1.02-.2 1.41-.59l7.78-7.78 2.81-2.81c.8-.78.8-2.07 0-2.86zM5.41 20L4 18.59l7.72-7.72 1.47 1.35L5.41 20z\"/>\n",
              "  </svg>\n",
              "      </button>\n",
              "      \n",
              "  <style>\n",
              "    .colab-df-container {\n",
              "      display:flex;\n",
              "      flex-wrap:wrap;\n",
              "      gap: 12px;\n",
              "    }\n",
              "\n",
              "    .colab-df-convert {\n",
              "      background-color: #E8F0FE;\n",
              "      border: none;\n",
              "      border-radius: 50%;\n",
              "      cursor: pointer;\n",
              "      display: none;\n",
              "      fill: #1967D2;\n",
              "      height: 32px;\n",
              "      padding: 0 0 0 0;\n",
              "      width: 32px;\n",
              "    }\n",
              "\n",
              "    .colab-df-convert:hover {\n",
              "      background-color: #E2EBFA;\n",
              "      box-shadow: 0px 1px 2px rgba(60, 64, 67, 0.3), 0px 1px 3px 1px rgba(60, 64, 67, 0.15);\n",
              "      fill: #174EA6;\n",
              "    }\n",
              "\n",
              "    [theme=dark] .colab-df-convert {\n",
              "      background-color: #3B4455;\n",
              "      fill: #D2E3FC;\n",
              "    }\n",
              "\n",
              "    [theme=dark] .colab-df-convert:hover {\n",
              "      background-color: #434B5C;\n",
              "      box-shadow: 0px 1px 3px 1px rgba(0, 0, 0, 0.15);\n",
              "      filter: drop-shadow(0px 1px 2px rgba(0, 0, 0, 0.3));\n",
              "      fill: #FFFFFF;\n",
              "    }\n",
              "  </style>\n",
              "\n",
              "      <script>\n",
              "        const buttonEl =\n",
              "          document.querySelector('#df-0687ce9f-9e67-4840-a43f-bd7d087d6a87 button.colab-df-convert');\n",
              "        buttonEl.style.display =\n",
              "          google.colab.kernel.accessAllowed ? 'block' : 'none';\n",
              "\n",
              "        async function convertToInteractive(key) {\n",
              "          const element = document.querySelector('#df-0687ce9f-9e67-4840-a43f-bd7d087d6a87');\n",
              "          const dataTable =\n",
              "            await google.colab.kernel.invokeFunction('convertToInteractive',\n",
              "                                                     [key], {});\n",
              "          if (!dataTable) return;\n",
              "\n",
              "          const docLinkHtml = 'Like what you see? Visit the ' +\n",
              "            '<a target=\"_blank\" href=https://colab.research.google.com/notebooks/data_table.ipynb>data table notebook</a>'\n",
              "            + ' to learn more about interactive tables.';\n",
              "          element.innerHTML = '';\n",
              "          dataTable['output_type'] = 'display_data';\n",
              "          await google.colab.output.renderOutput(dataTable, element);\n",
              "          const docLink = document.createElement('div');\n",
              "          docLink.innerHTML = docLinkHtml;\n",
              "          element.appendChild(docLink);\n",
              "        }\n",
              "      </script>\n",
              "    </div>\n",
              "  </div>\n",
              "  "
            ]
          },
          "metadata": {},
          "execution_count": 164
        }
      ]
    },
    {
      "cell_type": "code",
      "source": [
        "test_features = vectorizer.transform(df_test['lemm_text_str'].values)"
      ],
      "metadata": {
        "id": "eWK5J1gVbR1Y"
      },
      "execution_count": null,
      "outputs": []
    },
    {
      "cell_type": "code",
      "source": [
        "test_features.shape"
      ],
      "metadata": {
        "id": "zXTf6ASpn21G",
        "colab": {
          "base_uri": "https://localhost:8080/"
        },
        "outputId": "f298a08a-c687-4773-943c-d9eb9d8c0538"
      },
      "execution_count": null,
      "outputs": [
        {
          "output_type": "execute_result",
          "data": {
            "text/plain": [
              "(282227, 254513)"
            ]
          },
          "metadata": {},
          "execution_count": 166
        }
      ]
    },
    {
      "cell_type": "code",
      "source": [
        "X_df_test = test_features"
      ],
      "metadata": {
        "id": "GmX9p1InbbyM"
      },
      "execution_count": null,
      "outputs": []
    },
    {
      "cell_type": "code",
      "source": [
        "y_df_test_pred  = lg_model.predict(X_df_test)"
      ],
      "metadata": {
        "id": "G0v7Q9tTbgre"
      },
      "execution_count": null,
      "outputs": []
    },
    {
      "cell_type": "code",
      "source": [
        "submission = pd.DataFrame({\n",
        "        \"id\": df_test[\"id\"],\n",
        "        \"groups\": y_df_test_pred\n",
        "    })\n"
      ],
      "metadata": {
        "id": "Q0KQOEHQoBmp"
      },
      "execution_count": null,
      "outputs": []
    },
    {
      "cell_type": "code",
      "source": [
        "submission"
      ],
      "metadata": {
        "id": "b5D3c_Ylo-b2",
        "colab": {
          "base_uri": "https://localhost:8080/",
          "height": 424
        },
        "outputId": "6dd2b6e2-0e4c-4814-808d-6edef8969724"
      },
      "execution_count": null,
      "outputs": [
        {
          "output_type": "execute_result",
          "data": {
            "text/plain": [
              "            id  groups\n",
              "0        10529      10\n",
              "1        10530      10\n",
              "2        10531      10\n",
              "3        10532       0\n",
              "4        10533      10\n",
              "...        ...     ...\n",
              "282222  292751      10\n",
              "282223  292752       7\n",
              "282224  292753      10\n",
              "282225  292754      10\n",
              "282226  292755      10\n",
              "\n",
              "[282227 rows x 2 columns]"
            ],
            "text/html": [
              "\n",
              "  <div id=\"df-11c98072-309b-4129-b844-d3b6aa03997e\">\n",
              "    <div class=\"colab-df-container\">\n",
              "      <div>\n",
              "<style scoped>\n",
              "    .dataframe tbody tr th:only-of-type {\n",
              "        vertical-align: middle;\n",
              "    }\n",
              "\n",
              "    .dataframe tbody tr th {\n",
              "        vertical-align: top;\n",
              "    }\n",
              "\n",
              "    .dataframe thead th {\n",
              "        text-align: right;\n",
              "    }\n",
              "</style>\n",
              "<table border=\"1\" class=\"dataframe\">\n",
              "  <thead>\n",
              "    <tr style=\"text-align: right;\">\n",
              "      <th></th>\n",
              "      <th>id</th>\n",
              "      <th>groups</th>\n",
              "    </tr>\n",
              "  </thead>\n",
              "  <tbody>\n",
              "    <tr>\n",
              "      <th>0</th>\n",
              "      <td>10529</td>\n",
              "      <td>10</td>\n",
              "    </tr>\n",
              "    <tr>\n",
              "      <th>1</th>\n",
              "      <td>10530</td>\n",
              "      <td>10</td>\n",
              "    </tr>\n",
              "    <tr>\n",
              "      <th>2</th>\n",
              "      <td>10531</td>\n",
              "      <td>10</td>\n",
              "    </tr>\n",
              "    <tr>\n",
              "      <th>3</th>\n",
              "      <td>10532</td>\n",
              "      <td>0</td>\n",
              "    </tr>\n",
              "    <tr>\n",
              "      <th>4</th>\n",
              "      <td>10533</td>\n",
              "      <td>10</td>\n",
              "    </tr>\n",
              "    <tr>\n",
              "      <th>...</th>\n",
              "      <td>...</td>\n",
              "      <td>...</td>\n",
              "    </tr>\n",
              "    <tr>\n",
              "      <th>282222</th>\n",
              "      <td>292751</td>\n",
              "      <td>10</td>\n",
              "    </tr>\n",
              "    <tr>\n",
              "      <th>282223</th>\n",
              "      <td>292752</td>\n",
              "      <td>7</td>\n",
              "    </tr>\n",
              "    <tr>\n",
              "      <th>282224</th>\n",
              "      <td>292753</td>\n",
              "      <td>10</td>\n",
              "    </tr>\n",
              "    <tr>\n",
              "      <th>282225</th>\n",
              "      <td>292754</td>\n",
              "      <td>10</td>\n",
              "    </tr>\n",
              "    <tr>\n",
              "      <th>282226</th>\n",
              "      <td>292755</td>\n",
              "      <td>10</td>\n",
              "    </tr>\n",
              "  </tbody>\n",
              "</table>\n",
              "<p>282227 rows × 2 columns</p>\n",
              "</div>\n",
              "      <button class=\"colab-df-convert\" onclick=\"convertToInteractive('df-11c98072-309b-4129-b844-d3b6aa03997e')\"\n",
              "              title=\"Convert this dataframe to an interactive table.\"\n",
              "              style=\"display:none;\">\n",
              "        \n",
              "  <svg xmlns=\"http://www.w3.org/2000/svg\" height=\"24px\"viewBox=\"0 0 24 24\"\n",
              "       width=\"24px\">\n",
              "    <path d=\"M0 0h24v24H0V0z\" fill=\"none\"/>\n",
              "    <path d=\"M18.56 5.44l.94 2.06.94-2.06 2.06-.94-2.06-.94-.94-2.06-.94 2.06-2.06.94zm-11 1L8.5 8.5l.94-2.06 2.06-.94-2.06-.94L8.5 2.5l-.94 2.06-2.06.94zm10 10l.94 2.06.94-2.06 2.06-.94-2.06-.94-.94-2.06-.94 2.06-2.06.94z\"/><path d=\"M17.41 7.96l-1.37-1.37c-.4-.4-.92-.59-1.43-.59-.52 0-1.04.2-1.43.59L10.3 9.45l-7.72 7.72c-.78.78-.78 2.05 0 2.83L4 21.41c.39.39.9.59 1.41.59.51 0 1.02-.2 1.41-.59l7.78-7.78 2.81-2.81c.8-.78.8-2.07 0-2.86zM5.41 20L4 18.59l7.72-7.72 1.47 1.35L5.41 20z\"/>\n",
              "  </svg>\n",
              "      </button>\n",
              "      \n",
              "  <style>\n",
              "    .colab-df-container {\n",
              "      display:flex;\n",
              "      flex-wrap:wrap;\n",
              "      gap: 12px;\n",
              "    }\n",
              "\n",
              "    .colab-df-convert {\n",
              "      background-color: #E8F0FE;\n",
              "      border: none;\n",
              "      border-radius: 50%;\n",
              "      cursor: pointer;\n",
              "      display: none;\n",
              "      fill: #1967D2;\n",
              "      height: 32px;\n",
              "      padding: 0 0 0 0;\n",
              "      width: 32px;\n",
              "    }\n",
              "\n",
              "    .colab-df-convert:hover {\n",
              "      background-color: #E2EBFA;\n",
              "      box-shadow: 0px 1px 2px rgba(60, 64, 67, 0.3), 0px 1px 3px 1px rgba(60, 64, 67, 0.15);\n",
              "      fill: #174EA6;\n",
              "    }\n",
              "\n",
              "    [theme=dark] .colab-df-convert {\n",
              "      background-color: #3B4455;\n",
              "      fill: #D2E3FC;\n",
              "    }\n",
              "\n",
              "    [theme=dark] .colab-df-convert:hover {\n",
              "      background-color: #434B5C;\n",
              "      box-shadow: 0px 1px 3px 1px rgba(0, 0, 0, 0.15);\n",
              "      filter: drop-shadow(0px 1px 2px rgba(0, 0, 0, 0.3));\n",
              "      fill: #FFFFFF;\n",
              "    }\n",
              "  </style>\n",
              "\n",
              "      <script>\n",
              "        const buttonEl =\n",
              "          document.querySelector('#df-11c98072-309b-4129-b844-d3b6aa03997e button.colab-df-convert');\n",
              "        buttonEl.style.display =\n",
              "          google.colab.kernel.accessAllowed ? 'block' : 'none';\n",
              "\n",
              "        async function convertToInteractive(key) {\n",
              "          const element = document.querySelector('#df-11c98072-309b-4129-b844-d3b6aa03997e');\n",
              "          const dataTable =\n",
              "            await google.colab.kernel.invokeFunction('convertToInteractive',\n",
              "                                                     [key], {});\n",
              "          if (!dataTable) return;\n",
              "\n",
              "          const docLinkHtml = 'Like what you see? Visit the ' +\n",
              "            '<a target=\"_blank\" href=https://colab.research.google.com/notebooks/data_table.ipynb>data table notebook</a>'\n",
              "            + ' to learn more about interactive tables.';\n",
              "          element.innerHTML = '';\n",
              "          dataTable['output_type'] = 'display_data';\n",
              "          await google.colab.output.renderOutput(dataTable, element);\n",
              "          const docLink = document.createElement('div');\n",
              "          docLink.innerHTML = docLinkHtml;\n",
              "          element.appendChild(docLink);\n",
              "        }\n",
              "      </script>\n",
              "    </div>\n",
              "  </div>\n",
              "  "
            ]
          },
          "metadata": {},
          "execution_count": 170
        }
      ]
    },
    {
      "cell_type": "code",
      "source": [
        "submission.to_csv('submission.csv', index=False)"
      ],
      "metadata": {
        "id": "TA_eFmhbpDQk"
      },
      "execution_count": null,
      "outputs": []
    },
    {
      "cell_type": "markdown",
      "source": [],
      "metadata": {
        "id": "Q0kOvYDTpIIY"
      }
    }
  ]
}